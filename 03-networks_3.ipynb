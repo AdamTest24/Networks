{
 "cells": [
  {
   "cell_type": "raw",
   "id": "3d85a545",
   "metadata": {},
   "source": [
    "---\n",
    "title: \"Networks - Applications\"\n",
    "teaching: 60\n",
    "exercises: 60\n",
    "---"
   ]
  },
  {
   "cell_type": "markdown",
   "id": "cb7f85ba",
   "metadata": {},
   "source": [
    "[**Download Chapter notebook (ipynb)**](03-networks_3.ipynb)\n",
    "\n",
    "[<span style=\"color: rgb(255, 0, 0);\">**Mandatory Lesson Feedback Survey**</span>](https://docs.google.com/forms/d/e/1FAIpQLSdr0capF7jloJhPH3Pki1B3LZoKOG16poOpuVJ7SL2LkwLHQA/viewform?pli=1)"
   ]
  },
  {
   "cell_type": "markdown",
   "id": "746afd20",
   "metadata": {},
   "source": [
    "::::::::::::::::::::::::::::::::::::: questions\n",
    "\n",
    "- What ways are there to import data into NetworkX?\n",
    "- What are the common file import error?\n",
    "- How to troubleshoot the import errors?\n",
    "\n",
    "::::::::::::::::::::::::::::::::::::::::::::::::\n",
    "\n",
    "::::::::::::::::::::::::::::::::::::: objectives\n",
    "\n",
    "- Reviewing data import\n",
    "- Understanding troubleshooting of common errors in data import\n",
    "- Handling a bipartite network\n",
    "- Applying network concepts to real-world datasets\n",
    "\n",
    "::::::::::::::::::::::::::::::::::::::::::::::::"
   ]
  },
  {
   "cell_type": "markdown",
   "id": "50310c60",
   "metadata": {},
   "source": [
    ":::::::::::::::::: prereq\n",
    "\n",
    "## Prerequisites\n",
    "\n",
    "- [Networks - Part 1](01-networks_1.Rmd)\n",
    "- [Networks - Part 2](02-networks_2.Rmd)\n",
    "::::::::::::::::::"
   ]
  },
  {
   "cell_type": "code",
   "execution_count": null,
   "id": "04ae3a45",
   "metadata": {},
   "outputs": [],
   "source": [
    "import networkx as nx\n",
    "\n",
    "from pandas import read_csv\n",
    "\n",
    "from numpy import mean, fill_diagonal\n",
    "from numpy.random import randint\n",
    "\n",
    "from matplotlib.pyplot import subplots, show"
   ]
  },
  {
   "cell_type": "markdown",
   "id": "e6671b18",
   "metadata": {},
   "source": [
    "## Importing data into NetworkX\n",
    "<p style='text-align: justify;'>\n",
    "In the previous lessons we have looked at the basics of NetworkX, created some networks, analysed various network properties, and practised these techniques with the pre-prepared _C. elegans_ dataset. If you want to use NetworkX with data of your own, you'll need to import your data in a compatible way. Specifically, you need to be able to import data from different original data formats.\n",
    "</p>\n",
    "\n",
    "### **CSV Format**\n",
    "\n",
    "`.csv` indicates a very common file format, [comma separated values](https://en.wikipedia.org/wiki/Comma-separated_values). We used it in the previous lesson to import the *C. elegans* neuronal network.\n",
    "\n",
    "<p style='text-align: justify;'>\n",
    "The network data 'celegans131matrix_50.csv' is simply a large adjacency matrix of 0s and 1s, with no further information. The 'celegans131labels_50.csv' file contains the list of neuron names, which we used to label the nodes. We'll have a look in more detail at how this import works. We use Pandas functions as a simple way to import a CSV file. (There are, of course, other ways.)\n",
    "</p>\n",
    "\n",
    "Here is the import of the data for the first 50 neurons."
   ]
  },
  {
   "cell_type": "code",
   "execution_count": null,
   "id": "28868c28",
   "metadata": {
    "lines_to_next_cell": 0
   },
   "outputs": [],
   "source": [
    "neurons=read_csv('data/celegans131matrix_50.csv', header=None, dtype = \"int\")\n",
    "\n",
    "neurons=neurons.to_numpy()\n",
    "\n",
    "print(len(neurons))"
   ]
  },
  {
   "cell_type": "markdown",
   "id": "ce5b09d4",
   "metadata": {},
   "source": [
    "<p style='text-align: justify;'>\n",
    "We import the CSV network file as before. We specify with a keyword argument that there is no header, otherwise the first line in the file will be assumed to be a header and not parsed (handled) in the same way as the rest of the data. We also specify that the adjacency matrix is of data type `int`. (This does not necessarily have to be the case, see the Microbiome network below.) We then convert the `neurons` dataframe to a Numpy array. The `neuron_Names` can be imported in a similar way. They will need to be converted from a dataframe to a dictionary:\n",
    "</p>"
   ]
  },
  {
   "cell_type": "code",
   "execution_count": null,
   "id": "a7d536ad",
   "metadata": {},
   "outputs": [],
   "source": [
    "neuron_Names = read_csv('data/celegans131labels_50.csv', header=None)\n",
    "\n",
    "neuronNames = neuron_Names.to_dict()\n",
    "\n",
    "neuronLabels = neuronNames[0]\n",
    "\n",
    "print(neuronLabels)"
   ]
  },
  {
   "cell_type": "markdown",
   "id": "57a08e21",
   "metadata": {},
   "source": [
    "<p style='text-align: justify;'>\n",
    "Dictionaries associate keys with values.  You may remember we previously created a dictionary to assign labels to nodes. Here we convert the `neuron_Names` dataframe into a dictionary: the neuron (node) indices are the keys and the corresponding neuron (node) names are the values. As the function `to_dict` wraps the dictionary within a dictionary, we obtain the plain labels dictionary by referring to index '0'.\n",
    "</p>\n",
    "\n",
    "Now we can create a graph, specify a layout, and plot the network."
   ]
  },
  {
   "cell_type": "code",
   "execution_count": null,
   "id": "60b2db47",
   "metadata": {},
   "outputs": [],
   "source": [
    "neuronGraph = nx.from_numpy_matrix(neurons)\n",
    "\n",
    "neuronLayout = nx.random_layout(neuronGraph, seed=123)\n",
    "\n",
    "nx.draw_networkx(neuronGraph, neuronLayout,\n",
    "        node_size=1000,\n",
    "        labels = neuronLabels)\n",
    "\n",
    "show()"
   ]
  },
  {
   "cell_type": "markdown",
   "id": "b3d656ce",
   "metadata": {},
   "source": [
    "<p style='text-align: justify;'>\n",
    "In this particular case, we also have other metadata that can be used for visualisation and analysis. In our case, we have the file 'celegans131positions_50.csv' - which contains information on how the nodes relate to each other in 2-D space. We can include this information to replace the layout.\n",
    "</p>"
   ]
  },
  {
   "cell_type": "code",
   "execution_count": null,
   "id": "8c78929a",
   "metadata": {},
   "outputs": [],
   "source": [
    "neuronPos = read_csv('data/celegans131positions_50.csv', header=None)\n",
    "\n",
    "neuronPositions = neuronPos.values\n",
    "\n",
    "nx.draw(neuronGraph, neuronPositions,\n",
    "        node_size=1000,\n",
    "        labels = neuronLabels)\n",
    "\n",
    "show()"
   ]
  },
  {
   "cell_type": "markdown",
   "id": "3f56e616",
   "metadata": {
    "lines_to_next_cell": 0
   },
   "source": [
    "The two BAG nodes to the right of the display are the (right and left) [sensory neurons used to monitor oxygen and carbon dioxide](https://www.wormatlas.org/neurons/Individual%20Neurons/BAGframeset.html).\n",
    "\n",
    "::::::::::::::::::::::::::::::: challenge\n",
    "\n",
    "## Do it Yourself\n",
    "\n",
    "Find the node indices of the sensory neurons named 'BAGL' and 'BAGR'.\n",
    "\n",
    "::::::::::::::::: solution\n",
    "\n",
    "## DIY ANSWER"
   ]
  },
  {
   "cell_type": "code",
   "execution_count": null,
   "id": "5d727e87",
   "metadata": {},
   "outputs": [],
   "source": [
    "for ind, name in enumerate(neuronLabels.values()):\n",
    "\n",
    "    if 'BAG' in name:\n",
    "\n",
    "        print(ind, neuronLabels[ind])"
   ]
  },
  {
   "cell_type": "markdown",
   "id": "a85e3985",
   "metadata": {},
   "source": [
    ":::::::::::::::::\n",
    "\n",
    ":::::::::::::::::::::::::::::::"
   ]
  },
  {
   "cell_type": "markdown",
   "id": "0e8813dd",
   "metadata": {},
   "source": [
    "### **Networks Repository: List of Edges**\n",
    "<p style='text-align: justify;'>\n",
    "Network files in the [Network Repository](http://networkrepository.com/index.php) are sourced from publications and provided in the '.edges' format. These are plain text files. Let's have a look at the network of a mouse visual cortex. You can find this at [MOUSE-VISUAL-CORTEX-1](http://networkrepository.com/bn-mouse-visual-cortex-1.php). You can either download the zip file from the database or use the file provided for this Lesson.\n",
    "</p>\n",
    "<p style='text-align: justify;'>\n",
    "Place the file 'bn-mouse_visual-cortex_1.edges' in your working directory. It can be helpful to first open it in any text-editor to see what the data look like. In this case, it is a list of two numbers per row, separated by a space. This is the list of (directed) edges. The first number indicating 'from', the second 'to'. Nodes are not given explicitly but will be inferred from the indices.\n",
    "</p>\n",
    "Being a list of edges, we can import it into NetworkX as an _edgelist_, specifying that the nodes are given as integers. The result is a standard graph object which we can plot using `draw`."
   ]
  },
  {
   "cell_type": "code",
   "execution_count": null,
   "id": "87b05e29",
   "metadata": {},
   "outputs": [],
   "source": [
    "MouseCortex = nx.read_edgelist(\"data/bn-mouse_visual-cortex_1.edges\", nodetype=int)\n",
    "\n",
    "MouseCortexLayout = nx.random_layout(MouseCortex, seed=111)\n",
    "\n",
    "nx.draw(MouseCortex, MouseCortexLayout,\n",
    "        node_size=1000,\n",
    "        node_color='r',\n",
    "        with_labels=True)\n",
    "\n",
    "show()"
   ]
  },
  {
   "cell_type": "markdown",
   "id": "6dee91d3",
   "metadata": {},
   "source": [
    "To interpret the network, you can check it against the source, [MOUSE-VISUAL-CORTEX-1](http://networkrepository.com/bn-mouse-visual-cortex-1.php).\n",
    "\n",
    "::::::::::::::::::::::::::::::: challenge\n",
    "\n",
    "## Do it Yourself\n",
    "\n",
    "Network Repository provides some summary data on all their networks. Obtain the (i) number of nodes, (ii) number of edges, and (iii) average clustering coefficient and compare it to the data in [their network summary](https://networkrepository.com/bn-mouse-visual-cortex-1.php).\n"
   ]
  },
  {
   "cell_type": "markdown",
   "id": "1cb995c3",
   "metadata": {
    "lines_to_next_cell": 0
   },
   "source": [
    "::::::::::::::::: solution\n",
    "\n",
    "## DIY ANSWER"
   ]
  },
  {
   "cell_type": "code",
   "execution_count": null,
   "id": "e6d0d33f",
   "metadata": {
    "results": "hold"
   },
   "outputs": [],
   "source": [
    "print('Number of nodes:', len(MouseCortex))\n",
    "print('')\n",
    "print('Number of edges:', len(MouseCortex.edges))\n",
    "print('')\n",
    "print('Average clustering coefficient:', mean(list(nx.clustering(MouseCortex).values())))"
   ]
  },
  {
   "cell_type": "markdown",
   "id": "27186340",
   "metadata": {},
   "source": [
    ":::::::::::::::::\n",
    "\n",
    ":::::::::::::::::::::::::::::::"
   ]
  },
  {
   "cell_type": "markdown",
   "id": "0eff76c3",
   "metadata": {},
   "source": [
    "### **JSON Format**\n",
    "<p style='text-align: justify;'>\n",
    "[JSON (JavaScript Object Notation)](https://en.wikipedia.org/wiki/JSON) is an open standard file format which is language independent and widely used. Here is an example code to import and display the network that contains [co-occurances of characters in Victor Hugo's novel 'Les Misérables'](http://konect.cc/networks/moreno_lesmis/).\n",
    "</p>"
   ]
  },
  {
   "cell_type": "code",
   "execution_count": null,
   "id": "20bf826b",
   "metadata": {},
   "outputs": [],
   "source": [
    "import json\n",
    "\n",
    "with open('data/miserables.json', 'r') as myfile:\n",
    "\n",
    "    data=myfile.read()\n",
    "\n",
    "\n",
    "miserables = json.loads(data)\n",
    "\n",
    "miserablesNetwork = nx.json_graph.node_link_graph(miserables)\n",
    "\n",
    "miserablesNetworkLayout = nx.circular_layout(miserablesNetwork)\n",
    "\n",
    "fig, ax = subplots(figsize=(12,12))\n",
    "\n",
    "nx.draw(miserablesNetwork, miserablesNetworkLayout,\n",
    "        node_size=3000,\n",
    "        with_labels=True)\n",
    "\n",
    "fig.tight_layout()\n",
    "\n",
    "show()"
   ]
  },
  {
   "cell_type": "markdown",
   "id": "1ce0a0ab",
   "metadata": {},
   "source": [
    "As you can see, the 'data' variable contains the character names as node names.\n",
    "\n",
    "If you are curious, open the file with a text editor and check the entries.\n",
    "\n",
    "E.g. our file starts like this:\n",
    "\n",
    "```\n",
    "{\n",
    "\n",
    "  \"nodes\": [\n",
    "\n",
    "    {\"id\": \"Myriel\", \"group\": 1},\n",
    "```\n",
    "<p style='text-align: justify;'>\n",
    "As you can see, the style with curly brackets and colons immediately suggests the use of associative arrays (dictionary) once the data are within Python. The function `node_link_graph` provides an interface to handle the data as a NetworkX graph.\n",
    "</p>\n",
    "<p style='text-align: justify;'>\n",
    "There are many other files formats that contain network data. For a list of NetworkX functions that allow import from and export to other file formats, see [Reading and writing graphs](http://localhost:8888/lab/tree/Dropbox/Lessons_NetworkX).\n",
    "</p>\n",
    "\n",
    "## NetworkX troubleshooting\n",
    "\n",
    "There are many errors that may occur in the context of dealing with network data.  We exemplify some common problems, to help find out how to diagnose and solve them.\n",
    "\n",
    "### **FileNotFoundError**\n",
    "\n",
    "Here we try to import a CSV file which contains an adjacency matrix. We have checked that the file is present in the working directory."
   ]
  },
  {
   "cell_type": "code",
   "execution_count": null,
   "id": "8ef75971",
   "metadata": {},
   "outputs": [],
   "source": [
    "neurons = read_csv('data/celegans131mtrix_50.csv', header=None, dtype=\"float64\")"
   ]
  },
  {
   "cell_type": "markdown",
   "id": "00eda3b5",
   "metadata": {},
   "source": [
    "::::::::::::::::::::::::::::::: challenge\n",
    "\n",
    "## Do it Yourself"
   ]
  },
  {
   "cell_type": "markdown",
   "id": "d41c32b9",
   "metadata": {},
   "source": [
    "What has gone wrong, and what is the solution?\n",
    "\n",
    "::::::::::::::::: solution\n",
    "## DIY ANSWER\n",
    "You'll see this error if something has gone wrong in the way you've instructed Python to find your file. This may be that you've mis-typed the file name, or the file isn't in your working directory. Here, the file is present in the working directory, but there's a typo in the file name."
   ]
  },
  {
   "cell_type": "code",
   "execution_count": null,
   "id": "adee22b5",
   "metadata": {},
   "outputs": [],
   "source": [
    "neurons = read_csv('data/celegans131matrix_50.csv', header=None, dtype='int')"
   ]
  },
  {
   "cell_type": "markdown",
   "id": "4517d312",
   "metadata": {},
   "source": [
    ":::::::::::::::::\n",
    "\n",
    ":::::::::::::::::::::::::::::::\n",
    "\n",
    "### **KeyError**\n",
    "\n",
    "Here we generate a random adjacency matrix, specify how it should be plotted, and try to visualise it."
   ]
  },
  {
   "cell_type": "code",
   "execution_count": null,
   "id": "e27f4c9c",
   "metadata": {
    "results": "hold"
   },
   "outputs": [],
   "source": [
    "rm = randint(0, 2, size=(5, 5))\n",
    "\n",
    "thisgraph = nx.from_numpy_matrix(rm)\n",
    "\n",
    "thisgraphLayout = nx.spiral_layout(thisgraph)\n",
    "\n",
    "thisgraphLabels = {\n",
    "    0: 'A',\n",
    "    1: 'B',\n",
    "    2: 'C',\n",
    "    3: 'D',\n",
    "    4: 'E',\n",
    "    5: 'F',\n",
    "}\n",
    "\n",
    "nx.draw(thisgraph, thisgraphLayout,\n",
    "        labels=thisgraphLabels)\n",
    "\n",
    "show()\n"
   ]
  },
  {
   "cell_type": "markdown",
   "id": "c99f9b45",
   "metadata": {},
   "source": [
    "::::::::::::::::::::::::::::::: challenge\n",
    "\n",
    "## Do it Yourself\n",
    "\n",
    " Why does the call of `draw` throw an error, and what is the solution?\n",
    "\n",
    "::::::::::::::::: solution\n",
    "## DIY ANSWER\n",
    "If you look at the error message, it first flags **5: 'F',**, and ends with an error about labels. We've included too many node labels: 6 labels for five nodes. This is easily corrected by taking one label out."
   ]
  },
  {
   "cell_type": "code",
   "execution_count": null,
   "id": "790bce30",
   "metadata": {
    "lines_to_next_cell": 0,
    "results": "hold"
   },
   "outputs": [],
   "source": [
    "rm = randint(0, 2, size=(5, 5))\n",
    "\n",
    "thisgraph = nx.from_numpy_matrix(rm)\n",
    "\n",
    "thisgraphLayout = nx.spiral_layout(thisgraph)\n",
    "\n",
    "thisgraphLabels = {\n",
    "    0: 'A',\n",
    "    1: 'B',\n",
    "    2: 'C',\n",
    "    3: 'D',\n",
    "    4: 'E',\n",
    "}\n",
    "\n",
    "nx.draw(thisgraph, thisgraphLayout,\n",
    "        node_size=1000,\n",
    "        node_color='tomato',\n",
    "        labels=thisgraphLabels)\n",
    "\n",
    "show()"
   ]
  },
  {
   "cell_type": "markdown",
   "id": "ef472459",
   "metadata": {},
   "source": [
    ":::::::::::::::::\n",
    "\n",
    ":::::::::::::::::::::::::::::::\n",
    "\n",
    "### **Graph is not bipartite**\n",
    "\n",
    "Here we generate a bipartite graph and try to plot it."
   ]
  },
  {
   "cell_type": "code",
   "execution_count": null,
   "id": "cea7fac9",
   "metadata": {
    "results": "hold"
   },
   "outputs": [],
   "source": [
    "thisBipartite = nx.Graph()\n",
    "\n",
    "# Add nodes with the node attribute \"bipartite\"\n",
    "thisBipartite.add_nodes_from(['a', 'b', 'c', 'd', 'e', 'f'], bipartite=0)\n",
    "thisBipartite.add_nodes_from(['m', 'n', 'o', 'p', 'q', 'r'], bipartite=1)\n",
    "\n",
    "# Add edges only between nodes of opposite node sets\n",
    "thisBipartite.add_edges_from([('a', 'm'), ('a', 'n'),\n",
    "                              ('b', 'n'), ('b', 'o'),\n",
    "                              ('c', 'o'), ('d', 'm'),\n",
    "                              ('a', 'p'), ('a', 'd'),\n",
    "                              ('f', 'p'), ('d', 'r'),\n",
    "                              ('a', 'q'), ('e', 'n')])\n"
   ]
  },
  {
   "cell_type": "code",
   "execution_count": null,
   "id": "6ffe48cb",
   "metadata": {},
   "outputs": [],
   "source": [
    "nx.is_connected(thisBipartite)\n"
   ]
  },
  {
   "cell_type": "code",
   "execution_count": null,
   "id": "c6aebb2d",
   "metadata": {
    "results": "hold"
   },
   "outputs": [],
   "source": [
    "basegroup = nx.bipartite.sets(thisBipartite)[0]\n",
    "\n",
    "bipartiteLayout = nx.bipartite_layout(thisBipartite, basegroup)\n",
    "\n",
    "nx.draw(thisBipartite, bipartiteLayout,\n",
    "        node_size=2000,\n",
    "        with_labels=True)\n",
    "show()"
   ]
  },
  {
   "cell_type": "markdown",
   "id": "684fba5f",
   "metadata": {},
   "source": [
    "::::::::::::::::::::::::::::::: challenge\n",
    "\n",
    "## Do it Yourself"
   ]
  },
  {
   "cell_type": "markdown",
   "id": "006e9a08",
   "metadata": {},
   "source": [
    "Why did this happen, what check can you do to avoid the problem, and how do you debug it?\n",
    "\n",
    "::::::::::::::::: solution\n",
    "## DIY ANSWER\n",
    "In this instance, the error message is very clear: you can't plot a graph with a bipartite layout if the graph isn't bipartite. This would have also been evident if I hadn't just checked that the graph was connected, but also that it was bipartite."
   ]
  },
  {
   "cell_type": "code",
   "execution_count": null,
   "id": "69085617",
   "metadata": {},
   "outputs": [],
   "source": [
    "nx.bipartite.is_bipartite(thisBipartite)"
   ]
  },
  {
   "cell_type": "markdown",
   "id": "abd02b1a",
   "metadata": {},
   "source": [
    "There is one edge connecting two nodes within one group. If we either remove that edge, or change one of the nodes to the other group, it will be bipartite."
   ]
  },
  {
   "cell_type": "code",
   "execution_count": null,
   "id": "373ca220",
   "metadata": {
    "results": "hold"
   },
   "outputs": [],
   "source": [
    "thisBipartite = nx.Graph()\n",
    "\n",
    "# Add nodes with the node attribute \"bipartite\"\n",
    "thisBipartite.add_nodes_from(['a', 'b', 'c', 'd', 'e', 'f'], bipartite=0)\n",
    "thisBipartite.add_nodes_from(['m', 'n', 'o', 'p', 'q', 'r'], bipartite=1)\n",
    "\n",
    "# Add edges only between nodes of opposite node sets\n",
    "thisBipartite.add_edges_from([('a', 'm'), ('a', 'n'),\n",
    "                              ('b', 'n'), ('b', 'o'),\n",
    "                              ('c', 'o'), ('d', 'm'),\n",
    "                              ('a', 'p'), ('a', 'n'),\n",
    "                              ('f', 'p'), ('d', 'r'),\n",
    "                              ('a', 'q'), ('e', 'n')])\n"
   ]
  },
  {
   "cell_type": "code",
   "execution_count": null,
   "id": "2a0f0ad5",
   "metadata": {},
   "outputs": [],
   "source": [
    "nx.bipartite.is_bipartite(thisBipartite)"
   ]
  },
  {
   "cell_type": "code",
   "execution_count": null,
   "id": "1669cd44",
   "metadata": {
    "results": "hold"
   },
   "outputs": [],
   "source": [
    "basegroup = nx.bipartite.sets(thisBipartite)[0]\n",
    "\n",
    "bipartiteLayout = nx.bipartite_layout(thisBipartite, basegroup)\n",
    "\n",
    "fig = nx.draw(thisBipartite, bipartiteLayout,\n",
    "              node_size=2000,\n",
    "              node_color='tomato',\n",
    "              node_shape='h',\n",
    "              with_labels=True)\n",
    "\n",
    "show()"
   ]
  },
  {
   "cell_type": "markdown",
   "id": "f9955fd3",
   "metadata": {},
   "source": [
    ":::::::::::::::::\n",
    "\n",
    ":::::::::::::::::::::::::::::::\n",
    "\n",
    "## Example: Full _C. elegans_ Neural Network\n",
    "\n",
    "In the final part, we look at two publicly available networks that are of biomedical interest.\n",
    "\n",
    "<p style='text-align: justify;'>\n",
    "In this first example we return to data about the neuronal connections in _C. elegans_. This time we are using the full 277 neuron dataset, which includes  131 frontal neurons. For the original version of the data, go to the ([Dynamic Connectome](https://www.dynamic-connectome.org/)) website and select the Resources tab.\n",
    "</p>\n",
    "<p style='text-align: justify;'>\n",
    "The data in the $277 \\times 277$ network matrix in the celegans277.zip file contain the connections between the 131 neurons in the frontal network, and 146 in the remainder or the network. If the connections _within_ each of these groups are severed, and the only remaining edges are between the two groups, this takes the form of a _bipartite graph_.\n",
    "</p>\n",
    "<p style='text-align: justify;'>\n",
    "We have made available this modified version of the 277 neuron matrix, with no edges within the 131 or the 146 neuron group, see file 'celegans277matrix_bipartite.csv'. Note that bipartite networks do not work in NetworkX if any of the nodes are not connected. Also available for download is a list of neuron labels and spatial positions, files 'celegans277labels.csv' and 'celegans277positions.csv'.\n",
    "</p>"
   ]
  },
  {
   "cell_type": "code",
   "execution_count": null,
   "id": "a2553bce",
   "metadata": {},
   "outputs": [],
   "source": [
    "neurons = read_csv('data/celegans277matrix_bipartite.csv', header=None, dtype=\"int\")\n",
    "\n",
    "neuronNames = read_csv('data/celegans277labels.csv', header=None)\n",
    "\n",
    "neurons= neurons.to_numpy()\n",
    "\n",
    "neuronNames= neuronNames.to_dict()\n",
    "\n",
    "myBipartiteLabels = neuronNames[0]\n",
    "\n",
    "myBipartite = nx.from_numpy_matrix(neurons)"
   ]
  },
  {
   "cell_type": "markdown",
   "id": "dbb1ab50",
   "metadata": {},
   "source": [
    "<p style='text-align: justify;'>\n",
    "Here we import the bipartite module from NetworkX, and then import the bipartite 277 neuron adjacency matrix and list of neuron names, with the same method as previously. Next, we use the bipartite convention in NetworkX to designate which nodes are in the $0$ group, and which are in the $1$ group. There are several ways to make a graph bipartite, here this is done by listing the node numbers of the 146 neurons and adding the attribute $'bipartite' = 0$, and listing the node numbers of the 131 neurons and adding the attribute $'bipartite' = 1$.\n",
    "</p>"
   ]
  },
  {
   "cell_type": "code",
   "execution_count": null,
   "id": "4d4fc56d",
   "metadata": {},
   "outputs": [],
   "source": [
    "myBipartite.add_nodes_from([\n",
    "  0,   1,   2,   3,  13,  14,  17,  21,  22,  23,  24,  25,\n",
    " 26,  27,  28,  29,  30,  31,  32,  33,  34,  35,  36,  59,\n",
    " 60,  61,  66,  67,  69,  78,  79,  84,  85,  86,  87,  88,\n",
    " 89,  90,  91,  92,  93,  94,  95,  96,  97,  98,  99, 100,\n",
    "101, 102, 103, 104, 105, 106, 107, 108, 109, 110, 111, 112,\n",
    "125, 126, 133, 134, 135, 136, 137, 138, 139, 140, 141, 142,\n",
    "143, 144, 145, 146, 147, 148, 149, 150, 151, 152, 153, 154,\n",
    "155, 156, 157, 158, 159, 160, 161, 162, 170, 171, 172, 173,\n",
    "180, 195, 196, 203, 204, 205, 206, 207, 235, 236, 237, 238,\n",
    "239, 240, 241, 242, 243, 244, 245, 246, 247, 248, 249, 250,\n",
    "251, 252, 253, 254, 255, 256, 257, 258, 259, 260, 261, 262,\n",
    "263, 264, 265, 266, 267, 268, 269, 270, 271, 272, 273, 274,\n",
    "275, 276], bipartite=0)\n",
    "\n",
    "myBipartite.add_nodes_from([\n",
    "  4,   5,   6,   7,   8,   9,  10,  11,  12,  15,  16,\n",
    " 18,  19,  20,  37,  38,  39,  40,  41,  42,  43,  44,\n",
    " 45,  46,  47,  48,  49,  50,  51,  52,  53,  54,  55,\n",
    " 56,  57,  58,  62,  63,  64,  65,  68,  70,  71,  72,\n",
    " 73,  74,  75,  76,  77,  80,  81,  82,  83, 113, 114,\n",
    "115, 116, 117, 118, 119, 120, 121, 122, 123, 124, 127,\n",
    "128, 129, 130, 131, 132, 163, 164, 165, 166, 167, 168,\n",
    "169, 174, 175, 176, 177, 178, 179, 181, 182, 183, 184,\n",
    "185, 186, 187, 188, 189, 190, 191, 192, 193, 194, 197,\n",
    "198, 199, 200, 201, 202, 208, 209, 210, 211, 212, 213,\n",
    "214, 215, 216, 217, 218, 219, 220, 221, 222, 223, 224,\n",
    "225, 226, 227, 228, 229, 230, 231, 232, 233, 234], bipartite=1)"
   ]
  },
  {
   "cell_type": "markdown",
   "id": "ef022641",
   "metadata": {},
   "source": [
    "We can confirm that the network is bipartite."
   ]
  },
  {
   "cell_type": "code",
   "execution_count": null,
   "id": "c58fd43a",
   "metadata": {},
   "outputs": [],
   "source": [
    "nx.bipartite.is_bipartite(myBipartite)"
   ]
  },
  {
   "cell_type": "markdown",
   "id": "d301eaa4",
   "metadata": {},
   "source": [
    "Next, we continue to use the bipartite convention introduced above to define the two bipartite groups, and set up a custom colouring list by group."
   ]
  },
  {
   "cell_type": "code",
   "execution_count": null,
   "id": "8d2221be",
   "metadata": {
    "results": "hold"
   },
   "outputs": [],
   "source": [
    "top = nx.bipartite.sets(myBipartite)[0]\n",
    "pos = nx.bipartite_layout(myBipartite, top)\n",
    "\n",
    "color_dictionary = {0:'gold',1:'lavender'}\n",
    "\n",
    "color_list = [color_dictionary[i[1]] for i in myBipartite.nodes.data('bipartite')]\n",
    "\n",
    "fig, ax = subplots(figsize=(10, 30))\n",
    "\n",
    "nx.draw(myBipartite, pos,\n",
    "        node_size=1200,\n",
    "        labels=myBipartiteLabels,\n",
    "        node_color=color_list)\n",
    "show()"
   ]
  },
  {
   "cell_type": "markdown",
   "id": "bf86d7e7",
   "metadata": {},
   "source": [
    "The graph shows in a preliminary way that there are certain preferred connections between the two sets, in this case between the frontal group and the rest of the neurons.\n",
    "\n",
    "::::::::::::::::::::::::::::::: challenge\n",
    "\n",
    "## Do it Yourself\n",
    "\n",
    "Draw the bipartite neural network, coloured by group and positioned using the positional information from Dynamic Connectome in the file 'celegans277positions.csv'.\n",
    "\n",
    "::::::::::::::::: solution\n",
    "## DIY ANSWER\n",
    "The 2D positions are contained in the file 'celegans277positions.csv'. After the import of the file, they can be extracted into a variable using `values`. The positions then need to replace the original layout values (called 'pos' above)."
   ]
  },
  {
   "cell_type": "code",
   "execution_count": null,
   "id": "a9f72577",
   "metadata": {
    "lines_to_next_cell": 0
   },
   "outputs": [],
   "source": [
    "neuronPos = read_csv('data/celegans277positions.csv', header=None)\n",
    "\n",
    "neuronPositions = neuronPos.values\n",
    "\n",
    "fig, ax = subplots(figsize=(10, 20))\n",
    "\n",
    "nx.draw(myBipartite, neuronPositions,\n",
    "        node_size=3000,\n",
    "        labels=myBipartiteLabels,\n",
    "        node_color=color_list)\n",
    "\n",
    "fig.tight_layout()\n",
    "\n",
    "show()"
   ]
  },
  {
   "cell_type": "markdown",
   "id": "988aea4d",
   "metadata": {},
   "source": [
    ":::::::::::::::::\n",
    "\n",
    ":::::::::::::::::::::::::::::::\n",
    "\n",
    "## Example: Microbiome network\n",
    "<p style='text-align: justify;'>\n",
    "Microbiome data can be collected from a wide variety of environments, and is generally considered to be the bacterial, fungal, and viral components of a given environment. [Friedman and Alm (2012)](https://doi.org/10.1371/journal.pcbi.1002687) used data from the [Human Microbiome Project](https://www.nature.com/articles/nature11209) to calculate pairwise interaction correlations for each operational taxonomic unit (OTU). They then used Python and NetworkX to analyse and visualise several of these correlation datasets for each human body site. The challenge here is to extract network information about a graph from bivariate quantities like the correlation coefficient.\n",
    "</p>\n",
    "\n",
    "![](fig/microbiomenetworks.png)\n",
    "As the correlation data are open access, we can access them and derive the network.\n",
    "<p style='text-align: justify;'>\n",
    "Data are imported from text files. In this case, it is not a CSV file. Rather, the data are tab separated. We can adjust for this by specifying the keyword argument `delimiter` for tab. As the correlation coefficients are stored as decimal point numbers, we specify the keyword argument `dtype` as floating point 'float64'.\n",
    "</p>\n",
    "<p style='text-align: justify;'>\n",
    "If you check the file, you will see that the first entry is '1.0'. This is because all self-correlations are (trivially) equal to one. We replace those diagonal values with 0 to avoid (nonsensical) self-connections in the network. </p>"
   ]
  },
  {
   "cell_type": "code",
   "execution_count": null,
   "id": "2ae78215",
   "metadata": {},
   "outputs": [],
   "source": [
    "gutbact      = read_csv('data/Stool_sparse_adj_matrix.txt',\n",
    "                        header=None, delimiter='\\t', dtype=\"float64\")\n",
    "\n",
    "gutbactNames = read_csv('data/Stool_sparse_matrix_names.txt',\n",
    "                        header=None)\n",
    "\n",
    "gutbact= gutbact.to_numpy()\n",
    "\n",
    "fill_diagonal(gutbact, 0)\n",
    "\n",
    "gutbactNames= gutbactNames.to_dict()\n",
    "\n",
    "gutbactLabels = gutbactNames[0]"
   ]
  },
  {
   "cell_type": "code",
   "execution_count": null,
   "id": "24724255",
   "metadata": {},
   "outputs": [],
   "source": [
    "gutbactGraph = nx.from_numpy_matrix(gutbact)\n",
    "\n",
    "gutbactLayout = nx.circular_layout(gutbactGraph)\n",
    "\n",
    "fig, ax = subplots(figsize=(16,16))\n",
    "\n",
    "nx.draw(gutbactGraph, gutbactLayout,\n",
    "        node_size=3000,\n",
    "        node_color='r',\n",
    "        labels=gutbactLabels)\n",
    "\n",
    "show()"
   ]
  },
  {
   "cell_type": "markdown",
   "id": "8b9ce80c",
   "metadata": {},
   "source": [
    "<p style='text-align: justify;'>\n",
    "This gives us the correlation network from the stool samples, with nodes labelled by the OTU number. However, this doesn't look much like the data from the article, partly as there are so many edges. The reason is that any number in the network matrix that is not equal to zero is interpreted as an edge. Thus, essentially the graph is fully connected.\n",
    "</p>\n",
    "\n",
    "### **Functional Networks**\n",
    "<p style='text-align: justify;'>\n",
    "In the paper, Friedman and Alm (2012), the edges are taken from the correlation coefficients of the correlation matrix. I.e. they define the correlation matrix as a network matrix. But the entries of the correlation matrix are not 0s and 1s as we have used so far. Instead they are real numbers between -1 and 1.  What Friedman and Alm did to obtain meaningful edges was to pick a threshold correlation, e.g. $|cc| = 0.3$ and set any matrix entry with absolute value smaller than the threshold as 0. All other values are left as they are. Because anything non-zero will be interpreted as an edge, this means that they only plot edges where the correlation coefficient is greater than 0.3 or less than -0.3. Such networks are referred to as _functional networks_.\n",
    "</p>\n",
    "<p style='text-align: justify;'>\n",
    "To threshold the correlation matrix in Python, we select matrix values between -0.3 and 0.3, and replace them with 0. Then we convert this thresholded network matrix to a graph and plot it.\n",
    "</p>"
   ]
  },
  {
   "cell_type": "code",
   "execution_count": null,
   "id": "bd50cdf6",
   "metadata": {},
   "outputs": [],
   "source": [
    "from numpy import where, logical_and\n",
    "\n",
    "threshold = 0.3\n",
    "\n",
    "gutbact_threshold = where(logical_and(gutbact>=-threshold , gutbact<=threshold), 0, gutbact)\n"
   ]
  },
  {
   "cell_type": "code",
   "execution_count": null,
   "id": "553d55b5",
   "metadata": {},
   "outputs": [],
   "source": [
    "gutbactGraph = nx.from_numpy_matrix(gutbact_threshold)\n",
    "\n",
    "fig, ax = subplots(figsize=(16,16))\n",
    "\n",
    "nx.draw(gutbactGraph, gutbactLayout,\n",
    "        node_size=3000,\n",
    "        node_color='r',\n",
    "        labels=gutbactLabels)\n",
    "\n",
    "show()"
   ]
  },
  {
   "cell_type": "markdown",
   "id": "190ec2e8",
   "metadata": {},
   "source": [
    "<p style='text-align: justify;'>\n",
    "This network only displays edges where strong correlations were found and this is how Friedman and Alm obtained their graphs. Note that the network structure now is a function of the chosen threshold. Smaller thresholds yield more edges, higher thresholds fewer edges. Choosing the right threshold may be difficult and needs further thought.\n",
    "</p>\n",
    "<p style='text-align: justify;'>\n",
    "The creation of networks from functional data opens a wide field of research: _any_ interrelation matrix obtained with whatever metric can be interpreted as a network matrix and converted into a graph. As an example, see Figure 1 in [The Brain as a Complex System: Using Network Science as a Tool for Understanding the Brain](https://www.ncbi.nlm.nih.gov/pmc/articles/PMC3621511/) which describes the procedure for brain imaging.\n",
    "</p>\n",
    "<p style='text-align: justify;'>\n",
    "This concludes our set of Lessons on network handling in Python. For practice, try to find a database that touches on topics of your own interest. As an example, in the context of the human brain, there is a rich database at the [Human Connectome Database](http://www.humanconnectomeproject.org/data/). Each database will present its own challenges and obstacles. Nevertheless, it is worth to overcome those to be able to work with the data in Python. Eventually, all functions and dysfunctions observed in living systems are a consequence of interactions between components.\n",
    "</p>\n",
    "\n",
    "::::::::::::::::::::::::::::::::::::: keypoints\n",
    "\n",
    "- `.csv` is a common file format when importing network data.\n",
    "- `JSON` is another widely used standard file format which is language independent.\n",
    "- `FileNotFoundError`, `KeyError` and `Graph is not bipartite` are the most common file import errors.\n",
    "\n",
    "::::::::::::::::::::::::::::::::::::::::::::::::"
   ]
  },
  {
   "cell_type": "markdown",
   "id": "bea02d93",
   "metadata": {},
   "source": [
    "[r-markdown]: https://rmarkdown.rstudio.com/"
   ]
  }
 ],
 "metadata": {
  "jupytext": {
   "cell_metadata_filter": "results,-all",
   "main_language": "python",
   "notebook_metadata_filter": "-all"
  }
 },
 "nbformat": 4,
 "nbformat_minor": 5
}
