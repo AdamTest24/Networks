{
 "cells": [
  {
   "cell_type": "raw",
   "id": "07e757cb",
   "metadata": {
    "lines_to_next_cell": 0
   },
   "source": [
    "---\n",
    "title: \"Networks - Part 3\"\n",
    "teaching: 60\n",
    "exercises: 60\n",
    "---"
   ]
  },
  {
   "cell_type": "markdown",
   "id": "ef8db3f6",
   "metadata": {},
   "source": [
    "[**Download Chapter pdf**](03-networks_3.md.pdf)\n",
    "\n",
    "[**Download Chapter notebook (ipynb)**](03-networks_3.ipynb)\n",
    "\n",
    "[<span style=\"color: rgb(255, 0, 0);\">**Mandatory Lesson Feedback Survey**</span>](https://docs.google.com/forms/d/e/1FAIpQLSdr0capF7jloJhPH3Pki1B3LZoKOG16poOpuVJ7SL2LkwLHQA/viewform?pli=1)\n"
   ]
  },
  {
   "cell_type": "markdown",
   "id": "69f3be51",
   "metadata": {},
   "source": [
    "- What are different ways of importing data in NetworkX?\n",
    "- What are the common file import error?\n",
    "- How to troubleshoot the import errors?\n"
   ]
  },
  {
   "cell_type": "markdown",
   "id": "12af7830",
   "metadata": {},
   "source": [
    "- Reviewing data import \n",
    "- Understanding troubleshooting of common errors in data import\n",
    "- Applying network concepts to real-world datasets\n",
    "\n"
   ]
  },
  {
   "cell_type": "markdown",
   "id": "66b7ac7c",
   "metadata": {},
   "source": [
    "## Prerequisites\n",
    "\n",
    "- [Networks - Part 1](01-networks_1.Rmd)\n",
    "- [Networks - Part 2](02-networks_2.Rmd)\n",
    "\n",
    "\n",
    "\n"
   ]
  },
  {
   "cell_type": "code",
   "execution_count": null,
   "id": "884830f5",
   "metadata": {},
   "outputs": [],
   "source": [
    "import networkx as nx\n",
    "\n",
    "from pandas import read_csv\n",
    "\n",
    "from numpy import mean, fill_diagonal\n",
    "from numpy.random import randint\n",
    "\n",
    "from matplotlib.pyplot import subplots, show"
   ]
  },
  {
   "cell_type": "markdown",
   "id": "ac913e9e",
   "metadata": {},
   "source": [
    "## Importing data into NetworkX\n",
    "<p style='text-align: justify;'> \n",
    "In the previous two lessons we have looked at the basics of NetworkX, created some networks, analysed various properties of networks, and practised these techniques with the pre-prepared _C. elegans_ dataset. If you want to use NetworkX with data of your own, you'll need to import your data in a compatible way. Specifically, you need to be able to import data from different original data formats.\n",
    "</p>\n",
    "\n",
    "### **CSV Format**\n",
    "\n",
    "'.csv' indicates a very common file format, [comma separated values](https://en.wikipedia.org/wiki/Comma-separated_values). We used it in the previous lesson to import the simplified *C. elegans* neuronal network.\n",
    "\n",
    "<p style='text-align: justify;'>\n",
    "The network data 'celegans131matrix_50.csv' is simply a large adjacency matrix of 0s and 1s, with no further information. The 'celegans131labels_50.csv' file contains the list of neuron names, which we used to label the nodes. We'll have a look in more detail at how this import works. We use Pandas functions as a simple way to import a CSV file. (There are of course other ways.)\n",
    "</p>\n",
    "\n",
    "Here is the import of the data for the first 50 neurons.\n"
   ]
  },
  {
   "cell_type": "code",
   "execution_count": null,
   "id": "c608c09e",
   "metadata": {},
   "outputs": [],
   "source": [
    "neurons=read_csv('data/celegans131matrix_50.csv', header=None, dtype = \"int\")\n",
    "\n",
    "neurons=neurons.to_numpy()\n",
    "\n",
    "print(len(neurons))"
   ]
  },
  {
   "cell_type": "markdown",
   "id": "b2448427",
   "metadata": {},
   "source": [
    "```{.output}\n",
    "50\n",
    "```\n",
    "<p style='text-align: justify;'>\n",
    "We import the CSV network file as before. We specify with a keyword argument that there is no header, otherwise the first line in the file will be assumed to be a header and not parsed (handled) in the same way as the rest of the data. We also specify that the adjacency matrix is of data type `int`. (This does not necessarily have to be the case, see the Microbiome network below.) We then convert the `neurons` dataframe to a Numpy array. The `neuron_Names` can be imported in a similar way. They will need to be converted from a dataframe to a dictionary:\n",
    "</p>\n"
   ]
  },
  {
   "cell_type": "code",
   "execution_count": null,
   "id": "980fcf4b",
   "metadata": {},
   "outputs": [],
   "source": [
    "neuron_Names = read_csv('data/celegans131labels_50.csv', header=None)\n",
    "\n",
    "neuronNames = neuron_Names.to_dict()\n",
    "\n",
    "neuronLabels = neuronNames[0]\n",
    "\n",
    "print(neuronLabels)"
   ]
  },
  {
   "cell_type": "markdown",
   "id": "d4e0f82b",
   "metadata": {},
   "source": [
    "```{.output}\n",
    "{0: 'ADFL', 1: 'ADFR', 2: 'ADLL', 3: 'ADLR', 4: 'AFDL', 5: 'AFDR', 6: 'AIAL', 7: 'AIAR', 8: 'AIBR', 9: 'AINL', 10: 'AINR', 11: 'AIZL', 12: 'AIZR', 13: 'ALA', 14: 'ASEL', 15: 'ASER', 16: 'ASGL', 17: 'ASGR', 18: 'ASHL', 19: 'ASHR', 20: 'ASIL', 21: 'ASIR', 22: 'ASJL', 23: 'ASJR', 24: 'ASKL', 25: 'ASKR', 26: 'AUAL', 27: 'AUAR', 28: 'AVAL', 29: 'AVAR', 30: 'AVBL', 31: 'AVBR', 32: 'AVDL', 33: 'AVDR', 34: 'AVEL', 35: 'AVER', 36: 'AVHL', 37: 'AVHR', 38: 'AVJL', 39: 'AVJR', 40: 'AVL', 41: 'AWAL', 42: 'AWAR', 43: 'AWBL', 44: 'AWBR', 45: 'AWCL', 46: 'AWCR', 47: 'BAGL', 48: 'BAGR', 49: 'CEPDL'}\n",
    "```\n",
    "\n",
    "<p style='text-align: justify;'>\n",
    "Dictionaries associate keys with values.  You may remember we previously created a dictionary to assign labels to nodes. Here we convert the `neuron_Names` dataframe into a dictionary the neuron (node) indices are the keys and the corresponding neuron (node) names are the values. As the function `to_dict` wraps the dictionary within a dictionary, we obtain the plain labels dictionary by referring to index '0'. \n",
    "</p>\n",
    "\n",
    "Now we can create a graph, specify a layout, and plot the network.\n"
   ]
  },
  {
   "cell_type": "code",
   "execution_count": null,
   "id": "66c81a93",
   "metadata": {},
   "outputs": [],
   "source": [
    "neuronGraph = nx.from_numpy_matrix(neurons)   \n",
    "\n",
    "neuronLayout = nx.random_layout(neuronGraph, seed=123)\n",
    "\n",
    "nx.draw(neuronGraph, neuronLayout, \n",
    "        node_size=1000,\n",
    "        labels = neuronLabels)\n",
    "\n",
    "show()"
   ]
  },
  {
   "cell_type": "markdown",
   "id": "774f48b6",
   "metadata": {},
   "source": [
    "<img src=\"fig/03-networks_3-rendered-unnamed-chunk-4-1.png\" width=\"672\" style=\"display: block; margin: auto;\" />\n",
    "\n",
    "<p style='text-align: justify;'>\n",
    "In this particular case we also have other metadata that can be used for visualisation and analysis. In our case, we have the file 'celegans131positions_50.csv' - which contains information on how the nodes relate to each other in 2-D space. We can include this information to replace the layout.\n",
    "</p>\n"
   ]
  },
  {
   "cell_type": "code",
   "execution_count": null,
   "id": "8d9c4c1a",
   "metadata": {},
   "outputs": [],
   "source": [
    "neuronPos = read_csv('data/celegans131positions_50.csv', header=None)\n",
    "\n",
    "neuronPositions = neuronPos.values\n",
    "\n",
    "nx.draw(neuronGraph, neuronPositions,\n",
    "        node_size=1000,\n",
    "        labels = neuronLabels)\n",
    "        \n",
    "show()        "
   ]
  },
  {
   "cell_type": "markdown",
   "id": "b92a16bb",
   "metadata": {},
   "source": [
    "<img src=\"fig/03-networks_3-rendered-unnamed-chunk-5-3.png\" width=\"672\" style=\"display: block; margin: auto;\" />\n",
    "\n",
    "The two BAG nodes to the right of the display are the (right and left) [sensory neurons used to monitor oxygen and carbon dioxide](https://www.wormatlas.org/neurons/Individual%20Neurons/BAGframeset.html)."
   ]
  },
  {
   "cell_type": "markdown",
   "id": "535f377c",
   "metadata": {},
   "source": [
    "## Do it Yourself\n",
    "\n",
    "Find the nodes indices of the sensory neurons named 'BAGL' and 'BAGR'."
   ]
  },
  {
   "cell_type": "markdown",
   "id": "47d13f02",
   "metadata": {},
   "source": [
    "## DIY ANSWER"
   ]
  },
  {
   "cell_type": "code",
   "execution_count": null,
   "id": "0c8eff9f",
   "metadata": {},
   "outputs": [],
   "source": [
    "for ind, name in enumerate(neuronLabels.values()):\n",
    "    \n",
    "    if 'BAG' in name:\n",
    "        \n",
    "        print(ind, neuronLabels[ind])"
   ]
  },
  {
   "cell_type": "markdown",
   "id": "ec45bf9a",
   "metadata": {},
   "source": [
    "```{.output}\n",
    "47 BAGL\n",
    "48 BAGR\n",
    "```\n",
    "\n"
   ]
  },
  {
   "cell_type": "markdown",
   "id": "a968f030",
   "metadata": {},
   "source": [
    "### **Networks Repository: List of Edges**\n",
    "<p style='text-align: justify;'>\n",
    "Network files in the [Network Repository](http://networkrepository.com/index.php) are sourced from publications and provided in the '.edges' format. These are plain text files. Let's have a look at the network of a mouse visual cortex. You can find this at [MOUSE-VISUAL-CORTEX-1](http://networkrepository.com/bn-mouse-visual-cortex-1.php). You can either download the zip file from the database or use the file provided for this Lesson. \n",
    "</p>\n",
    "<p style='text-align: justify;'>\n",
    "Place the file 'bn-mouse_visual-cortex_1.edges' in your working directory. It can be helpful to first open it in any text-editor to see what the data look like. In this case, it is a list of two numbers per row, separated by a space. This is the list of (directed) edges. The first number indicating 'from', the second 'to'. Nodes are not given explicitly but will be inferred from the indices. \n",
    "</p>\n",
    "Being a list of edges, we can import it into NetworkX as an _edgelist_, specifying that the nodes are given as integers. The result is a standard graph object which we can plot using `draw`.\n"
   ]
  },
  {
   "cell_type": "code",
   "execution_count": null,
   "id": "510bdb70",
   "metadata": {},
   "outputs": [],
   "source": [
    "MouseCortex = nx.read_edgelist(\"data/bn-mouse_visual-cortex_1.edges\", nodetype=int)\n",
    "\n",
    "MouseCortexLayout = nx.random_layout(MouseCortex, seed=111)\n",
    "\n",
    "nx.draw(MouseCortex, MouseCortexLayout,\n",
    "        node_size=1000,\n",
    "        node_color='r',\n",
    "        with_labels=True)\n",
    "        \n",
    "show()        "
   ]
  },
  {
   "cell_type": "markdown",
   "id": "0f6b0e2e",
   "metadata": {},
   "source": [
    "<img src=\"fig/03-networks_3-rendered-unnamed-chunk-7-5.png\" width=\"672\" style=\"display: block; margin: auto;\" />\n",
    "\n",
    "To interpret the network, you can check it against the source, [MOUSE-VISUAL-CORTEX-1](http://networkrepository.com/bn-mouse-visual-cortex-1.php)."
   ]
  },
  {
   "cell_type": "markdown",
   "id": "7bbfda0b",
   "metadata": {},
   "source": [
    "## Do it Yourself\n",
    "\n",
    "Network Repository provides some summary data on all their networks. Obtain the (i) number of nodes, (ii) number of edges, and (iii) average clustering coefficient and compare it to the data in [their network summary](https://networkrepository.com/bn-mouse-visual-cortex-1.php).\n",
    "\n",
    "\t"
   ]
  },
  {
   "cell_type": "markdown",
   "id": "bfeae58b",
   "metadata": {},
   "source": [
    "## DIY ANSWER"
   ]
  },
  {
   "cell_type": "code",
   "execution_count": null,
   "id": "bd5b8d8f",
   "metadata": {},
   "outputs": [],
   "source": [
    "print('Number of nodes:', len(MouseCortex))\n",
    "print('')\n",
    "print('Number of edges:', len(MouseCortex.edges))\n",
    "print('')\n",
    "print('Average clustering coefficient:', mean(list(nx.clustering(MouseCortex).values())))"
   ]
  },
  {
   "cell_type": "markdown",
   "id": "86b67ecf",
   "metadata": {},
   "source": [
    "```{.output}\n",
    "Number of nodes: 29\n",
    "\n",
    "Number of edges: 44\n",
    "\n",
    "Average clustering coefficient: 0.04942528735632184\n",
    "```\n",
    "\n"
   ]
  },
  {
   "cell_type": "markdown",
   "id": "b1f766c0",
   "metadata": {},
   "source": [
    "### **JSON Format**\n",
    "<p style='text-align: justify;'>\n",
    "[JSON (JavaScript Object Notation)](https://en.wikipedia.org/wiki/JSON) is an open standard file format which is language independent and widely used. Here is an example code to import and display the network that contains [co-occurances of characters in Victor Hugo's novel 'Les Misérables'](http://konect.cc/networks/moreno_lesmis/).\n",
    "</p>\n"
   ]
  },
  {
   "cell_type": "code",
   "execution_count": null,
   "id": "82bf4b82",
   "metadata": {},
   "outputs": [],
   "source": [
    "import json\n",
    "\n",
    "with open('data/miserables.JSON', 'r') as myfile:\n",
    "    \n",
    "    data=myfile.read()\n",
    "    "
   ]
  },
  {
   "cell_type": "markdown",
   "id": "05eb2800",
   "metadata": {},
   "source": [
    "```{.error}\n",
    "Error in py_call_impl(callable, dots$args, dots$keywords): FileNotFoundError: [Errno 2] No such file or directory: 'data/miserables.JSON'\n",
    "```"
   ]
  },
  {
   "cell_type": "code",
   "execution_count": null,
   "id": "274a4a06",
   "metadata": {},
   "outputs": [],
   "source": [
    "miserables = json.loads(data)"
   ]
  },
  {
   "cell_type": "markdown",
   "id": "39beee13",
   "metadata": {},
   "source": [
    "```{.error}\n",
    "Error in py_call_impl(callable, dots$args, dots$keywords): NameError: name 'data' is not defined\n",
    "```"
   ]
  },
  {
   "cell_type": "code",
   "execution_count": null,
   "id": "b1268643",
   "metadata": {},
   "outputs": [],
   "source": [
    "miserablesNetwork = nx.json_graph.node_link_graph(miserables)"
   ]
  },
  {
   "cell_type": "markdown",
   "id": "8e13d891",
   "metadata": {},
   "source": [
    "```{.error}\n",
    "Error in py_call_impl(callable, dots$args, dots$keywords): NameError: name 'miserables' is not defined\n",
    "```"
   ]
  },
  {
   "cell_type": "code",
   "execution_count": null,
   "id": "171764bb",
   "metadata": {},
   "outputs": [],
   "source": [
    "miserablesNetworkLayout = nx.circular_layout(miserablesNetwork)"
   ]
  },
  {
   "cell_type": "markdown",
   "id": "cfc3aa2d",
   "metadata": {},
   "source": [
    "```{.error}\n",
    "Error in py_call_impl(callable, dots$args, dots$keywords): NameError: name 'miserablesNetwork' is not defined\n",
    "```"
   ]
  },
  {
   "cell_type": "code",
   "execution_count": null,
   "id": "fdcd01b3",
   "metadata": {},
   "outputs": [],
   "source": [
    "fig, ax = subplots(figsize=(12,12))\n",
    "\n",
    "nx.draw(miserablesNetwork, miserablesNetworkLayout,\n",
    "        node_size=3000,\n",
    "        with_labels=True)"
   ]
  },
  {
   "cell_type": "markdown",
   "id": "a466ae8e",
   "metadata": {},
   "source": [
    "```{.error}\n",
    "Error in py_call_impl(callable, dots$args, dots$keywords): NameError: name 'miserablesNetwork' is not defined\n",
    "```"
   ]
  },
  {
   "cell_type": "code",
   "execution_count": null,
   "id": "86b2282a",
   "metadata": {},
   "outputs": [],
   "source": [
    "fig.tight_layout()\n",
    "\n",
    "show()"
   ]
  },
  {
   "cell_type": "markdown",
   "id": "e3ab582e",
   "metadata": {},
   "source": [
    "<img src=\"fig/03-networks_3-rendered-unnamed-chunk-9-7.png\" width=\"1152\" style=\"display: block; margin: auto;\" />\n",
    "\n",
    "As you can see, the 'data' variable contains the character names as node names. \n",
    "\n",
    "If you are curious, open the file with a text editor and check the entries.\n",
    "\n",
    "E.g. our file starts like this:\n",
    "\n",
    "```\n",
    "{\n",
    "\n",
    "  \"nodes\": [\n",
    "\n",
    "    {\"id\": \"Myriel\", \"group\": 1},\n",
    "```\n",
    "<p style='text-align: justify;'>\n",
    "As you can see, the style with curly brackets and colons immediately suggests the use of associative arrays (dictionary) once the data are within Python. The function `node_link_graph` provides an interface to handle the data as a NetworkX graph.\n",
    "</p>\n",
    "<p style='text-align: justify;'>\n",
    "There are many other files formats that contain network data. For a list of NetworkX functions that allow import from and export to other file formats, see [Reading and writing graphs](http://localhost:8888/lab/tree/Dropbox/Lessons_NetworkX).\n",
    "</p>\n",
    "\n",
    "## NetworkX troubleshooting\n",
    "\n",
    "There are many errors that may occur in the context of dealing with network data.  We exemplify some common problems, to help find out how to diagnose and solve them. \n",
    "\n",
    "### **FileNotFoundError**\n",
    "\n",
    "Here we try to import a CSV file which contains an adjacency matrix. We have checked that the file is present in the working directory. \n"
   ]
  },
  {
   "cell_type": "code",
   "execution_count": null,
   "id": "8346edad",
   "metadata": {},
   "outputs": [],
   "source": [
    "neurons = read_csv('data/celegans131mtrix_50.csv', header=None, dtype=\"float64\")"
   ]
  },
  {
   "cell_type": "markdown",
   "id": "9820b9f4",
   "metadata": {},
   "source": [
    "```{.error}\n",
    "Error in py_call_impl(callable, dots$args, dots$keywords): FileNotFoundError: [Errno 2] No such file or directory: 'data/celegans131mtrix_50.csv'\n",
    "```"
   ]
  },
  {
   "cell_type": "markdown",
   "id": "51a6efa9",
   "metadata": {},
   "source": [
    "## Do it Yourself"
   ]
  },
  {
   "cell_type": "markdown",
   "id": "a48c2410",
   "metadata": {},
   "source": [
    "What has gone wrong, and what is the solution?\t\n",
    "\t\n",
    "## DIY ANSWER\n",
    "You'll see this error if something has gone wrong in the way you've instructed Python to find your file. This may be that you've mis-typed the file name, or the file isn't in your working directory. Here, the file is present in the working directory, but there's a typo in the file name.\t\n"
   ]
  },
  {
   "cell_type": "code",
   "execution_count": null,
   "id": "f46a1b7d",
   "metadata": {
    "lines_to_next_cell": 0
   },
   "outputs": [],
   "source": [
    "neurons = read_csv('data/celegans131matrix_50.csv', header=None, dtype='int')"
   ]
  },
  {
   "cell_type": "markdown",
   "id": "47ad8fc1",
   "metadata": {},
   "source": []
  },
  {
   "cell_type": "markdown",
   "id": "7ddff982",
   "metadata": {},
   "source": [
    "### **KeyError**\n",
    "\n",
    "Here we generate a random adjacency matrix, specify how it should be plotted, and try to visualise it.\n"
   ]
  },
  {
   "cell_type": "code",
   "execution_count": null,
   "id": "8ad99c8b",
   "metadata": {},
   "outputs": [],
   "source": [
    "rm = randint(0, 2, size=(5, 5))\n",
    "\n",
    "thisgraph = nx.from_numpy_matrix(rm)\n",
    "\n",
    "thisgraphLayout = nx.spiral_layout(thisgraph)\n",
    "\n",
    "thisgraphLabels = {\n",
    "    0: 'A',\n",
    "    1: 'B',\n",
    "    2: 'C',\n",
    "    3: 'D',\n",
    "    4: 'E',\n",
    "    5: 'F',\n",
    "}\n",
    "\n",
    "nx.draw(thisgraph, thisgraphLayout,\n",
    "        labels=thisgraphLabels)\n",
    "        \n",
    "show()"
   ]
  },
  {
   "cell_type": "markdown",
   "id": "8c1c9868",
   "metadata": {},
   "source": [
    "```{.error}\n",
    "Error in py_call_impl(callable, dots$args, dots$keywords): KeyError: 5\n",
    "```\n",
    "\n",
    "<img src=\"fig/03-networks_3-rendered-unnamed-chunk-12-9.png\" width=\"1152\" style=\"display: block; margin: auto;\" />"
   ]
  },
  {
   "cell_type": "markdown",
   "id": "10a7b0c4",
   "metadata": {},
   "source": [
    "## Do it Yourself\n",
    "\n",
    " Why does the call of `draw` throw an error, and what is the solution?\n",
    "\t\n",
    "## DIY ANSWER\n",
    "If you look at the error message, it first flags **5: 'F',**, and ends with an error about labels. We've included too many node labels: 6 labels for five nodes. This is easily corrected by taking one label out.\n"
   ]
  },
  {
   "cell_type": "code",
   "execution_count": null,
   "id": "ac45a1bb",
   "metadata": {},
   "outputs": [],
   "source": [
    "rm = randint(0, 2, size=(5, 5))\n",
    "\n",
    "thisgraph = nx.from_numpy_matrix(rm)\n",
    "\n",
    "thisgraphLayout = nx.spiral_layout(thisgraph)\n",
    "\n",
    "thisgraphLabels = {\n",
    "    0: 'A',\n",
    "    1: 'B',\n",
    "    2: 'C',\n",
    "    3: 'D',\n",
    "    4: 'E',\n",
    "}\n",
    "\n",
    "nx.draw(thisgraph, thisgraphLayout, \n",
    "        node_size=1000,\n",
    "        node_color='tomato',\n",
    "        labels=thisgraphLabels)\n",
    "\n",
    "show()"
   ]
  },
  {
   "cell_type": "markdown",
   "id": "acd1e9a4",
   "metadata": {},
   "source": [
    "<img src=\"fig/03-networks_3-rendered-unnamed-chunk-13-11.png\" width=\"1152\" style=\"display: block; margin: auto;\" />"
   ]
  },
  {
   "cell_type": "markdown",
   "id": "315b34a5",
   "metadata": {},
   "source": [
    "### **Graph is not bipartite**\n",
    "\n",
    "Here we generate a bipartite graph, and try to plot it.\n"
   ]
  },
  {
   "cell_type": "code",
   "execution_count": null,
   "id": "2cbc8f9b",
   "metadata": {
    "lines_to_next_cell": 2
   },
   "outputs": [],
   "source": [
    "thisBipartite = nx.Graph()\n",
    "\n",
    "# Add nodes with the node attribute \"bipartite\"\n",
    "thisBipartite.add_nodes_from(['a', 'b', 'c', 'd', 'e', 'f'], bipartite=0)\n",
    "thisBipartite.add_nodes_from(['m', 'n', 'o', 'p', 'q', 'r'], bipartite=1)\n",
    "\n",
    "# Add edges only between nodes of opposite node sets\n",
    "thisBipartite.add_edges_from([('a', 'm'), ('a', 'n'), \n",
    "                              ('b', 'n'), ('b', 'o'), \n",
    "                              ('c', 'o'), ('d', 'm'), \n",
    "                              ('a', 'p'), ('a', 'd'), \n",
    "                              ('f', 'p'), ('d', 'r'), \n",
    "                              ('a', 'q'), ('e', 'n')])"
   ]
  },
  {
   "cell_type": "code",
   "execution_count": null,
   "id": "670abb12",
   "metadata": {},
   "outputs": [],
   "source": [
    "nx.is_connected(thisBipartite)"
   ]
  },
  {
   "cell_type": "markdown",
   "id": "af215680",
   "metadata": {},
   "source": [
    "```{.output}\n",
    "True\n",
    "```\n"
   ]
  },
  {
   "cell_type": "code",
   "execution_count": null,
   "id": "5df831c1",
   "metadata": {},
   "outputs": [],
   "source": [
    "basegroup = nx.bipartite.sets(thisBipartite)[0]\n",
    "\n",
    "bipartiteLayout = nx.bipartite_layout(thisBipartite, basegroup)\n",
    "\n",
    "nx.draw(thisBipartite, bipartiteLayout, \n",
    "        node_size=2000, \n",
    "        with_labels=True)\n",
    "show()"
   ]
  },
  {
   "cell_type": "markdown",
   "id": "7745e266",
   "metadata": {},
   "source": [
    "```{.error}\n",
    "Error in py_call_impl(callable, dots$args, dots$keywords): networkx.exception.NetworkXError: Graph is not bipartite.\n",
    "```\n",
    "\n",
    "```{.error}\n",
    "Error in py_call_impl(callable, dots$args, dots$keywords): NameError: name 'basegroup' is not defined\n",
    "```\n",
    "\n",
    "```{.error}\n",
    "Error in py_call_impl(callable, dots$args, dots$keywords): NameError: name 'bipartiteLayout' is not defined\n",
    "```\n",
    "\n",
    "<img src=\"fig/03-networks_3-rendered-unnamed-chunk-16-13.png\" width=\"1152\" style=\"display: block; margin: auto;\" />"
   ]
  },
  {
   "cell_type": "markdown",
   "id": "59fddb0d",
   "metadata": {},
   "source": [
    "## Do it Yourself"
   ]
  },
  {
   "cell_type": "markdown",
   "id": "a2a12c0a",
   "metadata": {},
   "source": [
    "Why did this happen, what check can you do to avoid the problem, and how do you debug it?\t\n",
    "\t\n",
    "## DIY ANSWER\n",
    "In this instance, the error message is very clear: you can't plot a graph with a bipartite layout if the graph isn't bipartite. This would have also been evident if I hadn't just checked that the graph was connected, but also that it was bipartite.\n"
   ]
  },
  {
   "cell_type": "code",
   "execution_count": null,
   "id": "5c2ca54a",
   "metadata": {},
   "outputs": [],
   "source": [
    "nx.bipartite.is_bipartite(thisBipartite)"
   ]
  },
  {
   "cell_type": "markdown",
   "id": "d6a88470",
   "metadata": {},
   "source": [
    "```{.output}\n",
    "False\n",
    "```\n",
    "\n",
    "There is one edge connecting two nodes within one group. If we either remove that edge, or change one of the nodes to the other group, it will be bipartite.\n"
   ]
  },
  {
   "cell_type": "code",
   "execution_count": null,
   "id": "0514aa34",
   "metadata": {
    "lines_to_next_cell": 2
   },
   "outputs": [],
   "source": [
    "thisBipartite = nx.Graph()\n",
    "\n",
    "# Add nodes with the node attribute \"bipartite\"\n",
    "thisBipartite.add_nodes_from(['a', 'b', 'c', 'd', 'e', 'f'], bipartite=0)\n",
    "thisBipartite.add_nodes_from(['m', 'n', 'o', 'p', 'q', 'r'], bipartite=1)\n",
    "\n",
    "# Add edges only between nodes of opposite node sets\n",
    "thisBipartite.add_edges_from([('a', 'm'), ('a', 'n'), \n",
    "                              ('b', 'n'), ('b', 'o'), \n",
    "                              ('c', 'o'), ('d', 'm'), \n",
    "                              ('a', 'p'), ('a', 'n'), \n",
    "                              ('f', 'p'), ('d', 'r'), \n",
    "                              ('a', 'q'), ('e', 'n')])"
   ]
  },
  {
   "cell_type": "code",
   "execution_count": null,
   "id": "89118636",
   "metadata": {},
   "outputs": [],
   "source": [
    "nx.bipartite.is_bipartite(thisBipartite)"
   ]
  },
  {
   "cell_type": "markdown",
   "id": "708036ea",
   "metadata": {},
   "source": [
    "```{.output}\n",
    "True\n",
    "```\n"
   ]
  },
  {
   "cell_type": "code",
   "execution_count": null,
   "id": "9b79937d",
   "metadata": {},
   "outputs": [],
   "source": [
    "basegroup = nx.bipartite.sets(thisBipartite)[0]\n",
    "\n",
    "bipartiteLayout = nx.bipartite_layout(thisBipartite, basegroup)\n",
    "\n",
    "fig = nx.draw(thisBipartite, bipartiteLayout, \n",
    "              node_size=2000, \n",
    "              node_color='tomato',\n",
    "              node_shape='h',\n",
    "              with_labels=True)\n",
    "              \n",
    "show()              "
   ]
  },
  {
   "cell_type": "markdown",
   "id": "024907c7",
   "metadata": {},
   "source": [
    "<img src=\"fig/03-networks_3-rendered-unnamed-chunk-20-15.png\" width=\"1152\" style=\"display: block; margin: auto;\" />\n"
   ]
  },
  {
   "cell_type": "markdown",
   "id": "e731fde7",
   "metadata": {},
   "source": [
    "## Example: Full _C. elegans_ Neural Network\n",
    "\n",
    "In the final part, we look at two publicly available networks that are of biomedical interest.\n",
    "\n",
    "<p style='text-align: justify;'>\n",
    "In this first example we return to data about the neuronal connections in _C. elegans_. This time we are using the full 277 neuron dataset, which includes  131 frontal neurons. For the original version of the data, go to the ([Dynamic Connectome](https://www.dynamic-connectome.org/)) website and select the Resources tab. \n",
    "</p>\n",
    "<p style='text-align: justify;'>\n",
    "The data in the $277 \\times 277$ network matrix in the celegans277.zip file contain the connections between the 131 neurons in the frontal network, and 146 in the remainder or the network. If the connections _within_ each of these groups are severed, and the only remaining edges are between the two groups, this takes the form of a _bipartite graph_.\n",
    "</p>\n",
    "<p style='text-align: justify;'>\n",
    "We have made available this modified version of the 277 neuron matrix, with no edges within the 131 or the 146 neuron group, see file 'celegans277matrix_bipartite.csv'. Note that bipartite networks do not work in NetworkX if any of the nodes are not connected. Also available for download is a list of neuron labels and spatial positions, files 'celegans277labels.csv' and 'celegans277positions.csv'.\n",
    "</p>\n"
   ]
  },
  {
   "cell_type": "code",
   "execution_count": null,
   "id": "c8e45b63",
   "metadata": {},
   "outputs": [],
   "source": [
    "neurons = read_csv('data/celegans277matrix_bipartite.csv', header=None, dtype=\"int\")\n",
    "\n",
    "neuronNames = read_csv('data/celegans277labels.csv', header=None)\n",
    "\n",
    "neurons= neurons.to_numpy()\n",
    "\n",
    "neuronNames= neuronNames.to_dict()\n",
    "\n",
    "myBipartiteLabels = neuronNames[0]\n",
    "\n",
    "myBipartite = nx.from_numpy_matrix(neurons) "
   ]
  },
  {
   "cell_type": "markdown",
   "id": "94363d3b",
   "metadata": {},
   "source": [
    "<p style='text-align: justify;'>\n",
    "Here we import the bipartite module from NetworkX, and then import the bipartite 277 neuron adjacency matrix and list of neuron names, in the same method as previously. Next, we use the bipartite convention in NetworkX to designate which nodes are in the $0$ group, and which are in the $1$ group. There are several ways to make a graph bipartite, here this is done by listing the node numbers of the 146 neurons and adding the attribute $'bipartite' = 0$, and listing the node numbers of the 131 neurons and adding the attribute $'bipartite' = 1$.\n",
    "</p>\n"
   ]
  },
  {
   "cell_type": "code",
   "execution_count": null,
   "id": "dc397878",
   "metadata": {},
   "outputs": [],
   "source": [
    "myBipartite.add_nodes_from([\n",
    "  0,   1,   2,   3,  13,  14,  17,  21,  22,  23,  24,  25,  \n",
    " 26,  27,  28,  29,  30,  31,  32,  33,  34,  35,  36,  59,  \n",
    " 60,  61,  66,  67,  69,  78,  79,  84,  85,  86,  87,  88,  \n",
    " 89,  90,  91,  92,  93,  94,  95,  96,  97,  98,  99, 100, \n",
    "101, 102, 103, 104, 105, 106, 107, 108, 109, 110, 111, 112, \n",
    "125, 126, 133, 134, 135, 136, 137, 138, 139, 140, 141, 142, \n",
    "143, 144, 145, 146, 147, 148, 149, 150, 151, 152, 153, 154, \n",
    "155, 156, 157, 158, 159, 160, 161, 162, 170, 171, 172, 173, \n",
    "180, 195, 196, 203, 204, 205, 206, 207, 235, 236, 237, 238, \n",
    "239, 240, 241, 242, 243, 244, 245, 246, 247, 248, 249, 250, \n",
    "251, 252, 253, 254, 255, 256, 257, 258, 259, 260, 261, 262, \n",
    "263, 264, 265, 266, 267, 268, 269, 270, 271, 272, 273, 274, \n",
    "275, 276], bipartite=0)\n",
    "                          \n",
    "myBipartite.add_nodes_from([\n",
    "  4,   5,   6,   7,   8,   9,  10,  11,  12,  15,  16, \n",
    " 18,  19,  20,  37,  38,  39,  40,  41,  42,  43,  44,  \n",
    " 45,  46,  47,  48,  49,  50,  51,  52,  53,  54,  55,  \n",
    " 56,  57,  58,  62,  63,  64,  65,  68,  70,  71,  72,  \n",
    " 73,  74,  75,  76,  77,  80,  81,  82,  83, 113, 114, \n",
    "115, 116, 117, 118, 119, 120, 121, 122, 123, 124, 127, \n",
    "128, 129, 130, 131, 132, 163, 164, 165, 166, 167, 168, \n",
    "169, 174, 175, 176, 177, 178, 179, 181, 182, 183, 184, \n",
    "185, 186, 187, 188, 189, 190, 191, 192, 193, 194, 197, \n",
    "198, 199, 200, 201, 202, 208, 209, 210, 211, 212, 213, \n",
    "214, 215, 216, 217, 218, 219, 220, 221, 222, 223, 224,\n",
    "225, 226, 227, 228, 229, 230, 231, 232, 233, 234], bipartite=1)"
   ]
  },
  {
   "cell_type": "markdown",
   "id": "1f0a193a",
   "metadata": {},
   "source": [
    "We can confirm that the network is bipartite.\n"
   ]
  },
  {
   "cell_type": "code",
   "execution_count": null,
   "id": "ea7862df",
   "metadata": {},
   "outputs": [],
   "source": [
    "nx.bipartite.is_bipartite(myBipartite)"
   ]
  },
  {
   "cell_type": "markdown",
   "id": "fc90d733",
   "metadata": {},
   "source": [
    "```{.output}\n",
    "True\n",
    "```\n",
    "\n",
    "Next, we continue to use the bipartite convention introduced above to define the two bipartite groups, and set up a custom colouring list by group.\n"
   ]
  },
  {
   "cell_type": "code",
   "execution_count": null,
   "id": "ba464785",
   "metadata": {},
   "outputs": [],
   "source": [
    "top = nx.bipartite.sets(myBipartite)[0]\n",
    "pos = nx.bipartite_layout(myBipartite, top)\n",
    "\n",
    "color_dictionary = {0:'gold',1:'lavender'}\n",
    "\n",
    "color_list = [color_dictionary[i[1]] for i in myBipartite.nodes.data('bipartite')]\n",
    "\n",
    "fig, ax = subplots(figsize=(10, 30))\n",
    "\n",
    "nx.draw(myBipartite, pos, \n",
    "        node_size=1200, \n",
    "        labels=myBipartiteLabels, \n",
    "        node_color=color_list)\n",
    "show()"
   ]
  },
  {
   "cell_type": "markdown",
   "id": "6b77324f",
   "metadata": {},
   "source": [
    "<img src=\"fig/03-networks_3-rendered-unnamed-chunk-24-17.png\" width=\"960\" style=\"display: block; margin: auto;\" />\n",
    "\n",
    "The graph shows in a preliminary way that there are certain preferred connections between the two sets, in this case between the frontal group and the rest of the neurons."
   ]
  },
  {
   "cell_type": "markdown",
   "id": "4ee68d70",
   "metadata": {},
   "source": [
    "## Do it Yourself\n",
    "\n",
    "Draw the bipartite neural network, coloured by group and positioned using the positional information from Dynamic Connectome in the file 'celegans277positions.csv'.\n",
    "\t\n",
    "## DIY ANSWER\n",
    "The 2D positions are contained in the file 'celegans277positions.csv'. After the import of the file, they can be extracted into a variable using `values`. The positions then need to replace the original layout values (called 'pos' above).\n"
   ]
  },
  {
   "cell_type": "code",
   "execution_count": null,
   "id": "c6e323db",
   "metadata": {},
   "outputs": [],
   "source": [
    "neuronPos = read_csv('data/celegans277positions.csv', header=None)\n",
    "\n",
    "neuronPositions = neuronPos.values\n",
    "\n",
    "fig, ax = subplots(figsize=(10, 20))\n",
    "\n",
    "nx.draw(myBipartite, neuronPositions, \n",
    "        node_size=3000, \n",
    "        labels=myBipartiteLabels, \n",
    "        node_color=color_list)\n",
    "\n",
    "fig.tight_layout()\n",
    "\n",
    "show()"
   ]
  },
  {
   "cell_type": "markdown",
   "id": "93d61ce2",
   "metadata": {},
   "source": [
    "<img src=\"fig/03-networks_3-rendered-unnamed-chunk-25-19.png\" width=\"960\" style=\"display: block; margin: auto;\" />"
   ]
  },
  {
   "cell_type": "markdown",
   "id": "514cad4c",
   "metadata": {},
   "source": [
    "## Example: Microbiome network\n",
    "<p style='text-align: justify;'>\n",
    "Microbiome data can be collected from a wide variety of environments, and is generally considered to be the bacterial, fungal, and viral components of a given environment. [Friedman and Alm (2012)](https://doi.org/10.1371/journal.pcbi.1002687) used data from the [Human Microbiome Project](https://www.nature.com/articles/nature11209) to calculate pairwise interaction correlations for each operational taxonomic unit (OTU). They then used Python and NetworkX to analyse and visualise several of these correlation datasets for each human body site. The challenge here is to extract network information about a graph from bivariate quantities like the correlation coefficient.\n",
    "</p>\n",
    "\n",
    "![](fig/microbiomenetworks.png)\n",
    "As the correlation data are open access, we can access them and derive the network.\n",
    "<p style='text-align: justify;'>\n",
    "Data are imported from text files. In this case, it is not a CSV file. Rather, the data are tab separated. We can adjust for this by specifying the keyword argument `delimiter` for tab. As the correlation coefficients are stored as decimal point numbers, we specify the keyword argument `dtype` as floating point 'float64'.\n",
    "</p>\n",
    "<p style='text-align: justify;'>\n",
    "If you check the file, you will see that the first entry is '1.0'. This is because all self-correlations are (trivially) equal to one. We replace those diagonal values with 0 to avoid (nonsensical) self-connections in the network. </p>\n"
   ]
  },
  {
   "cell_type": "code",
   "execution_count": null,
   "id": "2423beb8",
   "metadata": {
    "lines_to_next_cell": 2
   },
   "outputs": [],
   "source": [
    "gutbact      = read_csv('data/Stool_sparse_adj_matrix.txt', \n",
    "                        header=None, delimiter='\\t', dtype=\"float64\")\n",
    "\n",
    "gutbactNames = read_csv('data/Stool_sparse_matrix_names.txt', \n",
    "                        header=None)\n",
    "\n",
    "gutbact= gutbact.to_numpy()\n",
    "\n",
    "fill_diagonal(gutbact, 0)\n",
    "\n",
    "gutbactNames= gutbactNames.to_dict()\n",
    "\n",
    "gutbactLabels = gutbactNames[0]"
   ]
  },
  {
   "cell_type": "code",
   "execution_count": null,
   "id": "4cf42e52",
   "metadata": {},
   "outputs": [],
   "source": [
    "gutbactGraph = nx.from_numpy_matrix(gutbact)\n",
    "\n",
    "gutbactLayout = nx.circular_layout(gutbactGraph)\n",
    "\n",
    "fig, ax = subplots(figsize=(16,16))\n",
    "\n",
    "nx.draw(gutbactGraph, gutbactLayout, \n",
    "        node_size=3000,\n",
    "        node_color='r',\n",
    "        labels=gutbactLabels)\n",
    "\n",
    "show()        "
   ]
  },
  {
   "cell_type": "markdown",
   "id": "4518eee9",
   "metadata": {},
   "source": [
    "<img src=\"fig/03-networks_3-rendered-unnamed-chunk-27-21.png\" width=\"1536\" style=\"display: block; margin: auto;\" />\n",
    "\n",
    "<p style='text-align: justify;'>\n",
    "This gives us the correlation network from the stool samples, with nodes labelled by the OTU number. However, this doesn't look much like the data from the article, partly as there are so many edges. The reason is that any number in the network matrix that is not equal to zero is interpreted as an edge. Thus, essentially the graph is fully connected. \n",
    "</p>\n",
    "\n",
    "### **Functional Networks**\n",
    "<p style='text-align: justify;'>\n",
    "In the paper, Friedman and Alm (2012), the edges are taken from the correlations coefficients of the correlation matrix. I.e. they define the correlation matrix as a network matrix. But the entries of the correlation matrix are not 0s and 1s as we have used so far. Instead they are real numbers between -1 and 1.  What Friedman and Alm did to obtain meaningful edges was to pick a threshold correlation, e.g. $|cc| = 0.3$ and set any matrix entry with absolute value smaller than the threshold as 0. All other values are left as they are. Because anything non-zero will be interpreted as an edge, this means that they only plot edges where the correlation coefficient is greater than 0.3 or less than -0.3. Such networks are referred to as _functional networks. \n",
    "</p>\n",
    "<p style='text-align: justify;'>\n",
    "To threshold the correlation matrix in Python, we select matrix values between -0.3 and 0.3, and replace them with 0. Then we convert this thresholded network matrix to a graph and plot it. \n",
    "</p>\n"
   ]
  },
  {
   "cell_type": "code",
   "execution_count": null,
   "id": "f9f95bee",
   "metadata": {
    "lines_to_next_cell": 2
   },
   "outputs": [],
   "source": [
    "from numpy import where, logical_and\n",
    "\n",
    "threshold = 0.3\n",
    "\n",
    "gutbact_threshold = where(logical_and(gutbact>=-threshold , gutbact<=threshold), 0, gutbact)"
   ]
  },
  {
   "cell_type": "code",
   "execution_count": null,
   "id": "d4206495",
   "metadata": {},
   "outputs": [],
   "source": [
    "gutbactGraph = nx.from_numpy_matrix(gutbact_threshold)\n",
    "\n",
    "fig, ax = subplots(figsize=(16,16))\n",
    "\n",
    "nx.draw(gutbactGraph, gutbactLayout, \n",
    "        node_size=3000,\n",
    "        node_color='r',\n",
    "        labels=gutbactLabels)\n",
    "        \n",
    "show()        "
   ]
  },
  {
   "cell_type": "markdown",
   "id": "2943ff55",
   "metadata": {},
   "source": [
    "<img src=\"fig/03-networks_3-rendered-unnamed-chunk-29-23.png\" width=\"1536\" style=\"display: block; margin: auto;\" />\n",
    "\n",
    "<p style='text-align: justify;'>\n",
    "This network only displays edges where strong correlations were found and this is how Friedman and Alm obtained their graphs. Note that the network structure now is a function of the chosen threshold. Smaller thresholds yield more edges, higher thresholds fewer edges. Choosing the right threshold may be difficult and needs further thought. \n",
    "</p>\n",
    "<p style='text-align: justify;'>\n",
    "The creation of networks from functional data opens a wide field of research: _any_ interrelation matrix obtained with whatever metric can be interpreted as a network matrix and converted into a graph. As an example, see Figure 1 in [The Brain as a Complex System: Using Network Science as a Tool for Understanding the Brain](https://www.ncbi.nlm.nih.gov/pmc/articles/PMC3621511/) which describes the procedure for brain imaging.\n",
    "</p>\n",
    "<p style='text-align: justify;'>\n",
    "This concludes our set of Lessons on network handling in Python. For practice, try to find a database that touches on topics of your own interest. As an example, in the context of the human brain, there is a rich database at the [Human Connectome Database](http://www.humanconnectomeproject.org/data/). Each database will present its own challenges and obstacles. Nevertheless, it is worth to overcome those to be able to work with the data in Python. Eventually, all functions and dysfunctions observed in living systems are a consequence of interactions between components. \n",
    "</p>"
   ]
  },
  {
   "cell_type": "markdown",
   "id": "bd5d1d7d",
   "metadata": {},
   "source": [
    "- `.csv` is a common file format when importing network data.\n",
    "- `JSON` is another widely used standard file format which is language independent.\n",
    "- `FileNotFoundError`, `KeyError` and `Graph is not bipartite` are the most common file import errors.\n"
   ]
  },
  {
   "cell_type": "markdown",
   "id": "55b0a989",
   "metadata": {},
   "source": [
    "[r-markdown]: https://rmarkdown.rstudio.com/"
   ]
  }
 ],
 "metadata": {
  "jupytext": {
   "cell_metadata_filter": "-all",
   "main_language": "python",
   "notebook_metadata_filter": "-all"
  }
 },
 "nbformat": 4,
 "nbformat_minor": 5
}
