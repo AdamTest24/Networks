{
 "cells": [
  {
   "cell_type": "raw",
   "id": "60facb6a",
   "metadata": {
    "lines_to_next_cell": 0
   },
   "source": [
    "---\n",
    "title: \"Networks - Part 1\"\n",
    "teaching: 60\n",
    "exercises: 60\n",
    "---"
   ]
  },
  {
   "cell_type": "markdown",
   "id": "033d36e3",
   "metadata": {},
   "source": [
    "[**Download Chapter pdf**]()\n",
    "\n",
    "[**Download Chapter notebook (ipynb)**]()\n",
    "\n",
    "[<span style=\"color: rgb(255, 0, 0);\">**Mandatory Lesson Feedback Survey**</span>](https://docs.google.com/forms/d/e/1FAIpQLSdr0capF7jloJhPH3Pki1B3LZoKOG16poOpuVJ7SL2LkwLHQA/viewform?pli=1)\n"
   ]
  },
  {
   "cell_type": "markdown",
   "id": "b0e2903c",
   "metadata": {},
   "source": [
    "- \n",
    "-\n",
    "-\n"
   ]
  },
  {
   "cell_type": "markdown",
   "id": "199fd504",
   "metadata": {},
   "source": [
    "-\n",
    "-\n",
    "-\n"
   ]
  },
  {
   "cell_type": "markdown",
   "id": "cc7e5eef",
   "metadata": {},
   "source": [
    "## Prerequisites\n",
    "\n",
    "- [Basic Python]()\n",
    "- [Basic Matplotlib]()\n"
   ]
  },
  {
   "cell_type": "markdown",
   "id": "ece2ae35",
   "metadata": {},
   "source": [
    "## Example: Protein-protein interactions\n",
    "\n",
    "Protein-protein interactions (PPIs) ([PLoS: Protein–Protein Interactions](https://www.ncbi.nlm.nih.gov/pmc/articles/PMC2891586/)) refer to specific and function physical contact between proteins in vivo. Interactions may be dependant on biological context, organism, definition of interaction, and many other factors. An example of some PPIs can be seen below.\n",
    "\n",
    "![](fig/mazG.png)\n",
    "\n",
    "PPIs may be visualised as a network, in order to give greater context to the protein interactions, and see how changes to one protein may affect another protein several steps removed. A PPI network can be modelled via a graph in which the nodes represent the proteins and the edges represent interactions; an edge from node A to node B indicates protein B interacts with protein A. The diagram above shows the PPI network centred around the protein $mazG$ in *Escherichia coli K12 MG1655*. This is part of a toxin-antitoxin system. These systems generally encode pairs of *toxin* and inhibitory *antitoxin* proteins, are transmitted by plasmids, and likely serve several biological functions including stress tolerance and genome stabilisation. $mazG$ regulates the type II toxin-antitoxin system shown in this network, where $mazF$ is the toxin and $mazE$ is the antitoxin. More details on the proteins in this network can be seen on STRING-DB ([STRING-DB: mazG in E. coli](https://version-11-0b.string-db.org/cgi/network?networkId=b6lw5pU2DeQm))\n",
    "\n",
    "At the end of the example we are going to use Python to draw this PPI network, before this however, we shall begin with some small examples to familiarise you with the elements and properties of small graphs. "
   ]
  },
  {
   "cell_type": "markdown",
   "id": "c4a981e2",
   "metadata": {},
   "source": [
    "## An Introduction to Networks\n",
    "\n",
    "### What is a graph?\n",
    "\n",
    "A graph is an object in mathematics for describing relationships between objects. An simple example of a visual representation of a graph is given below.\n",
    "\n",
    "![](fig/simple_graph2.png)"
   ]
  },
  {
   "cell_type": "markdown",
   "id": "18c87991",
   "metadata": {},
   "source": [
    "This graph contains three objects or **nodes** or **vertices** and three links called **edges** or **arcs** between the nodes. Graphs can be used to represent networks.\n",
    "\n",
    "For a formal definition of a graph see, e.g. the [Wikipedia entry](https://en.wikipedia.org/wiki/Graph_theory).\n",
    "\n",
    "If the above graph represented a protein-protein interaction network then the nodes would represent three proteins and the edges represent interactions between them.\n",
    "\n",
    "To add further proteins, you add new nodes to the network. To include further dependencies, you add edges.\n",
    "\n",
    "We shall see below how we can build and modify such a network, and how to represent networks in Python.\n",
    "\n",
    "### NetworkX\n",
    "\n",
    "[__NetworkX__](https://networkx.org) is a Python package for the creation, manipulation, and study of the structure, dynamics, and functions of complex networks.\n",
    "\n",
    "To use NetworkX and visualise your networks, you can import the whole package.\n",
    "\n",
    "\n"
   ]
  },
  {
   "cell_type": "code",
   "execution_count": null,
   "id": "5d6be7d5",
   "metadata": {},
   "outputs": [],
   "source": [
    "import networkx as nx\n",
    "from matplotlib.pyplot import show"
   ]
  },
  {
   "cell_type": "markdown",
   "id": "9fc115bd",
   "metadata": {},
   "source": [
    "### Nodes and Edges\n",
    "\n",
    "Nodes are a basic unit of data, and are linked to other nodes by edges, which show the way(s) in which the nodes are related. In NetworkX, a range of Python objects, including numbers, text strings, and other networks can be nodes.\n",
    "\n",
    "Let's start by creating an empty graph object and then add some nodes to it.\n"
   ]
  },
  {
   "cell_type": "code",
   "execution_count": null,
   "id": "651b8532",
   "metadata": {},
   "outputs": [],
   "source": [
    "firstGraph = nx.Graph()\n",
    "\n",
    "firstGraph.add_node('Node A')\n",
    "firstGraph.add_node('Node B')\n",
    "firstGraph.add_node('Node C')\n",
    "\n",
    "print(type(firstGraph))\n",
    "print('')\n",
    "print(firstGraph.nodes)\n",
    "print('')"
   ]
  },
  {
   "cell_type": "markdown",
   "id": "479e5eeb",
   "metadata": {},
   "source": [
    "```{.output}\n",
    "<class 'networkx.classes.graph.Graph'>\n",
    "\n",
    "['Node A', 'Node B', 'Node C']\n",
    "```\n",
    "\n",
    "We have created a graph called _firstGraph_, added three nodes, and then printed the type of object and a list of the nodes in this graph. So far, these nodes have no relationship to each other? To specify relationships (representing e.g. interactions) we can add edges to show how the nodes are connected.\n"
   ]
  },
  {
   "cell_type": "code",
   "execution_count": null,
   "id": "08d9c804",
   "metadata": {},
   "outputs": [],
   "source": [
    "firstGraph.add_edge('Node A', 'Node B')\n",
    "firstGraph.add_edge('Node A', 'Node C')\n",
    "firstGraph.add_edge('Node B', 'Node C')\n",
    "\n",
    "print(firstGraph.edges)"
   ]
  },
  {
   "cell_type": "markdown",
   "id": "694dd9b9",
   "metadata": {},
   "source": [
    "```{.output}\n",
    "[('Node A', 'Node B'), ('Node A', 'Node C'), ('Node B', 'Node C')]\n",
    "```\n",
    "\n",
    "Here we created edges between Nodes A and B, A and C, and B and C, and printed a list of these edges. We can also get a summary of how many nodes and edges out graph currently has. At this stage, our graph should have three nodes and three edges. Here is how to check that in NetworkX.\n"
   ]
  },
  {
   "cell_type": "code",
   "execution_count": null,
   "id": "4508468f",
   "metadata": {},
   "outputs": [],
   "source": [
    "firstGraph.number_of_nodes()"
   ]
  },
  {
   "cell_type": "markdown",
   "id": "9dc87bde",
   "metadata": {},
   "source": [
    "```{.output}\n",
    "3\n",
    "```\n"
   ]
  },
  {
   "cell_type": "code",
   "execution_count": null,
   "id": "1c333eac",
   "metadata": {},
   "outputs": [],
   "source": [
    "firstGraph.number_of_edges()"
   ]
  },
  {
   "cell_type": "markdown",
   "id": "b0977d55",
   "metadata": {},
   "source": [
    "```{.output}\n",
    "3\n",
    "```\n",
    "\n",
    "### Visualising networks\n",
    "\n",
    "We have a basic graph  called `firstGraph`, so let's visualise it. In NetworkX, we can use function `draw`.\n"
   ]
  },
  {
   "cell_type": "code",
   "execution_count": null,
   "id": "3124023e",
   "metadata": {},
   "outputs": [],
   "source": [
    "nx.draw(firstGraph)\n",
    "show()"
   ]
  },
  {
   "cell_type": "markdown",
   "id": "edb06a93",
   "metadata": {},
   "source": [
    "<img src=\"fig/01-networks_1-rendered-unnamed-chunk-6-1.png\" width=\"672\" style=\"display: block; margin: auto;\" />\n",
    "\n",
    "With te default settings, we get a triangle with three blue nodes in the corners, connected by three lines. There are no arrowheads on the lines, the network is therefore referred to as _undirected_.\n",
    "\n",
    "To make the graph less abstract, we can add labels to the nodes. This is done setting up a dictionary where we use as `keys` the names given to the nodes when they were set up. The single `value` is the label to be used for the display.\n",
    "\n",
    "Through NetworkX we can also dictate the way the nodes are positioned by setting a _layout_. There are many options, and we're using the spiral layout as an example. For a list of layout options, please check the [NetworkX documentation](https://networkx.org/documentation/stable/reference/drawing.html#module-networkx.drawing.layout).\n"
   ]
  },
  {
   "cell_type": "code",
   "execution_count": null,
   "id": "28a21599",
   "metadata": {},
   "outputs": [],
   "source": [
    "firstGraphLayout = nx.spiral_layout(firstGraph)\n",
    "\n",
    "firstGraphLabels = {\n",
    "#   key     : value\n",
    "    'Node A': 'A',\n",
    "    'Node B': 'B',\n",
    "    'Node C': 'C',\n",
    "}\n",
    "\n",
    "nx.draw(firstGraph, firstGraphLayout, \n",
    "        labels=firstGraphLabels)\n",
    "\n",
    "show()"
   ]
  },
  {
   "cell_type": "markdown",
   "id": "d8c6e2a7",
   "metadata": {},
   "source": [
    "<img src=\"fig/01-networks_1-rendered-unnamed-chunk-7-3.png\" width=\"672\" style=\"display: block; margin: auto;\" />\n",
    "Note that we use `draw` providing the graph object followed by the (optional) layout as positional arguments. Other keyword arguments (here the labels) are then added, separated by comma.\n",
    "\n",
    "> __Saving Figures:__ If you want to save a network graph to a file, you can use function `savefig`. Here is an example that will save the figure in the folder with the code. \n"
   ]
  },
  {
   "cell_type": "code",
   "execution_count": null,
   "id": "96f77c0b",
   "metadata": {
    "lines_to_next_cell": 2
   },
   "outputs": [],
   "source": [
    "from matplotlib.pyplot import savefig"
   ]
  },
  {
   "cell_type": "code",
   "execution_count": null,
   "id": "a06aee9a",
   "metadata": {},
   "outputs": [],
   "source": [
    "firstGraphLayout = nx.spiral_layout(firstGraph)\n",
    "\n",
    "firstGraphLabels = {\n",
    "    'Node A': 'A',\n",
    "    'Node B': 'B',\n",
    "    'Node C': 'C',\n",
    "}\n",
    "\n",
    "nx.draw(firstGraph, firstGraphLayout, \n",
    "        labels=firstGraphLabels)\n",
    "\n",
    "savefig('my_network.png', format='png');\n",
    "\n",
    "show()"
   ]
  },
  {
   "cell_type": "markdown",
   "id": "84aad3b0",
   "metadata": {},
   "source": [
    "<img src=\"fig/01-networks_1-rendered-unnamed-chunk-9-5.png\" width=\"672\" style=\"display: block; margin: auto;\" />\n",
    "\n",
    "You may want to alter the appearance of your graph in different ways. Let's say you want the nodes to be red, you achieve this by using the keyword argument `node_color`.\n"
   ]
  },
  {
   "cell_type": "code",
   "execution_count": null,
   "id": "b017e59f",
   "metadata": {},
   "outputs": [],
   "source": [
    "nx.draw(firstGraph, firstGraphLayout, \n",
    "        labels=firstGraphLabels, \n",
    "        node_color='r')\n",
    "\n",
    "show()"
   ]
  },
  {
   "cell_type": "markdown",
   "id": "451d08a6",
   "metadata": {},
   "source": [
    "<img src=\"fig/01-networks_1-rendered-unnamed-chunk-10-7.png\" width=\"672\" style=\"display: block; margin: auto;\" />\n",
    "\n",
    "Note that, as always, the spelling is the US version, 'color'.\n",
    "\n",
    "## Creating a Network Matrix\n",
    "\n",
    "A generic way to define graphs is via a two dimensional array known as the **network matrix** or **adjacency matrix**. We won't go into the details of matrices here but will just show you how to create them in Python. \n",
    "\n",
    "For our purpose a matrix is a collection of numbers. Let us start by creating a matrix that contains only zeroes. A very easy way to create a matrix with zeroes in Python is using `zeros` from Numpy. The number of network nodes is equal to the number of rows and columns in the array.\n"
   ]
  },
  {
   "cell_type": "code",
   "execution_count": null,
   "id": "2a0c5cf8",
   "metadata": {},
   "outputs": [],
   "source": [
    "from numpy import zeros\n",
    "\n",
    "nodes = 3\n",
    "\n",
    "my_matrix = zeros((nodes, nodes))\n",
    "\n",
    "print(my_matrix)"
   ]
  },
  {
   "cell_type": "markdown",
   "id": "6f9a2917",
   "metadata": {},
   "source": [
    "```{.output}\n",
    "[[0. 0. 0.]\n",
    " [0. 0. 0.]\n",
    " [0. 0. 0.]]\n",
    "```\n",
    "\n",
    "We have given the `zeros` function two arguments, 3 and 3, and it has created an array of 9 numbers (all of value 0) arranged into 3 rows and 3 columns. This is a **square matrix** because the number of rows is equal to the number of columns. We say that this matrix is of dimension $3\\times 3$. \n",
    "\n",
    "To check the dimensions of a Numpy array, you can use `shape`. Since in the above code we have assigned the matrix to the variable `my_matrix` we can call it as follows.\n"
   ]
  },
  {
   "cell_type": "code",
   "execution_count": null,
   "id": "311087f4",
   "metadata": {},
   "outputs": [],
   "source": [
    "my_matrix.shape"
   ]
  },
  {
   "cell_type": "markdown",
   "id": "477f28eb",
   "metadata": {},
   "source": [
    "```{.output}\n",
    "(3, 3)\n",
    "```"
   ]
  },
  {
   "cell_type": "markdown",
   "id": "c4940210",
   "metadata": {},
   "source": [
    "Note that `shape` does not take arguments. It returns the dimensions of the matrix as an array of length 2; the first element is the number of rows and the second element is the number of columns.\n",
    "\n",
    "We can now access each element of `my_matrix` and change its value. To change the element in the second row and the third column we use the syntax `my_matrix[1, 2]` where we first specify the row index and the column index second, separated by a comma. \n"
   ]
  },
  {
   "cell_type": "code",
   "execution_count": null,
   "id": "c623a7b6",
   "metadata": {},
   "outputs": [],
   "source": [
    "my_matrix[2, 0] = 1\n",
    "my_matrix[1, 0] = 1\n",
    "\n",
    "print(my_matrix)"
   ]
  },
  {
   "cell_type": "markdown",
   "id": "567b34c2",
   "metadata": {},
   "source": [
    "```{.output}\n",
    "[[0. 0. 0.]\n",
    " [1. 0. 0.]\n",
    " [1. 0. 0.]]\n",
    "```"
   ]
  },
  {
   "cell_type": "markdown",
   "id": "9d8d3ef2",
   "metadata": {},
   "source": [
    "## Do it Yourself\n",
    "\n",
    "Create a 4x4 matrix called $n$ and set the elements $n_{0,1}=1$, $n_{1,2}=1$ and $n_{1,3}=1$."
   ]
  },
  {
   "cell_type": "markdown",
   "id": "2cbc1e02",
   "metadata": {},
   "source": [
    "## DIY ANSWER\n"
   ]
  },
  {
   "cell_type": "code",
   "execution_count": null,
   "id": "f03f2a55",
   "metadata": {},
   "outputs": [],
   "source": [
    "n = zeros((4,4))\n",
    "\n",
    "n[0, 1] = 1 \n",
    "n[1, 2] = 1 \n",
    "n[1, 3] = 1 \n",
    "\n",
    "print(n)"
   ]
  },
  {
   "cell_type": "markdown",
   "id": "13af8583",
   "metadata": {},
   "source": [
    "```{.output}\n",
    "[[0. 1. 0. 0.]\n",
    " [0. 0. 1. 1.]\n",
    " [0. 0. 0. 0.]\n",
    " [0. 0. 0. 0.]]\n",
    "```\n"
   ]
  },
  {
   "cell_type": "markdown",
   "id": "6df67c60",
   "metadata": {},
   "source": [
    "## Representing graphs\n",
    "\n",
    "Now we shall see how a $3 \\times 3$ square matrix can represent a graph with three nodes which we call $A$, $B$ and $C$. Consider the following table where we have taken the matrix elements and labelled both the rows and the columns $A,B$ and $C$.\n",
    "\n",
    "![](fig/matrix_vis.png)"
   ]
  },
  {
   "cell_type": "markdown",
   "id": "53171a8b",
   "metadata": {},
   "source": [
    "This matrix can represent a graph with three nodes. The value of 1 in the first row and the second column indicates that there is an **edge** from node $A$ to node $B$. Therefore the row position indicates the node that an edge emanates from and the column position indicates the node that the edge ends on. \n",
    "\n",
    "We can see that there are four edges in this graph:\n",
    "* from node $A$ to node $B$\n",
    "* from node $B$ to node $A$\n",
    "* from node $B$ to node $C$\n",
    "* from node $C$ to node $A$\n"
   ]
  },
  {
   "cell_type": "markdown",
   "id": "d985888c",
   "metadata": {},
   "source": [
    "## Do it Yourself\n",
    "\n",
    "For the matrix, $n$, created in Exercise 1.1, is a network matrix representing a graph, use code to check the number of nodes and edges. "
   ]
  },
  {
   "cell_type": "markdown",
   "id": "400b7335",
   "metadata": {},
   "source": [
    "## DIY ANSWER\n",
    "\n",
    "```\n",
    "The graph has four nodes and three edges. \n",
    "$n_{0,1} $ or $n[0][1]$ is an edge from node 0 to node 1.\n",
    "$n_{1,2}$ or $n[1][2]$ is an edge from node 1 to node 2.\n",
    "$n_{1,3}$ or $n[1][3]$ is an edge from node 1 to node 3.\n",
    "```\n"
   ]
  },
  {
   "cell_type": "markdown",
   "id": "bb671660",
   "metadata": {},
   "source": [
    "## Different Layouts for Visualisation\n",
    "\n",
    "Now that we know how to create a matrix which can represent the graph, we want to know what the graph coming from this matrix looks like. \n",
    "\n",
    "First, we set up the network (or: adjacency) matrix in the above table from scratch. Then we use NetworkX function `from_numpy_matrix` to turn our matrix into a NetworkX Graph object called `new_graph`. We set the layout to a spiral layout (as we did before) and then draw the graph. \n"
   ]
  },
  {
   "cell_type": "code",
   "execution_count": null,
   "id": "d75c887e",
   "metadata": {},
   "outputs": [],
   "source": [
    "new_matrix = zeros((3,3))\n",
    "\n",
    "new_matrix[1, 2] = 1 \n",
    "new_matrix[2, 0] = 1 \n",
    "new_matrix[0, 1] = 1 \n",
    "new_matrix[1, 0] = 1 \n",
    "\n",
    "new_graph = nx.from_numpy_matrix(new_matrix)\n",
    "\n",
    "newLayout = nx.spiral_layout(new_graph)\n",
    "\n",
    "nx.draw(new_graph, newLayout)\n",
    "\n",
    "show()"
   ]
  },
  {
   "cell_type": "markdown",
   "id": "6f65e65c",
   "metadata": {},
   "source": [
    "<img src=\"fig/01-networks_1-rendered-unnamed-chunk-15-9.png\" width=\"672\" style=\"display: block; margin: auto;\" />\n",
    "\n",
    "We haven't specified labels. We can specify the labels using a dictionary. Let us first see how the nodes are stored to find their Python names. \n"
   ]
  },
  {
   "cell_type": "code",
   "execution_count": null,
   "id": "716b2095",
   "metadata": {},
   "outputs": [],
   "source": [
    "list(new_graph.nodes)"
   ]
  },
  {
   "cell_type": "markdown",
   "id": "9f1e8206",
   "metadata": {},
   "source": [
    "```{.output}\n",
    "[0, 1, 2]\n",
    "```\n",
    "\n",
    "By default, the nodes are given the names of their indices. We can refer to these indices and assign labels.\n"
   ]
  },
  {
   "cell_type": "code",
   "execution_count": null,
   "id": "01368c7f",
   "metadata": {},
   "outputs": [],
   "source": [
    "newLabels = {\n",
    "# key : value\n",
    "    0: 'A',\n",
    "    1: 'B',\n",
    "    2: 'C',\n",
    "}"
   ]
  },
  {
   "cell_type": "markdown",
   "id": "292b4c47",
   "metadata": {},
   "source": [
    "We can now draw the graph again, and specify the new labels A, B, and C.\n"
   ]
  },
  {
   "cell_type": "code",
   "execution_count": null,
   "id": "5d8eec81",
   "metadata": {},
   "outputs": [],
   "source": [
    "nx.draw(new_graph, newLayout,\n",
    "        labels=newLabels)\n",
    "        \n",
    "show()       "
   ]
  },
  {
   "cell_type": "markdown",
   "id": "ace5e0d3",
   "metadata": {},
   "source": [
    "<img src=\"fig/01-networks_1-rendered-unnamed-chunk-18-11.png\" width=\"672\" style=\"display: block; margin: auto;\" />\n",
    "\n",
    "There are many different options available for drawing graphs. Use `help(nx.draw)` to get a description of the options available for the graph as a whole, the nodes and the edges. \n",
    "\n",
    "We shall first experiment with the graph layout. Converting a mathematical description of a graph, ie an adjacency matrix, to a graphical description is a difficult problem, especially for large graphs. The algorithms that perform this operation are known as graph layout algorithms and NetworkX has over five different ones. We used `spiral_layout` to produce the drawing above. Further specifications can be made within each layout, and you can access the details with $help$.\n",
    "\n",
    "Some graph layout algorithms have a random component such as the initial position of the nodes. This means that different realisations of the layouts will not be identical. "
   ]
  },
  {
   "cell_type": "markdown",
   "id": "3a496b17",
   "metadata": {},
   "source": [
    "## Do it Yourself\n",
    "\n",
    "1. Use the graph layout algorithm called `shell_layout` to plot `new_graph`.\n",
    "\n",
    "2. Draw the graph with a third layout algorithm called `random_layout`. Execute the code to  draw the graph several times.\n",
    "\n",
    "3. Draw the graph from the matrix $n$, created in Exercise 1.1 with the layout algorithm `spectral_layout`. Give the nodes the names $V$, $X$, $Y$ and $Z$.\n"
   ]
  },
  {
   "cell_type": "markdown",
   "id": "08ef24ec",
   "metadata": {},
   "source": [
    "### Q1\n"
   ]
  },
  {
   "cell_type": "code",
   "execution_count": null,
   "id": "0c94beb7",
   "metadata": {},
   "outputs": [],
   "source": [
    "newLayout = nx.shell_layout(new_graph)\n",
    "\n",
    "nx.draw(new_graph, newLayout,\n",
    "        labels=newLabels)\n",
    "\n",
    "show()"
   ]
  },
  {
   "cell_type": "markdown",
   "id": "7e7ba1e0",
   "metadata": {},
   "source": [
    "<img src=\"fig/01-networks_1-rendered-unnamed-chunk-19-13.png\" width=\"672\" style=\"display: block; margin: auto;\" />\n"
   ]
  },
  {
   "cell_type": "markdown",
   "id": "21ef36de",
   "metadata": {},
   "source": [
    "### Q2\n"
   ]
  },
  {
   "cell_type": "code",
   "execution_count": null,
   "id": "fa02b629",
   "metadata": {},
   "outputs": [],
   "source": [
    "newLayout = nx.random_layout(new_graph)\n",
    "\n",
    "nx.draw(new_graph, newLayout)\n",
    "\n",
    "show()\n",
    "# The layout of this graph changes each time you run the code."
   ]
  },
  {
   "cell_type": "markdown",
   "id": "7118d65a",
   "metadata": {},
   "source": [
    "<img src=\"fig/01-networks_1-rendered-unnamed-chunk-20-15.png\" width=\"672\" style=\"display: block; margin: auto;\" />\n",
    "\n"
   ]
  },
  {
   "cell_type": "markdown",
   "id": "9f2d8b42",
   "metadata": {},
   "source": [
    "### Q3\n"
   ]
  },
  {
   "cell_type": "code",
   "execution_count": null,
   "id": "e6d019f9",
   "metadata": {},
   "outputs": [],
   "source": [
    "n = zeros((4,4))\n",
    "\n",
    "n[0, 1] = 1 \n",
    "n[1, 2] = 1 \n",
    "n[1, 3] = 1 \n",
    "\n",
    "new = nx.from_numpy_matrix(n)\n",
    "\n",
    "newLabels = {\n",
    "    0: 'V',\n",
    "    1: 'X',\n",
    "    2: 'Y',\n",
    "    3: 'Z',\n",
    "}\n",
    "\n",
    "newLayout = nx.spectral_layout(new)\n",
    "\n",
    "nx.draw(new, newLayout, \n",
    "        labels=newLabels)\n",
    "        \n",
    "show()        "
   ]
  },
  {
   "cell_type": "markdown",
   "id": "798b0675",
   "metadata": {},
   "source": [
    "<img src=\"fig/01-networks_1-rendered-unnamed-chunk-21-17.png\" width=\"672\" style=\"display: block; margin: auto;\" />\n"
   ]
  },
  {
   "cell_type": "markdown",
   "id": "bcec6504",
   "metadata": {},
   "source": [
    "## Customising nodes and edges\n",
    "\n",
    "Now we are going to look at some ways to access and change some properties, or attributes, of the nodes in the graph. We have already changed the node colour from blue to red. Let's say we want to change the colour to gold (for a list of available names see [matplotlib: plot colours](https://matplotlib.org/3.1.0/gallery/color/named_colors.html)), change the node shapes to hexagons ([matplotlib: node shapes](https://matplotlib.org/3.1.1/api/markers_api.html)), and increase the node size. This plot will vary each time you run it, due to the layout algorithm.\n"
   ]
  },
  {
   "cell_type": "code",
   "execution_count": null,
   "id": "6ebb3888",
   "metadata": {},
   "outputs": [],
   "source": [
    "new_graph = nx.from_numpy_matrix(new_matrix)\n",
    "\n",
    "newLayout = nx.random_layout(new_graph)\n",
    "\n",
    "newLabels = {\n",
    "    0: 'A',\n",
    "    1: 'B',\n",
    "    2: 'C',\n",
    "}\n",
    "\n",
    "nx.draw(new_graph, newLayout,\n",
    "        labels=newLabels, \n",
    "        node_color='gold', \n",
    "        node_shape=\"H\", \n",
    "        node_size=2000)\n",
    "show()"
   ]
  },
  {
   "cell_type": "markdown",
   "id": "6425e569",
   "metadata": {},
   "source": [
    "<img src=\"fig/01-networks_1-rendered-unnamed-chunk-22-19.png\" width=\"672\" style=\"display: block; margin: auto;\" />\n",
    "\n",
    "You may want to add another node, but only have it connected to one of the existing nodes. Here we add a new node, which is the number 3 because Python indexes from zero. You can print the nodes, and see that you now have four. \n"
   ]
  },
  {
   "cell_type": "code",
   "execution_count": null,
   "id": "a1fa7b46",
   "metadata": {},
   "outputs": [],
   "source": [
    "new_graph.add_node(3)\n",
    "\n",
    "print(new_graph.nodes)"
   ]
  },
  {
   "cell_type": "markdown",
   "id": "ed802473",
   "metadata": {},
   "source": [
    "```{.output}\n",
    "[0, 1, 2, 3]\n",
    "```\n",
    "\n",
    "We may want to set a new layout for this graph and update the labels to call the new node 'D'. You will see that the new node is not connected to any other node, because we have not specified how it relates to the other nodes.\n"
   ]
  },
  {
   "cell_type": "code",
   "execution_count": null,
   "id": "f1cd6785",
   "metadata": {},
   "outputs": [],
   "source": [
    "newLayout = nx.random_layout(new_graph)\n",
    "newLabels = {\n",
    "    0: 'A',\n",
    "    1: 'B',\n",
    "    2: 'C',\n",
    "    3: 'D'\n",
    "}\n",
    "\n",
    "nx.draw(new_graph, newLayout,\n",
    "        labels=newLabels, \n",
    "        node_color='gold', \n",
    "        node_shape=\"H\", \n",
    "        node_size=800);\n",
    "\n",
    "show()"
   ]
  },
  {
   "cell_type": "markdown",
   "id": "6f9369d2",
   "metadata": {},
   "source": [
    "<img src=\"fig/01-networks_1-rendered-unnamed-chunk-24-21.png\" width=\"672\" style=\"display: block; margin: auto;\" />\n",
    "\n",
    "We discussed above changing the colour of the nodes in our graph. There are several ways you can specify colour in Python ([matplotlib: node shapes](https://matplotlib.org/3.1.1/api/markers_api.html)). The RGB format is one of these methods used for specifying a colour. The colour is specified via an array of length 3 containing the relative amounts of Red, Green and Blue. Red is specified via $[[1, 0, 0]]$, blue via $[[0, 0, 1]]$ and green via $[[0, 1, 0]]$. As special cases, $[[0, 0, 0]]$ will give you black, and $[[1, 1, 1]]$ will give white. "
   ]
  },
  {
   "cell_type": "markdown",
   "id": "c76216a1",
   "metadata": {},
   "source": [
    "## Do it Yourself\n",
    "\n",
    "Add an edge to the network to connect the isolated node D to e.g. node A. \n"
   ]
  },
  {
   "cell_type": "markdown",
   "id": "7618cb7f",
   "metadata": {},
   "source": [
    "## DIY ANSWER\n"
   ]
  },
  {
   "cell_type": "code",
   "execution_count": null,
   "id": "e751a11f",
   "metadata": {},
   "outputs": [],
   "source": [
    "new_graph.add_edge(3, 0)\n",
    "\n",
    "nx.draw(new_graph, newLayout,\n",
    "        labels=newLabels, \n",
    "        node_color='gold', \n",
    "        node_shape=\"H\", \n",
    "        node_size=800);\n",
    "\n",
    "show()        "
   ]
  },
  {
   "cell_type": "markdown",
   "id": "0d2649d0",
   "metadata": {},
   "source": [
    "<img src=\"fig/01-networks_1-rendered-unnamed-chunk-25-23.png\" width=\"672\" style=\"display: block; margin: auto;\" />\n"
   ]
  },
  {
   "cell_type": "markdown",
   "id": "733ab2be",
   "metadata": {},
   "source": [
    "Instead of altering individual elements of a matrix with zeroes (as we have done above) you can also create a graph directly from a Numpy array array. You set up a nested list and convert it to a Numpy array using `array`.\n"
   ]
  },
  {
   "cell_type": "code",
   "execution_count": null,
   "id": "63643031",
   "metadata": {},
   "outputs": [],
   "source": [
    "from numpy import array\n",
    "\n",
    "matrixFromArray =  array([[0, 1, 0, 0], \n",
    "                          [0, 1, 0, 1], \n",
    "                          [1, 0, 1, 1], \n",
    "                          [1, 0, 1, 0]])\n",
    "\n",
    "my_graph = nx.from_numpy_matrix(matrixFromArray)\n",
    "\n",
    "my_graphLayout = nx.spring_layout(my_graph)\n",
    "\n",
    "nx.draw(my_graph, my_graphLayout)\n",
    "\n",
    "show()"
   ]
  },
  {
   "cell_type": "markdown",
   "id": "e3d38375",
   "metadata": {},
   "source": [
    "<img src=\"fig/01-networks_1-rendered-unnamed-chunk-26-25.png\" width=\"672\" style=\"display: block; margin: auto;\" />"
   ]
  },
  {
   "cell_type": "markdown",
   "id": "6bc26c8b",
   "metadata": {},
   "source": [
    "## Do it Yourself\n",
    "\n",
    "Set all the nodes in this graph to turquoise diamonds. By turquoise we mean the RGB colour $[[0, 1, 1]]$"
   ]
  },
  {
   "cell_type": "markdown",
   "id": "c8ab4777",
   "metadata": {},
   "source": [
    "## DIY ANSWER\n"
   ]
  },
  {
   "cell_type": "code",
   "execution_count": null,
   "id": "c95e7b8d",
   "metadata": {},
   "outputs": [],
   "source": [
    "nx.draw(my_graph, newLayout,\n",
    "        labels=newLabels,\n",
    "        node_color=[[0, 1, 1]], \n",
    "        node_shape=\"D\", \n",
    "        node_size=800)\n",
    "show()"
   ]
  },
  {
   "cell_type": "markdown",
   "id": "3beeb28f",
   "metadata": {},
   "source": [
    "<img src=\"fig/01-networks_1-rendered-unnamed-chunk-27-27.png\" width=\"672\" style=\"display: block; margin: auto;\" />\n"
   ]
  },
  {
   "cell_type": "markdown",
   "id": "001fe53f",
   "metadata": {},
   "source": [
    "## Directed graphs\n",
    "\n",
    "So far, we have been working with )_undirected_ graphs: all the edges between the nodes were independent of the direction in which they were set up and thus represented as lines without arrowheads. Such networks are also referred to as _bidirectional_. For some systems, such as biochemical reactions or the food web we looked at earlier, a _directed_ graph is more suited, and gives us more detail on the relationships represented in the network.\n",
    "\n",
    "In NetworkX, directed graphs are handled using the class `DiGraph`. We can make a simple DiGraph by importing a matrix as above, but specifying that is is a directed graph.\n"
   ]
  },
  {
   "cell_type": "code",
   "execution_count": null,
   "id": "5da85e96",
   "metadata": {},
   "outputs": [],
   "source": [
    "directedMatrix =  array([[0, 1, 0, 1],\n",
    "                         [0, 1, 1, 0],\n",
    "                         [0, 0, 0, 1],\n",
    "                         [1, 1, 0, 0]])\n",
    "    \n",
    "directed = nx.from_numpy_matrix(directedMatrix, create_using=nx.DiGraph)\n",
    "\n",
    "directedLayout = nx.spiral_layout(directed)\n",
    "\n",
    "directedLabels = {\n",
    "    0: 'A',\n",
    "    1: 'B',\n",
    "    2: 'C',\n",
    "    3: 'D',\n",
    "}\n",
    "\n",
    "nx.draw(directed, directedLayout, \n",
    "        labels=directedLabels)\n",
    "\n",
    "show()"
   ]
  },
  {
   "cell_type": "markdown",
   "id": "aad91df1",
   "metadata": {},
   "source": [
    "<img src=\"fig/01-networks_1-rendered-unnamed-chunk-28-29.png\" width=\"672\" style=\"display: block; margin: auto;\" />\n",
    "\n",
    "You'll be able to see in this graph that the edges now have arrow tips indicating the direction of the edge. The edge between node A and node D has an arrow tip on each end, indicating that edge is bidirectional. Node B is connected to itself.\n",
    "\n",
    "In NetworkX convention an edge is set up in a network matrix in the direction row $\\rightarrow$ column. Thus, a given row tells us which edges leave the node with that row number. A given column tells us which edges arrive at the node with that column number. Thus the bidirectional edge between node A and node D is given by directedMatrix$_{3,0}$ and directedMatrix$_{0,3}$ both being equal to 1. \n",
    "\n",
    "An entry on the diagonal, directedMatrix$_{1,1}$,  is used for self-connection of node B."
   ]
  },
  {
   "cell_type": "markdown",
   "id": "79369571",
   "metadata": {},
   "source": [
    "## Do it Yourself"
   ]
  },
  {
   "cell_type": "markdown",
   "id": "f4fc876b",
   "metadata": {},
   "source": [
    "Change  directedMatrix$_{3,2}$  to 1. What does this change about the graph?\t"
   ]
  },
  {
   "cell_type": "markdown",
   "id": "470b9433",
   "metadata": {},
   "source": [
    "## DIY ANSWER\n"
   ]
  },
  {
   "cell_type": "code",
   "execution_count": null,
   "id": "97afe649",
   "metadata": {},
   "outputs": [],
   "source": [
    "directedMatrix =  array([[0, 1, 0, 1],\n",
    "                         [0, 1, 1, 0],\n",
    "                         [0, 0, 0, 1],\n",
    "                         [1, 1, 0, 0]])\n",
    "\n",
    "directedMatrix[3, 2] = 1 \n",
    "    \n",
    "directed = nx.from_numpy_matrix(directedMatrix, create_using=nx.DiGraph)\n",
    "\n",
    "directedLayout = nx.spiral_layout(directed)\n",
    "\n",
    "directedLabels = {\n",
    "    0: 'A',\n",
    "    1: 'B',\n",
    "    2: 'C',\n",
    "    3: 'D',\n",
    "}\n",
    "\n",
    "nx.draw(directed, directedLayout, \n",
    "        labels=directedLabels)\n",
    "show()"
   ]
  },
  {
   "cell_type": "markdown",
   "id": "b64f0d25",
   "metadata": {},
   "source": [
    "<img src=\"fig/01-networks_1-rendered-unnamed-chunk-29-31.png\" width=\"672\" style=\"display: block; margin: auto;\" />\n"
   ]
  },
  {
   "cell_type": "markdown",
   "id": "31dd436d",
   "metadata": {},
   "source": [
    "## Bipartite graphs\n",
    "\n",
    "Bipartite graphs are another graph type supported by NetworkX. These are networks which are made up of two groups of nodes which connect to nodes in the other group, but not with other nodes in the same group. Some ecological, biomedical, and epidemiological networks may be represented by bipartite networks. In NetworkX there is not a specific bipartite class of graphs, but both the undirected and directed methods we have used earlier may be used to represent bipartite graphs. However, it is recommend to add an attribute to the nodes in your two groups to help you differentiate them. The convention in NetworkX is to assign one group of nodes an attribute of 0, and the other an attribute of 1.\n"
   ]
  },
  {
   "cell_type": "code",
   "execution_count": null,
   "id": "3216da9e",
   "metadata": {},
   "outputs": [],
   "source": [
    "from networkx.algorithms import bipartite\n",
    "\n",
    "myBipartite = nx.Graph()\n",
    "\n",
    "# Add nodes with the node attribute \"bipartite\"\n",
    "myBipartite.add_nodes_from(['h', 'i', 'j', 'k'], bipartite=0)\n",
    "myBipartite.add_nodes_from(['q', 'r', 's', 't'], bipartite=1)\n",
    "\n",
    "# Add edges only between nodes of opposite node sets\n",
    "myBipartite.add_edges_from([('h', 'q'), \n",
    "                            ('h', 'r'), \n",
    "                            ('i', 'r'), \n",
    "                            ('i', 's'), \n",
    "                            ('j', 's'), \n",
    "                            ('k', 'q'), \n",
    "                            ('h', 't')])"
   ]
  },
  {
   "cell_type": "markdown",
   "id": "a33296a6",
   "metadata": {},
   "source": [
    "Here, we set up a bipartite network with 8 nodes. The 0 group has nodes $'h', 'i', 'j', 'k'$, and the 1 group has nodes $'q', 'r', 's', 't'$. The edges we have specified link nodes from the two groups with each other, but not to any nodes within their own group. NetworkX has a function to check your nodes are connected. \n"
   ]
  },
  {
   "cell_type": "code",
   "execution_count": null,
   "id": "389ae142",
   "metadata": {},
   "outputs": [],
   "source": [
    "nx.is_connected(myBipartite)"
   ]
  },
  {
   "cell_type": "markdown",
   "id": "6c2301ce",
   "metadata": {},
   "source": [
    "```{.output}\n",
    "True\n",
    "```\n",
    "\n",
    "This will return either true or false. Be cautious though, this only tests for connection, not whether your graph is truly bipartite. You can use the function `nx.is_bipartite(myBipartite)` from `networkx.algorithms` to test whether your network is bipartite. It will return `TRUE` if your NetworkX object is bipartite.\n"
   ]
  },
  {
   "cell_type": "code",
   "execution_count": null,
   "id": "89c4d44f",
   "metadata": {},
   "outputs": [],
   "source": [
    "bipartite.is_bipartite(myBipartite)"
   ]
  },
  {
   "cell_type": "markdown",
   "id": "f1ba2491",
   "metadata": {},
   "source": [
    "```{.output}\n",
    "True\n",
    "```\n",
    "\n",
    "We can now plot the bipartite graph, using the layout of your choice. if we include the term $with\\_labels = True$ as we draw the graph, the node names we set earlier become the node labels.\n"
   ]
  },
  {
   "cell_type": "code",
   "execution_count": null,
   "id": "94abfd8f",
   "metadata": {},
   "outputs": [],
   "source": [
    "myBipartiteLayout = nx.spiral_layout(myBipartite)\n",
    "\n",
    "nx.draw(myBipartite, myBipartiteLayout,\n",
    "        node_size=2000,\n",
    "        with_labels=True)\n",
    "        \n",
    "show()        "
   ]
  },
  {
   "cell_type": "markdown",
   "id": "cb998b66",
   "metadata": {},
   "source": [
    "<img src=\"fig/01-networks_1-rendered-unnamed-chunk-33-33.png\" width=\"672\" style=\"display: block; margin: auto;\" />\n",
    "\n",
    "This might not looks like a a bipartite network! But if you check the edges you set up earlier, this is bipartite as no node has an edge with another node in each group. If we want to to look more like a classic bipartite network, we can use the attributes we set up earlier and the module $networkx.algorithms$ to make a custom layout and more clearly visualise the bipartite nature of this graph.\n"
   ]
  },
  {
   "cell_type": "code",
   "execution_count": null,
   "id": "bb3db929",
   "metadata": {},
   "outputs": [],
   "source": [
    "groupzero = nx.bipartite.sets(myBipartite)[0]\n",
    "\n",
    "bipartitePos = nx.bipartite_layout(myBipartite, groupzero)\n",
    "\n",
    "nx.draw(myBipartite, bipartitePos, \n",
    "        node_size=2000, \n",
    "        with_labels = True)\n",
    "\n",
    "show()"
   ]
  },
  {
   "cell_type": "markdown",
   "id": "62ee0f93",
   "metadata": {},
   "source": [
    "<img src=\"fig/01-networks_1-rendered-unnamed-chunk-34-35.png\" width=\"672\" style=\"display: block; margin: auto;\" />\n",
    "\n",
    "Using the bipartite convention of giving one group of nodes the attribute 0 and the other 1 means that you can use this to change other aspects of your graph, such as colour. Here, we use the attributes of the nodes to assign a colour to each group of nodes. The colour list can then be included in the plot.\n"
   ]
  },
  {
   "cell_type": "code",
   "execution_count": null,
   "id": "4d9db68f",
   "metadata": {},
   "outputs": [],
   "source": [
    "color_dictionary = {0: 'gold', 1: 'lavender'}\n",
    "\n",
    "color_list = list()\n",
    "\n",
    "for attr in myBipartite.nodes.data('bipartite'):\n",
    "    \n",
    "    color_list.append(color_dictionary[attr[1]])\n",
    "\n",
    "print(color_list)"
   ]
  },
  {
   "cell_type": "markdown",
   "id": "ae28b353",
   "metadata": {},
   "source": [
    "```{.output}\n",
    "['gold', 'gold', 'gold', 'gold', 'lavender', 'lavender', 'lavender', 'lavender']\n",
    "```\n"
   ]
  },
  {
   "cell_type": "code",
   "execution_count": null,
   "id": "f6f2c0e8",
   "metadata": {},
   "outputs": [],
   "source": [
    "nx.draw(myBipartite, bipartitePos, \n",
    "        node_size=2000, \n",
    "        font_size=20,\n",
    "        with_labels=True, \n",
    "        node_color=color_list) \n",
    "        \n",
    "show()        "
   ]
  },
  {
   "cell_type": "markdown",
   "id": "88600ce0",
   "metadata": {},
   "source": [
    "<img src=\"fig/01-networks_1-rendered-unnamed-chunk-36-37.png\" width=\"672\" style=\"display: block; margin: auto;\" />\n",
    "\n",
    "A readable introduction to bipartite networks and their application to gene-disease networks can be found in section 2.7 of the online textbook [Network Science by A.L. Barabási](http://networksciencebook.com/chapter/2#bipartite-networks)."
   ]
  },
  {
   "cell_type": "markdown",
   "id": "834c577d",
   "metadata": {},
   "source": [
    "## Exercises\n",
    "\n",
    "## End of chapter Exercises\n",
    "\n",
    "# Assignment: the Toxin-Antitoxin Network\n",
    "\n",
    "Use code to create the (undirected) toxin-antitoxin PPI network given at the start of this example. Experiment with the different layout algorithms, the node colour and shape, and the edge color.\n",
    "\n",
    "Hint:\n",
    "\n",
    "* Using pen and paper, draw a diagram of the PPI network.\n",
    "* Decide on the ordering of the nodes. I chose to start with the centre node, and then number them in an anticlockwise direction.  (**Hint:** There are 11 nodes in total.)\n",
    "* Label your pen and paper diagram with the node numbers.\n",
    "* Work out all the edges in the graph. Note the numbers of the node at the start of the edge and the node at the end of the edge. (**Hint:** There are 20 edges in total.)\n",
    "* Define a $11 \\times 11$ matrix in Python using the Numpy `zeros` function.\n",
    "* For each edge, set the corresponding entry in the matrix to 1 (start node number corresponds to row number and end node number corresponds to column number in the adjacency matrix).\n",
    "* Define a cell array containing your node names and create a NetworkX object.\n",
    "* Experiment with the layout, colours, node shapes etc.\n",
    "\n",
    "Remember to use the Python documentation, e.g. using `help()` if you have problems (or alternatively use a search engine such as Google).\n",
    "\n",
    "To save the graph as an image file, use `savefig` as we did earlier. "
   ]
  },
  {
   "cell_type": "markdown",
   "id": "0421572d",
   "metadata": {},
   "source": [
    "## Please check these solutions only after submitting the assignments.\n",
    "\n"
   ]
  },
  {
   "cell_type": "code",
   "execution_count": null,
   "id": "f5ab06a9",
   "metadata": {},
   "outputs": [],
   "source": [
    "import networkx as nx\n",
    "\n",
    "from numpy import zeros\n",
    "\n",
    "ppi = zeros((11,11))\n",
    "\n",
    "ppiLabels = {\n",
    "    0: 'mazG',\n",
    "    1: 'mazE',\n",
    "    2: 'mazF',\n",
    "    3: 'relA',\n",
    "    4: 'era',\n",
    "    5: 'rpo2',\n",
    "    6: 'dcd',\n",
    "    7: 'pyrG',\n",
    "    8: 'adk',\n",
    "    9: 'cpdA',\n",
    "    10: 'ygdH',   \n",
    "}\n",
    "\n",
    "ppi[0, 1] = 1 \n",
    "ppi[2, 1] = 1\n",
    "ppi[0, 2] = 1\n",
    "ppi[2, 3] = 1\n",
    "ppi[0, 3] = 1\n",
    "ppi[1, 3] = 1\n",
    "ppi[4, 3] = 1\n",
    "ppi[5, 3] = 1\n",
    "ppi[4, 0] = 1\n",
    "ppi[5, 0] = 1\n",
    "ppi[5, 6] = 1\n",
    "ppi[5, 7] = 1\n",
    "ppi[0, 7] = 1\n",
    "ppi[8, 7] = 1\n",
    "ppi[8, 0] = 1\n",
    "ppi[8, 9] = 1\n",
    "ppi[8, 10] = 1\n",
    "ppi[0, 9] = 1\n",
    "ppi[9, 10] = 1\n",
    "ppi[0, 10] = 1\n",
    "\n",
    "ppiGraph = nx.from_numpy_matrix(ppi)\n",
    "\n",
    "ppiLayout = nx.spring_layout(ppiGraph)\n",
    "\n",
    "nx.draw(ppiGraph, ppiLayout, \n",
    "              labels=ppiLabels, \n",
    "              node_size=1800, \n",
    "              node_color='lightseagreen', \n",
    "              node_shape=\"8\")\n",
    "              \n",
    "show()              "
   ]
  },
  {
   "cell_type": "markdown",
   "id": "fc8f30dd",
   "metadata": {},
   "source": [
    "<img src=\"fig/01-networks_1-rendered-unnamed-chunk-37-39.png\" width=\"672\" style=\"display: block; margin: auto;\" />\n",
    "\n",
    "\n",
    "\n",
    "\n"
   ]
  },
  {
   "cell_type": "markdown",
   "id": "2fc35225",
   "metadata": {},
   "source": [
    "-\n",
    "-\n",
    "-"
   ]
  },
  {
   "cell_type": "markdown",
   "id": "7285799a",
   "metadata": {},
   "source": [
    "[r-markdown]: https://rmarkdown.rstudio.com/"
   ]
  }
 ],
 "metadata": {
  "jupytext": {
   "cell_metadata_filter": "-all",
   "main_language": "python",
   "notebook_metadata_filter": "-all"
  }
 },
 "nbformat": 4,
 "nbformat_minor": 5
}
