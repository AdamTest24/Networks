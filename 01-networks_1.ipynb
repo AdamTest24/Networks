{
 "cells": [
  {
   "cell_type": "raw",
   "id": "1e6a2f3b",
   "metadata": {},
   "source": [
    "---\n",
    "title: \"Networks - Introduction\"\n",
    "teaching: 60\n",
    "exercises: 60\n",
    "---"
   ]
  },
  {
   "cell_type": "markdown",
   "id": "600f50f2",
   "metadata": {},
   "source": [
    "[**Download Chapter notebook (ipynb)**](01-networks_1.ipynb)\n",
    "\n",
    "[<span style=\"color: rgb(255, 0, 0);\">**Mandatory Lesson Feedback Survey**</span>](https://docs.google.com/forms/d/e/1FAIpQLSdr0capF7jloJhPH3Pki1B3LZoKOG16poOpuVJ7SL2LkwLHQA/viewform?pli=1)"
   ]
  },
  {
   "cell_type": "markdown",
   "id": "eb330bfa",
   "metadata": {},
   "source": [
    "::::::::::::::::::::::::::::::::::::: questions\n",
    "\n",
    "- How are graphs represented?\n",
    "- How are graphs visualised?\n",
    "- What are common types of graphs?\n",
    "::::::::::::::::::::::::::::::::::::::::::::::::\n",
    "\n",
    "::::::::::::::::::::::::::::::::::::: objectives\n",
    "- Understanding the notion of a graph\n",
    "- Explaining nodes and edges represent networks\n",
    "- The network matrix formalism\n",
    "- Visualising graphs\n",
    "- Understanding undirected, directed and bipartite graphs\n",
    "::::::::::::::::::::::::::::::::::::::::::::::::\n",
    "\n",
    "<br>\n",
    "<p align = \"center\">\n",
    "<iframe width=\"560\" height=\"315\" src=\"https://www.youtube.com/embed/E7rHW3CSREU\" title=\"YouTube video player\" frameborder=\"0\" allow=\"accelerometer; autoplay; clipboard-write; encrypted-media; gyroscope; picture-in-picture\" allowfullscreen></iframe>\n",
    "</p>\n",
    "<br>\n",
    "<p align = \"center\">\n",
    "<iframe width=\"560\" height=\"315\" src=\"https://www.youtube.com/embed/w1XWeh-A3h0\" title=\"YouTube video player\" frameborder=\"0\" allow=\"accelerometer; autoplay; clipboard-write; encrypted-media; gyroscope; picture-in-picture\" allowfullscreen></iframe>\n",
    "</p>\n",
    "<br>\n",
    "<p align = \"center\">\n",
    "<iframe width=\"560\" height=\"315\" src=\"https://www.youtube.com/embed/zj7kWVH8uck\" title=\"YouTube video player\" frameborder=\"0\" allow=\"accelerometer; autoplay; clipboard-write; encrypted-media; gyroscope; picture-in-picture\" allowfullscreen></iframe>\n",
    "</p>\n",
    "<br>\n",
    "\n",
    ":::::::::::::::::: prereq\n",
    "\n",
    "## Prerequisites\n",
    "\n",
    "- [Basic Python](https://learntodiscover.github.io/Basic_Python/)\n",
    "- [Basic Matplotlib](https://matplotlib.org)\n",
    "\n",
    "::::::::::::::::::"
   ]
  },
  {
   "cell_type": "markdown",
   "id": "42584c50",
   "metadata": {},
   "source": [
    "## Example: Protein-protein interactions\n",
    "<p style='text-align: justify;'>\n",
    "Protein-protein interactions (PPIs) ([PLoS: Protein–Protein Interactions](https://www.ncbi.nlm.nih.gov/pmc/articles/PMC2891586/)) refer to specific functional or physical contact between proteins in vivo. Interactions may be dependent on biological context, organism, definition of interaction, and many other factors. An example of PPIs can be seen below.\n",
    "</p>\n",
    "\n",
    "![](fig/mazG.png)\n",
    "<p style='text-align: justify;'>\n",
    "PPIs may be conceptualised as a network, in order to give greater context to the protein interactions, and to see how changes to one protein may affect another protein several steps removed. A PPI network can be modelled via a graph in which the nodes represent the proteins and the edges represent interactions: an edge from node A to node B indicates protein B interacts with protein A. The diagram above shows the PPI network centred around the protein $mazG$ in *Escherichia coli K12 MG1655*. This is part of a toxin-antitoxin system. These systems generally encode pairs of *toxin* and inhibitory *antitoxin* proteins, are transmitted by plasmids, and likely serve several biological functions including stress tolerance and genome stabilisation. $mazG$ regulates the type II toxin-antitoxin system shown in this network, where $mazF$ is the toxin and $mazE$ is the antitoxin. More details on the proteins in this network can be seen on STRING-DB ([STRING-DB: mazG in E. coli](https://version-11-0b.string-db.org/cgi/network?networkId=b6lw5pU2DeQm).\n",
    "</p>\n",
    "<p style='text-align: justify;'>\n",
    "At the end of this lesson we are going to use Python to draw this PPI network. Before this however, we shall begin with some examples to familiarise you with the elements and properties of graphs.\n",
    "</p>\n",
    "\n",
    "## An Introduction to Networks\n",
    "\n",
    "### **What is a graph?**\n",
    "<p style='text-align: justify;'>\n",
    "A graph is an object in mathematics to describe relationships between objects. A simple example of a visual representation of a graph is given below.\n",
    "</p>\n",
    "\n",
    "![](fig/simple_graph2.png)\n",
    "\n",
    "<p style='text-align: justify;'>\n",
    "This graph contains three objects - **nodes** or **vertices** - and three links - **edges** or **arcs** - between the nodes. Graphs can be used to represent networks. For a formal definition of a graph see, e.g. the [Wikipedia entry](https://en.wikipedia.org/wiki/Graph_theory).\n",
    "</p>\n",
    "<p style='text-align: justify;'>\n",
    "If the above graph represented a protein-protein interaction network then the nodes would represent three proteins and the edges represent interactions between them. To add further proteins, you add new nodes to the network. To include further dependencies (when there are more nodes), you add edges.\n",
    "</p>\n",
    "\n",
    "We shall see below how we can build, modify and represent networks in Python.\n",
    "\n",
    "### **NetworkX**\n",
    "\n",
    "[__NetworkX__](https://networkx.org) is a Python package for the creation, manipulation, and study of the structure, dynamics, and functions of complex networks.\n",
    "\n",
    "To use NetworkX and visualise your networks, you can import the whole package."
   ]
  },
  {
   "cell_type": "code",
   "execution_count": null,
   "id": "87177854",
   "metadata": {},
   "outputs": [],
   "source": [
    "import networkx as nx\n",
    "from matplotlib.pyplot import show"
   ]
  },
  {
   "cell_type": "markdown",
   "id": "f5b150a7",
   "metadata": {},
   "source": [
    "### **Nodes and Edges**\n",
    "<p style='text-align: justify;'>\n",
    "Nodes are a basic unit of network data, and are linked to other nodes by edges, which show the way(s) in which the nodes are connected or related. In NetworkX, a range of Python objects, including numbers, text strings, and networks can be nodes.\n",
    "</p>\n",
    "\n",
    "Let's start by creating an empty graph object and then add some nodes to it."
   ]
  },
  {
   "cell_type": "code",
   "execution_count": null,
   "id": "614393f9",
   "metadata": {
    "results": "hold"
   },
   "outputs": [],
   "source": [
    "firstGraph = nx.Graph()\n",
    "\n",
    "firstGraph.add_node('Node A')\n",
    "firstGraph.add_node('Node B')\n",
    "firstGraph.add_node('Node C')\n",
    "\n",
    "print(type(firstGraph))\n",
    "print('')\n",
    "print(firstGraph.nodes)\n",
    "print('')"
   ]
  },
  {
   "cell_type": "markdown",
   "id": "e2b8e989",
   "metadata": {},
   "source": [
    "<p style='text-align: justify;'>\n",
    "We have created a graph called _firstGraph_, added three nodes, and then printed the type of object and a list of the nodes in this graph. So far, these nodes have no relationship to each other? To specify relationships (representing e.g. interactions) we can add edges to show how the nodes are connected.\n",
    "</p>"
   ]
  },
  {
   "cell_type": "code",
   "execution_count": null,
   "id": "2e562077",
   "metadata": {},
   "outputs": [],
   "source": [
    "firstGraph.add_edge('Node A', 'Node B')\n",
    "firstGraph.add_edge('Node A', 'Node C')\n",
    "firstGraph.add_edge('Node B', 'Node C')\n",
    "\n",
    "print(firstGraph.edges)"
   ]
  },
  {
   "cell_type": "markdown",
   "id": "1f59cf75",
   "metadata": {},
   "source": [
    "<p style='text-align: justify;'>\n",
    "Here we created edges between Nodes A and B, A and C, and B and C, and printed a list of these edges. We can also get a summary of how many nodes and edges our graph currently has. At this stage, our graph should have three nodes and three edges. Here is how to check that in NetworkX.\n",
    "</p>"
   ]
  },
  {
   "cell_type": "code",
   "execution_count": null,
   "id": "cb0a9d1f",
   "metadata": {},
   "outputs": [],
   "source": [
    "firstGraph.number_of_nodes()"
   ]
  },
  {
   "cell_type": "code",
   "execution_count": null,
   "id": "d7c6d297",
   "metadata": {},
   "outputs": [],
   "source": [
    "firstGraph.number_of_edges()"
   ]
  },
  {
   "cell_type": "markdown",
   "id": "a93a5ecd",
   "metadata": {},
   "source": [
    "### **Visualising networks**\n",
    "\n",
    "We have a basic graph  called `firstGraph`, so let's visualise it. In NetworkX, we can use function `draw`."
   ]
  },
  {
   "cell_type": "code",
   "execution_count": null,
   "id": "15c64e15",
   "metadata": {},
   "outputs": [],
   "source": [
    "nx.draw(firstGraph)\n",
    "show()"
   ]
  },
  {
   "cell_type": "markdown",
   "id": "b65000ea",
   "metadata": {},
   "source": [
    "<p style='text-align: justify;'>\n",
    "With the default settings, we get a triangle with three blue nodes in the corners, connected by three lines. There are no arrowheads on the lines, the network is therefore referred to as _undirected_.\n",
    "</p>\n",
    "<p style='text-align: justify;'>\n",
    "To make the graph less abstract, we can add labels to the nodes. This is done setting up a dictionary where we use as `keys` the names given to the nodes when they were set up. The single `value` is the label to be used for the display.\n",
    "</p>\n",
    "<p style='text-align: justify;'>\n",
    "Through NetworkX we can also dictate the way the nodes are positioned by setting a _layout_. There are many options, and we are using the *spiral* layout as an example. For a list of layout options, please check the [NetworkX documentation](https://networkx.org/documentation/stable/reference/drawing.html#module-networkx.drawing.layout).\n",
    "</p>"
   ]
  },
  {
   "cell_type": "code",
   "execution_count": null,
   "id": "3b2edac9",
   "metadata": {},
   "outputs": [],
   "source": [
    "firstGraphLayout = nx.spiral_layout(firstGraph)\n",
    "\n",
    "firstGraphLabels = {\n",
    "#   key     : value\n",
    "    'Node A': 'A',\n",
    "    'Node B': 'B',\n",
    "    'Node C': 'C',\n",
    "}\n",
    "\n",
    "nx.draw(firstGraph, firstGraphLayout,\n",
    "        labels=firstGraphLabels)\n",
    "\n",
    "show()"
   ]
  },
  {
   "cell_type": "markdown",
   "id": "79929219",
   "metadata": {},
   "source": [
    ":::::::::::::::::: callout\n",
    "## Note\n",
    "We use `draw` providing the graph object followed by the (optional) layout as positional arguments. Other keyword arguments (here the labels) are then added, separated by comma.\n",
    "::::::::::::::::::\n",
    "\n",
    ":::::::::::::::::: callout\n",
    "## Saving Figures\n",
    "If you want to save a network graph to a file, you can use function `savefig`. Here is an example that will save the figure in the folder with the code.\n",
    "::::::::::::::::::"
   ]
  },
  {
   "cell_type": "code",
   "execution_count": null,
   "id": "6e59a406",
   "metadata": {},
   "outputs": [],
   "source": [
    "from matplotlib.pyplot import savefig"
   ]
  },
  {
   "cell_type": "code",
   "execution_count": null,
   "id": "d3378611",
   "metadata": {},
   "outputs": [],
   "source": [
    "firstGraphLayout = nx.spiral_layout(firstGraph)\n",
    "\n",
    "firstGraphLabels = {\n",
    "    'Node A': 'A',\n",
    "    'Node B': 'B',\n",
    "    'Node C': 'C',\n",
    "}\n",
    "\n",
    "nx.draw(firstGraph, firstGraphLayout,\n",
    "        labels=firstGraphLabels)\n",
    "\n",
    "savefig('my_network.png', format='png');\n",
    "\n",
    "show()"
   ]
  },
  {
   "cell_type": "markdown",
   "id": "39118565",
   "metadata": {},
   "source": [
    "<p style='text-align: justify;'>\n",
    "You may want to alter the appearance of your graph in different ways. Let's say you want the nodes to be red: you achieve this by using the keyword argument `node_color`.\n",
    "</p>"
   ]
  },
  {
   "cell_type": "code",
   "execution_count": null,
   "id": "0ced3312",
   "metadata": {},
   "outputs": [],
   "source": [
    "nx.draw(firstGraph, firstGraphLayout,\n",
    "        labels=firstGraphLabels,\n",
    "        node_color='r')\n",
    "\n",
    "show()"
   ]
  },
  {
   "cell_type": "markdown",
   "id": "d2e28efe",
   "metadata": {},
   "source": [
    "Note that, as always, the spelling is the US version, 'color'.\n",
    "\n",
    "## Creating a Network Matrix\n",
    "<p style='text-align: justify;'>\n",
    "A generic way to define graphs is via a two dimensional array known as the **network matrix** or **adjacency matrix**. We won't go into the details of matrices here but will just show you how to create them in Python.\n",
    "</p>\n",
    "<p style='text-align: justify;'>\n",
    "For our purpose a matrix is a collection of numbers. Let us start by creating a matrix that contains only zeroes. A very easy way to create a matrix with zeroes in Python is using `zeros` from Numpy. The number of network nodes is equal to the number of rows and columns in the array.\n",
    "</p>"
   ]
  },
  {
   "cell_type": "code",
   "execution_count": null,
   "id": "0ae817f9",
   "metadata": {
    "lines_to_next_cell": 0
   },
   "outputs": [],
   "source": [
    "from numpy import zeros\n",
    "\n",
    "nodes = 3\n",
    "\n",
    "my_matrix = zeros((nodes, nodes))\n",
    "\n",
    "print(my_matrix)"
   ]
  },
  {
   "cell_type": "markdown",
   "id": "924d2e20",
   "metadata": {},
   "source": [
    "<p style='text-align: justify;'>\n",
    "We have given the `zeros` function two arguments, 3 and 3, and it has created an array of 9 numbers (all of value 0) arranged into 3 rows and 3 columns. This is a **square matrix** because the number of rows is equal to the number of columns. We say that this matrix is of dimension $3\\times 3$.\n",
    "</p>\n",
    "<p style='text-align: justify;'>\n",
    "To check the dimensions of a Numpy array, you can use `shape`. Since in the above code we have assigned the matrix to the variable `my_matrix` we can call it as follows.\n",
    "</p>"
   ]
  },
  {
   "cell_type": "code",
   "execution_count": null,
   "id": "1c2953e1",
   "metadata": {},
   "outputs": [],
   "source": [
    "my_matrix.shape"
   ]
  },
  {
   "cell_type": "markdown",
   "id": "ba051503",
   "metadata": {},
   "source": [
    ":::::::::::::::::: callout\n",
    "## Note\n",
    "Note that `shape` does not take arguments. It returns the dimensions of the matrix as an array of length 2; the first element is the number of rows and the second element is the number of columns.\n",
    "::::::::::::::::::\n",
    "\n",
    "<p style='text-align: justify;'>\n",
    "We can now access each element of `my_matrix` and change its value. To change the element in the second row and the third column we use the syntax `my_matrix[1, 2]` where we first specify the row index and the column index second, separated by a comma.\n",
    "</p>"
   ]
  },
  {
   "cell_type": "code",
   "execution_count": null,
   "id": "02ca698a",
   "metadata": {},
   "outputs": [],
   "source": [
    "my_matrix[2, 0] = 1\n",
    "my_matrix[1, 0] = 1\n",
    "\n",
    "print(my_matrix)"
   ]
  },
  {
   "cell_type": "markdown",
   "id": "c27b2b35",
   "metadata": {},
   "source": [
    "::::::::::::::::::::::::::::::: challenge\n",
    "\n",
    "## Do it Yourself\n",
    "\n",
    "Create a 4x4 matrix called $n$ and set the elements $n_{0,1}=1$, $n_{1,2}=1$ and $n_{1,3}=1$.\n",
    "\n",
    "::::::::::::::::: solution\n",
    "\n",
    "## DIY ANSWER"
   ]
  },
  {
   "cell_type": "code",
   "execution_count": null,
   "id": "842a1197",
   "metadata": {},
   "outputs": [],
   "source": [
    "n = zeros((4,4))\n",
    "\n",
    "n[0, 1] = 1\n",
    "n[1, 2] = 1\n",
    "n[1, 3] = 1\n",
    "\n",
    "print(n)"
   ]
  },
  {
   "cell_type": "markdown",
   "id": "7eebfc17",
   "metadata": {},
   "source": [
    ":::::::::::::::::\n",
    "\n",
    ":::::::::::::::::::::::::::::::\n",
    "\n",
    "## Representing graphs\n",
    "<p style='text-align: justify;'>\n",
    "Now we shall see how a $3 \\times 3$ square matrix can represent a graph with three nodes which we call $A$, $B$ and $C$. Consider the following table where we have taken the matrix elements and labelled both the rows and the columns $A,B$ and $C$.\n",
    "</p>\n",
    "\n",
    "![](fig/matrix_vis.png)\n",
    "\n",
    "<p style='text-align: justify;'>\n",
    "This matrix can represent a graph with three nodes. The value of 1 in the first row and the second column indicates that there is an **edge** from node $A$ to node $B$. Therefore, the row position indicates the node that an edge emanates from and the column position indicates the node that the edge ends on.\n",
    "</p>\n",
    "\n",
    "We can see that there are four edges in this graph:\n",
    "\n",
    "- from node $A$ to node $B$\n",
    "\n",
    "- from node $B$ to node $A$\n",
    "\n",
    "- from node $B$ to node $C$\n",
    "\n",
    "- from node $C$ to node $A$"
   ]
  },
  {
   "cell_type": "markdown",
   "id": "1b3e7408",
   "metadata": {},
   "source": [
    "::::::::::::::::::::::::::::::: challenge\n",
    "\n",
    "## Do it Yourself\n",
    "\n",
    "For the matrix, $n$, created in Exercise 1.1, is a network matrix representing a graph, use code to check the number of nodes and edges.\n",
    "\n",
    "::::::::::::::::: solution\n",
    "\n",
    "## DIY ANSWER\n",
    "\n",
    "```\n",
    "The graph has four nodes and three edges.\n",
    "$n_{0,1} $ or $n[0][1]$ is an edge from node 0 to node 1.\n",
    "$n_{1,2}$ or $n[1][2]$ is an edge from node 1 to node 2.\n",
    "$n_{1,3}$ or $n[1][3]$ is an edge from node 1 to node 3.\n",
    "```\n",
    "\n",
    ":::::::::::::::::\n",
    "\n",
    ":::::::::::::::::::::::::::::::\n",
    "\n",
    "## Different Layouts for Visualisation\n",
    "\n",
    "Now that we know how to create a matrix which can represent the graph, we want to know what the graph coming from this matrix looks like.\n",
    "<p style='text-align: justify;'>\n",
    "First, we set up the network (or: adjacency) matrix in the above table from scratch. Then we use NetworkX function `from_numpy_matrix` to turn our matrix into a NetworkX Graph object called `new_graph`. We set the layout to a spiral layout (as we did before) and then draw the graph.\n",
    "</p>"
   ]
  },
  {
   "cell_type": "code",
   "execution_count": null,
   "id": "e904fbc0",
   "metadata": {},
   "outputs": [],
   "source": [
    "new_matrix = zeros((3,3))\n",
    "\n",
    "new_matrix[1, 2] = 1\n",
    "new_matrix[2, 0] = 1\n",
    "new_matrix[0, 1] = 1\n",
    "new_matrix[1, 0] = 1\n",
    "\n",
    "new_graph = nx.from_numpy_matrix(new_matrix)\n",
    "\n",
    "newLayout = nx.spiral_layout(new_graph)\n",
    "\n",
    "nx.draw(new_graph, newLayout)\n",
    "\n",
    "show()\n"
   ]
  },
  {
   "cell_type": "markdown",
   "id": "8ce5d359",
   "metadata": {},
   "source": [
    "We haven't specified labels. We can specify the labels using a dictionary. Let us first see how the nodes are stored to find their Python names."
   ]
  },
  {
   "cell_type": "code",
   "execution_count": null,
   "id": "70181dd4",
   "metadata": {},
   "outputs": [],
   "source": [
    "list(new_graph.nodes)"
   ]
  },
  {
   "cell_type": "markdown",
   "id": "6bfd3045",
   "metadata": {},
   "source": [
    "By default, the nodes are given the names of their indices. We can refer to these indices and assign labels."
   ]
  },
  {
   "cell_type": "code",
   "execution_count": null,
   "id": "4b0657a3",
   "metadata": {},
   "outputs": [],
   "source": [
    "newLabels = {\n",
    "# key : value\n",
    "    0: 'A',\n",
    "    1: 'B',\n",
    "    2: 'C',\n",
    "}"
   ]
  },
  {
   "cell_type": "markdown",
   "id": "31a8b9f5",
   "metadata": {},
   "source": [
    "We can now draw the graph again, and specify the new labels A, B, and C."
   ]
  },
  {
   "cell_type": "code",
   "execution_count": null,
   "id": "49127735",
   "metadata": {},
   "outputs": [],
   "source": [
    "nx.draw(new_graph, newLayout,\n",
    "        labels=newLabels)\n",
    "\n",
    "show()"
   ]
  },
  {
   "cell_type": "markdown",
   "id": "54027c3a",
   "metadata": {},
   "source": [
    "<p style='text-align: justify;'>\n",
    "There are many different options available for drawing graphs. Use `help(nx.draw)` to get a description of the options available for the graph as a whole, the nodes and the edges.\n",
    "</p>\n",
    "<p style='text-align: justify;'>\n",
    "We shall first experiment with the graph layout. Converting a mathematical description of a graph, i.e. an adjacency matrix, to a graphical description is a difficult problem, especially for large graphs. The algorithms that perform this operation are known as graph layout algorithms and NetworkX has many of them implemented. We used `spiral_layout` to produce the drawing above. Further specifications can be made within each layout, and you can access the details with $help$.\n",
    "</p>\n",
    "\n",
    "Some graph layout algorithms have a random component such as the initial position of the nodes. This means that different realisations of the layouts will not be identical.\n",
    "\n",
    "::::::::::::::::::::::::::::::: challenge\n",
    "\n",
    "## Do it Yourself\n",
    "\n",
    "1. Use the graph layout algorithm called `shell_layout` to plot `new_graph`.\n",
    "\n",
    "2. Draw the graph with a third layout algorithm called `random_layout`. Execute the code to  draw the graph several times.\n",
    "\n",
    "3. Draw the graph from the matrix $n$, created in Exercise 1.1 with the layout algorithm `spectral_layout`. Give the nodes the names $V$, $X$, $Y$ and $Z$."
   ]
  },
  {
   "cell_type": "markdown",
   "id": "72b466f8",
   "metadata": {},
   "source": [
    "::::::::::::::::: solution\n",
    "\n",
    "### Q1"
   ]
  },
  {
   "cell_type": "code",
   "execution_count": null,
   "id": "542bfd27",
   "metadata": {},
   "outputs": [],
   "source": [
    "newLayout = nx.shell_layout(new_graph)\n",
    "\n",
    "nx.draw(new_graph, newLayout,\n",
    "        labels=newLabels)\n",
    "\n",
    "show()"
   ]
  },
  {
   "cell_type": "markdown",
   "id": "5cb276e7",
   "metadata": {},
   "source": [
    ":::::::::::::::::\n",
    "\n",
    "::::::::::::::::: solution\n",
    "\n",
    "### Q2"
   ]
  },
  {
   "cell_type": "code",
   "execution_count": null,
   "id": "a6c17947",
   "metadata": {},
   "outputs": [],
   "source": [
    "newLayout = nx.random_layout(new_graph)\n",
    "\n",
    "nx.draw(new_graph, newLayout)\n",
    "\n",
    "show()\n",
    "# The layout of this graph changes each time you run the code."
   ]
  },
  {
   "cell_type": "markdown",
   "id": "9c226f36",
   "metadata": {},
   "source": [
    ":::::::::::::::::"
   ]
  },
  {
   "cell_type": "markdown",
   "id": "350c0145",
   "metadata": {},
   "source": [
    "::::::::::::::::: solution\n",
    "\n",
    "### Q3"
   ]
  },
  {
   "cell_type": "code",
   "execution_count": null,
   "id": "41fd8828",
   "metadata": {},
   "outputs": [],
   "source": [
    "n = zeros((4,4))\n",
    "\n",
    "n[0, 1] = 1\n",
    "n[1, 2] = 1\n",
    "n[1, 3] = 1\n",
    "\n",
    "new = nx.from_numpy_matrix(n)\n",
    "\n",
    "newLabels = {\n",
    "    0: 'V',\n",
    "    1: 'X',\n",
    "    2: 'Y',\n",
    "    3: 'Z',\n",
    "}\n",
    "\n",
    "newLayout = nx.spectral_layout(new)\n",
    "\n",
    "nx.draw(new, newLayout,\n",
    "        labels=newLabels)\n",
    "\n",
    "show()"
   ]
  },
  {
   "cell_type": "markdown",
   "id": "27529cb6",
   "metadata": {},
   "source": [
    ":::::::::::::::::\n",
    "\n",
    ":::::::::::::::::::::::::::::::\n",
    "\n",
    "## Customising nodes and edges\n",
    "<p style='text-align: justify;'>\n",
    "Now we are going to look at some ways to access and change some properties, or attributes, of the nodes in the graph. We have already changed the node colour from blue to red. Let's say we want to change the colour to gold (for a list of available names see [matplotlib: plot colours](https://matplotlib.org/3.1.0/gallery/color/named_colors.html)), change the node shapes to hexagons ([matplotlib: node shapes](https://matplotlib.org/3.1.1/api/markers_api.html)), and increase the node size. This plot will vary each time you run it, due to the layout algorithm.\n",
    "</p>"
   ]
  },
  {
   "cell_type": "code",
   "execution_count": null,
   "id": "970f8a88",
   "metadata": {},
   "outputs": [],
   "source": [
    "new_graph = nx.from_numpy_matrix(new_matrix)\n",
    "\n",
    "newLayout = nx.random_layout(new_graph)\n",
    "\n",
    "newLabels = {\n",
    "    0: 'A',\n",
    "    1: 'B',\n",
    "    2: 'C',\n",
    "}\n",
    "\n",
    "nx.draw(new_graph, newLayout,\n",
    "        labels=newLabels,\n",
    "        node_color='gold',\n",
    "        node_shape=\"H\",\n",
    "        node_size=2000)\n",
    "show()\n"
   ]
  },
  {
   "cell_type": "markdown",
   "id": "2e5a2507",
   "metadata": {},
   "source": [
    "<p style='text-align: justify;'>\n",
    "You may want to add another node, but only have it connected to one of the existing nodes. Here we add a new node, which is the number 3 (because Python indexes from zero). You can print the nodes and see that you now have four.\n",
    "</p>"
   ]
  },
  {
   "cell_type": "code",
   "execution_count": null,
   "id": "c3bee085",
   "metadata": {},
   "outputs": [],
   "source": [
    "new_graph.add_node(3)\n",
    "\n",
    "print(new_graph.nodes)"
   ]
  },
  {
   "cell_type": "markdown",
   "id": "4308f9d3",
   "metadata": {},
   "source": [
    "<p style='text-align: justify;'>\n",
    "We may want to set a new layout for this graph and update the labels to call the new node 'D'. You will see that the new node is not connected to any other node, because we have not specified how it relates to the other nodes.\n",
    "</p>"
   ]
  },
  {
   "cell_type": "code",
   "execution_count": null,
   "id": "69170fbb",
   "metadata": {},
   "outputs": [],
   "source": [
    "newLayout = nx.random_layout(new_graph)\n",
    "newLabels = {\n",
    "    0: 'A',\n",
    "    1: 'B',\n",
    "    2: 'C',\n",
    "    3: 'D'\n",
    "}\n",
    "\n",
    "nx.draw(new_graph, newLayout,\n",
    "        labels=newLabels,\n",
    "        node_color='gold',\n",
    "        node_shape=\"H\",\n",
    "        node_size=800);\n",
    "\n",
    "show()"
   ]
  },
  {
   "cell_type": "markdown",
   "id": "0d305fba",
   "metadata": {},
   "source": [
    "<p style='text-align: justify;'>\n",
    "We discussed above changing the colour of the nodes in our graph. There are several ways you can specify colour in Python ([matplotlib: node shapes](https://matplotlib.org/3.1.1/api/markers_api.html)). The RGB format is one of these methods used for specifying a colour. The colour is specified via an array of length 3 containing the relative amounts of Red, Green, and Blue. Red is specified via $[[1, 0, 0]]$, blue via $[[0, 0, 1]]$ and green via $[[0, 1, 0]]$. As special cases, $[[0, 0, 0]]$ will give you black, and $[[1, 1, 1]]$ will give white.\n",
    "</p>\n",
    "\n",
    "::::::::::::::::::::::::::::::: challenge\n",
    "\n",
    "## Do it Yourself\n",
    "\n",
    "Add an edge to the network to connect the isolated node D to e.g. node A."
   ]
  },
  {
   "cell_type": "markdown",
   "id": "f3f1bb80",
   "metadata": {},
   "source": [
    "::::::::::::::::: solution\n",
    "\n",
    "## DIY ANSWER"
   ]
  },
  {
   "cell_type": "code",
   "execution_count": null,
   "id": "c4fe5129",
   "metadata": {},
   "outputs": [],
   "source": [
    "new_graph.add_edge(3, 0)\n",
    "\n",
    "nx.draw(new_graph, newLayout,\n",
    "        labels=newLabels,\n",
    "        node_color='gold',\n",
    "        node_shape=\"H\",\n",
    "        node_size=800);\n",
    "\n",
    "show()"
   ]
  },
  {
   "cell_type": "markdown",
   "id": "052d6bb8",
   "metadata": {},
   "source": [
    ":::::::::::::::::\n",
    "\n",
    ":::::::::::::::::::::::::::::::\n",
    "\n",
    "<p style='text-align: justify;'>\n",
    "Instead of altering individual elements of a matrix with zeroes (as we have done above) you can also create a graph directly from a Numpy array. You set up a nested list and convert it to a Numpy array using `array`.\n",
    "</p>"
   ]
  },
  {
   "cell_type": "code",
   "execution_count": null,
   "id": "dd8d0027",
   "metadata": {},
   "outputs": [],
   "source": [
    "from numpy import array\n",
    "\n",
    "matrixFromArray =  array([[0, 1, 0, 0],\n",
    "                          [0, 1, 0, 1],\n",
    "                          [1, 0, 1, 1],\n",
    "                          [1, 0, 1, 0]])\n",
    "\n",
    "my_graph = nx.from_numpy_matrix(matrixFromArray, create_using=nx.DiGraph())\n",
    "\n",
    "my_graphLayout = nx.spring_layout(my_graph)\n",
    "\n",
    "nx.draw(my_graph, my_graphLayout)\n",
    "\n",
    "show()"
   ]
  },
  {
   "cell_type": "markdown",
   "id": "cd32bfb9",
   "metadata": {},
   "source": [
    "::::::::::::::::::::::::::::::: challenge\n",
    "\n",
    "## Do it Yourself\n",
    "\n",
    "Set all the nodes in this graph to turquoise diamonds. By turquoise we mean the RGB colour $[[0, 1, 1]]$\n",
    "\n",
    "::::::::::::::::: solution\n",
    "\n",
    "## DIY ANSWER"
   ]
  },
  {
   "cell_type": "code",
   "execution_count": null,
   "id": "187ab1d2",
   "metadata": {},
   "outputs": [],
   "source": [
    "nx.draw(my_graph, newLayout,\n",
    "        labels=newLabels,\n",
    "        node_color=[[0, 1, 1]],\n",
    "        node_shape=\"D\",\n",
    "        node_size=800)\n",
    "show()"
   ]
  },
  {
   "cell_type": "markdown",
   "id": "2051be6c",
   "metadata": {},
   "source": [
    "A number of prototypic networks are the fully connected network (each node is connected to all other nodes); the random network (each node is connected to a random subset of other nodes); and the Watts-Strogatz network (a network with a combination of systematically and randomly assigned edges). They are demonstrated in a video tutorial accompanying this Lesson.\n",
    "\n",
    ":::::::::::::::::\n",
    "\n",
    ":::::::::::::::::::::::::::::::\n",
    "\n",
    "## Directed graphs\n",
    "<p style='text-align: justify;'>\n",
    "So far, we have been working with _undirected_ graphs: all the edges between the nodes were independent of the direction in which they were set up and thus represented as lines without arrowheads. Such networks are also referred to as _bidirectional_. For some systems, such as biochemical reactions, a _directed_ graph is more suited, and gives us more detail on the relationships represented in the network.\n",
    "</p>\n",
    "<p style='text-align: justify;'>\n",
    "In NetworkX, directed graphs are handled using the class `DiGraph`. We can make a simple DiGraph by importing a matrix as above, but specifying that it is a directed graph.\n",
    "</p>"
   ]
  },
  {
   "cell_type": "code",
   "execution_count": null,
   "id": "fcffa232",
   "metadata": {},
   "outputs": [],
   "source": [
    "directedMatrix =  array([[0, 1, 0, 1],\n",
    "                         [0, 1, 1, 0],\n",
    "                         [0, 0, 0, 1],\n",
    "                         [1, 1, 0, 0]])\n",
    "\n",
    "directed = nx.from_numpy_matrix(directedMatrix, create_using=nx.DiGraph)\n",
    "\n",
    "directedLayout = nx.spiral_layout(directed)\n",
    "\n",
    "directedLabels = {\n",
    "    0: 'A',\n",
    "    1: 'B',\n",
    "    2: 'C',\n",
    "    3: 'D',\n",
    "}\n",
    "\n",
    "nx.draw(directed, directedLayout,\n",
    "        labels=directedLabels)\n",
    "\n",
    "show()"
   ]
  },
  {
   "cell_type": "markdown",
   "id": "8b97a6fa",
   "metadata": {},
   "source": [
    "<p style='text-align: justify;'>\n",
    "You'll be able to see in this graph that the edges now have arrow tips indicating the direction of the edge. The edge between node A and node D has an arrow tip on each end, indicating that edge is bidirectional. Node B is also connected to itself.\n",
    "</p>\n",
    "<p style='text-align: justify;'>\n",
    "In NetworkX convention an edge is set up in a network matrix in the direction row $\\rightarrow$ column. Thus, a given row tells us which edges leave the node with that row number. A given column tells us which edges arrive at the node with that column number. Thus the bidirectional edge between node A and node D is given by directedMatrix$_{3,0}$ and directedMatrix$_{0,3}$ both being equal to 1.\n",
    "</p>\n",
    "An entry on the diagonal, directedMatrix$_{1,1}$,  is used for self-connection of node B.\n",
    "\n",
    "::::::::::::::::::::::::::::::: challenge\n",
    "\n",
    "## Do it Yourself"
   ]
  },
  {
   "cell_type": "markdown",
   "id": "4cb823d6",
   "metadata": {},
   "source": [
    "Change  directedMatrix$_{3,2}$  to 1. What does this change about the graph?\n",
    "\n",
    "::::::::::::::::: solution\n",
    "\n",
    "## DIY ANSWER"
   ]
  },
  {
   "cell_type": "code",
   "execution_count": null,
   "id": "a49866b5",
   "metadata": {},
   "outputs": [],
   "source": [
    "directedMatrix =  array([[0, 1, 0, 1],\n",
    "                         [0, 1, 1, 0],\n",
    "                         [0, 0, 0, 1],\n",
    "                         [1, 1, 0, 0]])\n",
    "\n",
    "directedMatrix[3, 2] = 1\n",
    "\n",
    "directed = nx.from_numpy_matrix(directedMatrix, create_using=nx.DiGraph)\n",
    "\n",
    "directedLayout = nx.spiral_layout(directed)\n",
    "\n",
    "directedLabels = {\n",
    "    0: 'A',\n",
    "    1: 'B',\n",
    "    2: 'C',\n",
    "    3: 'D',\n",
    "}\n",
    "\n",
    "nx.draw(directed, directedLayout,\n",
    "        labels=directedLabels)\n",
    "show()"
   ]
  },
  {
   "cell_type": "markdown",
   "id": "66ed2683",
   "metadata": {},
   "source": [
    ":::::::::::::::::\n",
    "\n",
    ":::::::::::::::::::::::::::::::\n",
    "\n",
    "## Bipartite graphs\n",
    "<p style='text-align: justify;'>\n",
    "Bipartite graphs are another graph type supported by NetworkX. These are networks which are made up of two groups of nodes which connect to nodes in the other group, but not with other nodes in the same group. Some ecological, biomedical, and epidemiological networks may be represented by bipartite networks. In NetworkX there is not a specific bipartite class of graphs, but both the undirected and directed methods we have used earlier may be used to represent bipartite graphs. However, it is recommended to add an attribute to the nodes in your two groups to help you differentiate them. The convention in NetworkX is to assign one group of nodes an attribute of 0, and the other an attribute of 1.\n",
    "</p>"
   ]
  },
  {
   "cell_type": "code",
   "execution_count": null,
   "id": "6d9852ec",
   "metadata": {},
   "outputs": [],
   "source": [
    "from networkx.algorithms import bipartite\n",
    "\n",
    "myBipartite = nx.Graph()\n",
    "\n",
    "# Add nodes with the node attribute \"bipartite\"\n",
    "myBipartite.add_nodes_from(['h', 'i', 'j', 'k'], bipartite=0)\n",
    "myBipartite.add_nodes_from(['q', 'r', 's', 't'], bipartite=1)\n",
    "\n",
    "# Add edges only between nodes of opposite node sets\n",
    "myBipartite.add_edges_from([('h', 'q'),\n",
    "                            ('h', 'r'),\n",
    "                            ('i', 'r'),\n",
    "                            ('i', 's'),\n",
    "                            ('j', 's'),\n",
    "                            ('k', 'q'),\n",
    "                            ('h', 't')])"
   ]
  },
  {
   "cell_type": "markdown",
   "id": "8df0faee",
   "metadata": {},
   "source": [
    "<p style='text-align: justify;'>\n",
    "Here, we set up a bipartite network with 8 nodes. The 0 group has nodes $'h', 'i', 'j', 'k'$, and the 1 group has nodes $'q', 'r', 's', 't'$. The specified edges link nodes from the two groups with each other, but not to any nodes within their own group. NetworkX has a function to check your nodes are connected.\n",
    "</p>"
   ]
  },
  {
   "cell_type": "code",
   "execution_count": null,
   "id": "6f5aacfa",
   "metadata": {},
   "outputs": [],
   "source": [
    "nx.is_connected(myBipartite)"
   ]
  },
  {
   "cell_type": "markdown",
   "id": "0dfd5e45",
   "metadata": {},
   "source": [
    "<p style='text-align: justify;'>\n",
    "This will return either true or false. Be cautious though, this only tests for connection, not whether your graph is truly bipartite. You can use the function `nx.is_bipartite(myBipartite)` from `networkx.algorithms` to test whether your network is bipartite. It will return `TRUE` if your NetworkX object is bipartite.\n",
    "</p>"
   ]
  },
  {
   "cell_type": "code",
   "execution_count": null,
   "id": "afd60f50",
   "metadata": {},
   "outputs": [],
   "source": [
    "bipartite.is_bipartite(myBipartite)"
   ]
  },
  {
   "cell_type": "markdown",
   "id": "46e9d260",
   "metadata": {},
   "source": [
    "<p style='text-align: justify;'>\n",
    "We can now plot the bipartite graph, using the layout of your choice. if we include the term $with\\_labels = True$ as we draw the graph, the node names we set earlier become the node labels.\n",
    "</p>"
   ]
  },
  {
   "cell_type": "code",
   "execution_count": null,
   "id": "c9c3e03b",
   "metadata": {},
   "outputs": [],
   "source": [
    "myBipartiteLayout = nx.spiral_layout(myBipartite)\n",
    "\n",
    "nx.draw(myBipartite, myBipartiteLayout,\n",
    "        node_size=2000,\n",
    "        with_labels=True)\n",
    "\n",
    "show()"
   ]
  },
  {
   "cell_type": "markdown",
   "id": "807deccb",
   "metadata": {},
   "source": [
    "<p style='text-align: justify;'>\n",
    "This might not look like a bipartite network! But if you check the edges you set up earlier, this is bipartite as no node has an edge with another node in each group. If we want it to look more like a classic bipartite network, we can use the attributes we set up earlier and the module $networkx.algorithms$ to make a custom layout and more clearly visualise the bipartite nature of this graph.\n",
    "</p>"
   ]
  },
  {
   "cell_type": "code",
   "execution_count": null,
   "id": "2a8af506",
   "metadata": {},
   "outputs": [],
   "source": [
    "groupzero = nx.bipartite.sets(myBipartite)[0]\n",
    "\n",
    "bipartitePos = nx.bipartite_layout(myBipartite, groupzero)\n",
    "\n",
    "nx.draw(myBipartite, bipartitePos,\n",
    "        node_size=2000,\n",
    "        with_labels = True)\n",
    "\n",
    "show()"
   ]
  },
  {
   "cell_type": "markdown",
   "id": "31cdf71e",
   "metadata": {},
   "source": [
    "<p style='text-align: justify;'>\n",
    "Using the bipartite convention of giving one group of nodes the attribute 0 and the other 1 means that you can use this to change other aspects of your graph, such as colour. Here, we use the attributes of the nodes to assign a colour to each group of nodes. The colour list can then be included in the plot.\n",
    "</p>"
   ]
  },
  {
   "cell_type": "code",
   "execution_count": null,
   "id": "bde2c44e",
   "metadata": {},
   "outputs": [],
   "source": [
    "color_dictionary = {0: 'gold', 1: 'lavender'}\n",
    "\n",
    "color_list = list()\n",
    "\n",
    "for attr in myBipartite.nodes.data('bipartite'):\n",
    "\n",
    "    color_list.append(color_dictionary[attr[1]])\n",
    "\n",
    "print(color_list)"
   ]
  },
  {
   "cell_type": "code",
   "execution_count": null,
   "id": "344df971",
   "metadata": {},
   "outputs": [],
   "source": [
    "nx.draw(myBipartite, bipartitePos,\n",
    "        node_size=2000,\n",
    "        font_size=20,\n",
    "        with_labels=True,\n",
    "        node_color=color_list)\n",
    "\n",
    "show()"
   ]
  },
  {
   "cell_type": "markdown",
   "id": "519f211b",
   "metadata": {},
   "source": [
    "<p style='text-align: justify;'>\n",
    "A readable introduction to bipartite networks and their application to gene-disease networks can be found in section 2.7 of the online textbook [Network Science by A.L. Barabási](http://networksciencebook.com/chapter/2#bipartite-networks).\n",
    "</p>\n",
    "\n",
    "## Exercises\n",
    "\n",
    ":::::::::::::::::::::::::::::::::::::::: challenge\n",
    "## End of chapter Exercises\n",
    "\n",
    "# Assignment: the Toxin-Antitoxin Network\n",
    "\n",
    "Use code to create the (undirected) toxin-antitoxin PPI network given at the start of this example. Experiment with the different layout algorithms, the node colour and shape, and the edge color.\n",
    "\n",
    "Hint:\n",
    "\n",
    "* Using pen and paper, draw a diagram of the PPI network.\n",
    "* Decide on the ordering of the nodes. I chose to start with the centre node, and then number them in an anticlockwise direction.  (**Hint:** There are 11 nodes in total.)\n",
    "* Label your pen and paper diagram with the node numbers.\n",
    "* Work out all the edges in the graph. Note the numbers of the node at the start of the edge and the node at the end of the edge. (**Hint:** There are 20 edges in total.)\n",
    "* Define a $11 \\times 11$ matrix in Python using the Numpy `zeros` function.\n",
    "* For each edge, set the corresponding entry in the matrix to 1 (start node number corresponds to row number and end node number corresponds to column number in the adjacency matrix).\n",
    "* Define a cell array containing your node names and create a NetworkX object.\n",
    "* Experiment with the layout, colours, node shapes etc.\n",
    "\n",
    "Remember to use the Python documentation, e.g. using `help()` if you have problems (or alternatively use a search engine such as Google).\n",
    "\n",
    "To save the graph as an image file, use `savefig` as we did earlier.\n",
    "\n",
    "::::::::::::::::::::: solution\n",
    "\n",
    "## Please check these solutions only after submitting the assignments.\n"
   ]
  },
  {
   "cell_type": "code",
   "execution_count": null,
   "id": "3cabfecc",
   "metadata": {},
   "outputs": [],
   "source": [
    "import networkx as nx\n",
    "\n",
    "from numpy import zeros\n",
    "\n",
    "ppi = zeros((11,11))\n",
    "\n",
    "ppiLabels = {\n",
    "    0: 'mazG',\n",
    "    1: 'mazE',\n",
    "    2: 'mazF',\n",
    "    3: 'relA',\n",
    "    4: 'era',\n",
    "    5: 'rpo2',\n",
    "    6: 'dcd',\n",
    "    7: 'pyrG',\n",
    "    8: 'adk',\n",
    "    9: 'cpdA',\n",
    "    10: 'ygdH',\n",
    "}\n",
    "\n",
    "ppi[0, 1] = 1\n",
    "ppi[2, 1] = 1\n",
    "ppi[0, 2] = 1\n",
    "ppi[2, 3] = 1\n",
    "ppi[0, 3] = 1\n",
    "ppi[1, 3] = 1\n",
    "ppi[4, 3] = 1\n",
    "ppi[5, 3] = 1\n",
    "ppi[4, 0] = 1\n",
    "ppi[5, 0] = 1\n",
    "ppi[5, 6] = 1\n",
    "ppi[5, 7] = 1\n",
    "ppi[0, 7] = 1\n",
    "ppi[8, 7] = 1\n",
    "ppi[8, 0] = 1\n",
    "ppi[8, 9] = 1\n",
    "ppi[8, 10] = 1\n",
    "ppi[0, 9] = 1\n",
    "ppi[9, 10] = 1\n",
    "ppi[0, 10] = 1\n",
    "\n",
    "ppiGraph = nx.from_numpy_matrix(ppi)\n",
    "\n",
    "ppiLayout = nx.spring_layout(ppiGraph)\n",
    "\n",
    "nx.draw(ppiGraph, ppiLayout,\n",
    "              labels=ppiLabels,\n",
    "              node_size=1800,\n",
    "              node_color='lightseagreen',\n",
    "              node_shape=\"8\")\n",
    "\n",
    "show()"
   ]
  },
  {
   "cell_type": "markdown",
   "id": "7c1bcb00",
   "metadata": {},
   "source": [
    ":::::::::::::::::::::\n",
    "\n",
    "::::::::::::::::::::::::::::::::::::::::\n",
    "\n"
   ]
  },
  {
   "cell_type": "markdown",
   "id": "91438cbc",
   "metadata": {},
   "source": [
    "::::::::::::::::::::::::::::::::::::: keypoints\n",
    "\n",
    "- A Python package `NetworkX` is used for studying undirected and directed graphs.\n",
    "- A function `savefig` is used to save a graph to a file.\n",
    "- `network matrix` or `adjacency matrix` is a generic way to create graphs as two dimensional array.\n",
    "- In `NetworkX`, directed graphs are handled using the class `DiGraph`.\n",
    "- Bipartite graphs are made up of two groups of nodes which connect to nodes in the other group, but not with other nodes in the same group.\n",
    "\n",
    ":::::::::::::::::::::::::::::::\n",
    "\n",
    "[r-markdown]: https://rmarkdown.rstudio.com/"
   ]
  }
 ],
 "metadata": {
  "jupytext": {
   "cell_metadata_filter": "results,-all",
   "main_language": "python",
   "notebook_metadata_filter": "-all"
  }
 },
 "nbformat": 4,
 "nbformat_minor": 5
}
