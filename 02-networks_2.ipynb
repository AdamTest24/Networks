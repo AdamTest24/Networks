{
 "cells": [
  {
   "cell_type": "raw",
   "id": "311b8e38",
   "metadata": {
    "lines_to_next_cell": 0
   },
   "source": [
    "---\n",
    "title: \"Networks - Quantification\"\n",
    "teaching: 60\n",
    "exercises: 60\n",
    "---"
   ]
  },
  {
   "cell_type": "markdown",
   "id": "171b76d0",
   "metadata": {},
   "source": [
    "[**Download Chapter pdf**](02-networks_2.md.pdf)\n",
    "\n",
    "[**Download Chapter notebook (ipynb)**](02-networks_2.ipynb)\n",
    "\n",
    "[<span style=\"color: rgb(255, 0, 0);\">**Mandatory Lesson Feedback Survey**</span>](https://docs.google.com/forms/d/e/1FAIpQLSdr0capF7jloJhPH3Pki1B3LZoKOG16poOpuVJ7SL2LkwLHQA/viewform?pli=1)\n"
   ]
  },
  {
   "cell_type": "markdown",
   "id": "f15f12f7",
   "metadata": {},
   "source": [
    "- How to generate test matrices using NetworkX?\n",
    "- what is purpose of node degree and degree distribution?\n",
    "- Can a network be quantified?\n",
    "\n",
    "- Creating network matrices with random edges.\n",
    "- Quantifying network properties.\n",
    "- Applying networks concepts to the C. elegans neural network.\n",
    "\n",
    "<br>\n",
    "<p align = \"center\">\n",
    "<iframe width=\"560\" height=\"315\" src=\"https://www.youtube.com/embed/nU8ossLYBc4\" title=\"YouTube video player\" frameborder=\"0\" allow=\"accelerometer; autoplay; clipboard-write; encrypted-media; gyroscope; picture-in-picture\" allowfullscreen></iframe>\n",
    "</p>\n",
    "<br>\n",
    "<p align = \"center\">\n",
    "<iframe width=\"560\" height=\"315\" src=\"https://www.youtube.com/embed/3MQNgrtjY-A\" title=\"YouTube video player\" frameborder=\"0\" allow=\"accelerometer; autoplay; clipboard-write; encrypted-media; gyroscope; picture-in-picture\" allowfullscreen></iframe>\n",
    "</p>\n",
    "<br>\n",
    "<p align = \"center\">\n",
    "<iframe width=\"560\" height=\"315\" src=\"https://www.youtube.com/embed/FLF-Hz_PhFs\" title=\"YouTube video player\" frameborder=\"0\" allow=\"accelerometer; autoplay; clipboard-write; encrypted-media; gyroscope; picture-in-picture\" allowfullscreen></iframe>\n",
    "</p>\n",
    "<br>"
   ]
  },
  {
   "cell_type": "markdown",
   "id": "278727c2",
   "metadata": {},
   "source": [
    "## Prerequisites\n",
    "\n",
    "- [Introduction to netwerks](01-networks_1.Rmd)\n",
    "\n",
    "\n",
    "\n"
   ]
  },
  {
   "cell_type": "code",
   "execution_count": null,
   "id": "2302c36f",
   "metadata": {},
   "outputs": [],
   "source": [
    "import networkx as nx\n",
    "\n",
    "from matplotlib.pyplot import subplots, show"
   ]
  },
  {
   "cell_type": "markdown",
   "id": "3de8272c",
   "metadata": {},
   "source": [
    "## Generating Test Matrices\n",
    "<p style='text-align: justify;'> \n",
    "NetworkX has a number of ways to create matrices with given specifications. We have seen in Lesson 1 that e.g. `zeros((5,5))` creates a $5\\times 5$ matrix filled with zeroes. This speeds up the creation of a network matrix with few non-zero entries. Similarly one can start with function `ones` from Numppy to create a network with few zero entries.\n",
    "</p>\n",
    "<p style='text-align: justify;'>\n",
    "However, to test network code we would like to be able to easily create test matrices without having to fill in the information about the edges manually. Typically, one wants to quickly create an arbitrary number of realisations to study e.g. a distribution of network properties.\n",
    "</p>\n",
    "\n",
    "Here is a way to create matrices with randomly assigned edges using function `randint`.\n"
   ]
  },
  {
   "cell_type": "code",
   "execution_count": null,
   "id": "a7fd8a41",
   "metadata": {},
   "outputs": [],
   "source": [
    "from numpy.random import randint\n",
    "\n",
    "nodes = 5\n",
    "\n",
    "rm = randint(0, 2, size=(nodes, nodes))\n",
    "\n",
    "print(rm)"
   ]
  },
  {
   "cell_type": "markdown",
   "id": "f2f785c8",
   "metadata": {},
   "source": [
    "```{.output}\n",
    "[[0 1 1 0 1]\n",
    " [1 0 0 0 1]\n",
    " [1 0 0 0 1]\n",
    " [0 1 0 1 0]\n",
    " [0 0 1 0 0]]\n",
    "```\n",
    "\n",
    "Function $randint$ from the numpy module $random$ is used to create an array or matrix filled with integers.\n",
    "<p style='text-align: justify;'>\n",
    "The first argument, composed of two numbers, tells it which integers to use. The first number is the smallest integer, the second number is the largest integer plus one. The first two numbers are work as $(a, b+1)$ so this function will produce numbers (N) in range specified as: $a <= N <= b$. In our case entering $(0, 2)$ will produce zeroes and ones. With $(1, 10)$, all integers from 1 to 9 will be used, all with equal probability. \n",
    "</p>\n",
    "<p style='text-align: justify;'>\n",
    "The second argument specifies the dimensions of the matrix. In our case we want a $nodes\\times nodes$ matrix for a specified number of nodes. The output of the code will look different at each function call because each time you execute the code, Python will assign the zeroes and ones randomly.\n",
    "</p>\n",
    "<p style='text-align: justify;'>\n",
    "There are many ways to create network matrices with different specifications. These can be used to test the null hypothesis about experimental data. For example, one can generate networks with the same amount of nodes and edges as an experimental network but with random assignment of edges to test whether the observed connections are likely to be due to chance. Some biological networks seem to have the so-called ['small world' property](https://en.wikipedia.org/wiki/Small-world_network), where in spite of relatively few connections there are quick ways to get from a node to any other node by tracing a path along combinations of edges.\n",
    "</p>\n",
    "<p style='text-align: justify;'>\n",
    "There is a way to have Python return the same random numbers when using functions like $randint$ by using the $seed$ function (also from the module $random$). Reproducibility is central to coding, and functions such as this facilitate reproducibility.\n",
    "</p>\n",
    "<p style='text-align: justify;'>\n",
    "The command $seed(1)$ sets the value of the 'seed' used to initialise the random number generator to $1$. The choice of seed value is arbitrary. The important thing is that specifying a value will mean the random number results are reproducible.\n",
    "</p>\n",
    "<p style='text-align: justify;'>\n",
    "When we specify a starting seed value for the number generator it still produces random numbers, but will produce the same random numbers each time. To test this run the following example:\n",
    "</p>\n"
   ]
  },
  {
   "cell_type": "code",
   "execution_count": null,
   "id": "759cb669",
   "metadata": {},
   "outputs": [],
   "source": [
    "from numpy.random import seed \n",
    "\n",
    "seed(1)\n",
    "\n",
    "rm1 = randint(0, 2, size=(nodes, nodes))\n",
    "\n",
    "print(rm1)"
   ]
  },
  {
   "cell_type": "markdown",
   "id": "5b29789d",
   "metadata": {},
   "source": [
    "```{.output}\n",
    "[[1 1 0 0 1]\n",
    " [1 1 1 1 0]\n",
    " [0 1 0 1 1]\n",
    " [0 0 1 0 0]\n",
    " [0 1 0 0 1]]\n",
    "```\n",
    "\n",
    "And repeated:\n"
   ]
  },
  {
   "cell_type": "code",
   "execution_count": null,
   "id": "6028de32",
   "metadata": {},
   "outputs": [],
   "source": [
    "seed(1)\n",
    "\n",
    "rm2 = randint(0, 2, size=(nodes, nodes))\n",
    "\n",
    "print(rm2)"
   ]
  },
  {
   "cell_type": "markdown",
   "id": "c0ead197",
   "metadata": {},
   "source": [
    "```{.output}\n",
    "[[1 1 0 0 1]\n",
    " [1 1 1 1 0]\n",
    " [0 1 0 1 1]\n",
    " [0 0 1 0 0]\n",
    " [0 1 0 0 1]]\n",
    "```\n",
    "\n",
    "Since we set the same (arbitrary) seed for both of these random matrices, both calls produce the same pattern of 1s and 0s. The results are identical:\n"
   ]
  },
  {
   "cell_type": "code",
   "execution_count": null,
   "id": "c85fa36c",
   "metadata": {},
   "outputs": [],
   "source": [
    "rm1 == rm2"
   ]
  },
  {
   "cell_type": "markdown",
   "id": "03e183c5",
   "metadata": {},
   "source": [
    "```{.output}\n",
    "array([[ True,  True,  True,  True,  True],\n",
    "       [ True,  True,  True,  True,  True],\n",
    "       [ True,  True,  True,  True,  True],\n",
    "       [ True,  True,  True,  True,  True],\n",
    "       [ True,  True,  True,  True,  True]])\n",
    "```"
   ]
  },
  {
   "cell_type": "markdown",
   "id": "b65dd30c",
   "metadata": {},
   "source": [
    "## Do it Yourself\n",
    "\n",
    "Create a $n\\times m$ matrix with randomly distributed integers from 1 to 6 so simulate a group of 3 players throwing a dice 20 times."
   ]
  },
  {
   "cell_type": "markdown",
   "id": "aeec094e",
   "metadata": {},
   "source": [
    "## DIY ANSWER"
   ]
  },
  {
   "cell_type": "code",
   "execution_count": null,
   "id": "53a3e51b",
   "metadata": {},
   "outputs": [],
   "source": [
    "players = 3\n",
    "rounds  = 20\n",
    "\n",
    "throws = randint(1, 7, size=(rounds, players))\n",
    "\n",
    "print(throws)"
   ]
  },
  {
   "cell_type": "markdown",
   "id": "42f3914f",
   "metadata": {},
   "source": [
    "```{.output}\n",
    "[[5 3 5]\n",
    " [6 3 5]\n",
    " [2 2 1]\n",
    " [6 2 2]\n",
    " [6 2 2]\n",
    " [1 5 2]\n",
    " [1 1 6]\n",
    " [4 3 2]\n",
    " [1 4 6]\n",
    " [2 2 4]\n",
    " [5 1 2]\n",
    " [4 5 3]\n",
    " [5 1 6]\n",
    " [4 2 3]\n",
    " [1 5 2]\n",
    " [3 3 2]\n",
    " [1 2 4]\n",
    " [6 5 4]\n",
    " [6 2 4]\n",
    " [1 1 3]]\n",
    "```\n"
   ]
  },
  {
   "cell_type": "markdown",
   "id": "c40379f9",
   "metadata": {},
   "source": [
    "## NetworkX graph types\n",
    "\n",
    "NetworkX has built-in function to produce classic graphs. For example, a [Petersen graph](https://en.wikipedia.org/wiki/Petersen_graph) has 10 nodes and 15 edges.\n"
   ]
  },
  {
   "cell_type": "code",
   "execution_count": null,
   "id": "f102a9a5",
   "metadata": {},
   "outputs": [],
   "source": [
    "petersen = nx.petersen_graph()\n",
    "\n",
    "layout = nx.spectral_layout(petersen)\n",
    "\n",
    "nx.draw(petersen, with_labels=True)\n",
    "\n",
    "show()"
   ]
  },
  {
   "cell_type": "markdown",
   "id": "b52da3f4",
   "metadata": {},
   "source": [
    "<img src=\"fig/02-networks_2-rendered-unnamed-chunk-7-1.png\" width=\"672\" style=\"display: block; margin: auto;\" />\n",
    "\n",
    "Some stochastic graphs can also be generated simply within NetworkX.  A random lobster graph is a graph which becomes a caterpillar graph if all leaf nodes are removed.\n"
   ]
  },
  {
   "cell_type": "code",
   "execution_count": null,
   "id": "943f3a46",
   "metadata": {},
   "outputs": [],
   "source": [
    "nodes = 50\n",
    "\n",
    "# p1: Probability of adding an edge to the backbone\n",
    "# p2: Probability of adding an edge one level beyond backbone\n",
    "p1 = 0.9\n",
    "p2 = 0.5\n",
    "\n",
    "lobster = nx.random_lobster(50, 0.9, 0.5)\n",
    "\n",
    "nx.draw(lobster, with_labels=True)\n",
    "\n",
    "show()"
   ]
  },
  {
   "cell_type": "markdown",
   "id": "c978576c",
   "metadata": {},
   "source": [
    "<img src=\"fig/02-networks_2-rendered-unnamed-chunk-8-3.png\" width=\"672\" style=\"display: block; margin: auto;\" />\n",
    "\n",
    "<p style='text-align: justify;'>\n",
    "The first argument is the number of nodes in the graph backbone, the second argument is the probability of adding an edge to this main backbone, and the third number gives the probability of adding further edges. Try running it several times, and with different values, to see how it changes.\n",
    "</p>"
   ]
  },
  {
   "cell_type": "markdown",
   "id": "81bd7857",
   "metadata": {},
   "source": [
    "## Do it Yourself"
   ]
  },
  {
   "cell_type": "markdown",
   "id": "9944fff0",
   "metadata": {},
   "source": [
    "Look up the NetworkX documentation, and use the tutorial to plot a [Tutte graph](https://en.wikipedia.org/wiki/Tutte_graph).\t"
   ]
  },
  {
   "cell_type": "markdown",
   "id": "a321ffbe",
   "metadata": {},
   "source": [
    "## DIY ANSWER\n"
   ]
  },
  {
   "cell_type": "code",
   "execution_count": null,
   "id": "aae30b3f",
   "metadata": {},
   "outputs": [],
   "source": [
    "tutte = nx.tutte_graph()\n",
    "\n",
    "layout = nx.spring_layout(tutte, seed=1)\n",
    "\n",
    "nx.draw(tutte, layout,\n",
    "        with_labels=True)\n",
    "show()        "
   ]
  },
  {
   "cell_type": "markdown",
   "id": "68bae6a2",
   "metadata": {},
   "source": [
    "<img src=\"fig/02-networks_2-rendered-unnamed-chunk-9-5.png\" width=\"672\" style=\"display: block; margin: auto;\" />\n"
   ]
  },
  {
   "cell_type": "markdown",
   "id": "c8996fd3",
   "metadata": {},
   "source": [
    "## Node degree\n",
    "<p style='text-align: justify;'>\n",
    "Each node within a graph has a number of edges connected to it and this number is referred to as the node (or vertex) **degree**. For example, consider the protein-protein interation graph generated in the previous Lesson, Exercise 1.5. \n",
    "</p>\n",
    "\n",
    "![](fig/mazG.png)\n",
    "\n",
    "The node representing the protein $adk$ has a degree of 4 and $era$ has a degree of 2. \n",
    "<p style='text-align: justify;'>\n",
    "Furthermore the degree in directed graphs (or digraphs) can be split into the **in degree** which counts the number of edges pointing *into* the node and **out degree** which counts the number of edges emanating *from* the node. In the graph generated for Exercise 1.5, the node with index 0 has an _out degree_ of 3, the node with index 0 has an _out degree_ of 3, the node with index 3 has an _in degree_ of 3, and the node with index 1 has a total degree of 4, with an _out degree_ of 2 and an _in degree_ of 2.\n",
    "</p>\n"
   ]
  },
  {
   "cell_type": "code",
   "execution_count": null,
   "id": "19fc944a",
   "metadata": {},
   "outputs": [],
   "source": [
    "from numpy import array\n",
    "\n",
    "matrixFromArray =  array([[0, 1, 0, 0], \n",
    "                          [0, 1, 0, 1], \n",
    "                          [1, 0, 1, 1], \n",
    "                          [1, 0, 1, 0]])\n",
    "\n",
    "my_graph = nx.from_numpy_matrix(matrixFromArray, create_using=nx.DiGraph)"
   ]
  },
  {
   "cell_type": "markdown",
   "id": "e4ef4353",
   "metadata": {},
   "source": [
    "```{.error}\n",
    "Error in py_call_impl(callable, dots$args, dots$keywords): AttributeError: module 'networkx' has no attribute 'from_numpy_matrix'\n",
    "```"
   ]
  },
  {
   "cell_type": "code",
   "execution_count": null,
   "id": "ef6e543c",
   "metadata": {},
   "outputs": [],
   "source": [
    "my_graphLayout = nx.spring_layout(my_graph, seed=11)"
   ]
  },
  {
   "cell_type": "markdown",
   "id": "34174810",
   "metadata": {},
   "source": [
    "```{.error}\n",
    "Error in py_call_impl(callable, dots$args, dots$keywords): NameError: name 'my_graph' is not defined\n",
    "```"
   ]
  },
  {
   "cell_type": "code",
   "execution_count": null,
   "id": "02587818",
   "metadata": {},
   "outputs": [],
   "source": [
    "nx.draw(my_graph, my_graphLayout, \n",
    "        node_size=1000,\n",
    "        arrowsize=20,\n",
    "        with_labels=True\n",
    "       )"
   ]
  },
  {
   "cell_type": "markdown",
   "id": "f695f19d",
   "metadata": {},
   "source": [
    "```{.error}\n",
    "Error in py_call_impl(callable, dots$args, dots$keywords): NameError: name 'my_graph' is not defined\n",
    "```"
   ]
  },
  {
   "cell_type": "code",
   "execution_count": null,
   "id": "46832b1b",
   "metadata": {},
   "outputs": [],
   "source": [
    "show()"
   ]
  },
  {
   "cell_type": "markdown",
   "id": "65768c97",
   "metadata": {},
   "source": [
    "<img src=\"fig/02-networks_2-rendered-unnamed-chunk-10-7.png\" width=\"672\" style=\"display: block; margin: auto;\" />\n",
    "\n",
    "As we discussed in the previous section, an edge is set up in a network matrix in the direction (from) row $\\rightarrow$ (to) column. Consider the following network matrix. \n"
   ]
  },
  {
   "cell_type": "code",
   "execution_count": null,
   "id": "b70a91fd",
   "metadata": {},
   "outputs": [],
   "source": [
    "from numpy import array\n",
    "\n",
    "mymatrix =  array([[0, 1, 1, 0, 0], \n",
    "                   [1, 0, 0, 1, 1], \n",
    "                   [1, 0, 0, 0, 0], \n",
    "                   [0, 0, 0, 0, 1], \n",
    "                   [1, 0, 1, 0, 0]])\n",
    "\n",
    "print(mymatrix)"
   ]
  },
  {
   "cell_type": "markdown",
   "id": "be899aa4",
   "metadata": {},
   "source": [
    "```{.output}\n",
    "[[0 1 1 0 0]\n",
    " [1 0 0 1 1]\n",
    " [1 0 0 0 0]\n",
    " [0 0 0 0 1]\n",
    " [1 0 1 0 0]]\n",
    "```\n",
    "\n",
    "<p style='text-align: justify;'>\n",
    "The first _column_ tells us which edges reach the first node (node 0) from another node. Adding the numbers up we find an in degree of 3 for node 0. If we look at the first _row_ we can see that there are two edges originating from node 0, giving an out degree of 2.\n",
    "</p>\n",
    "<p style='text-align: justify;'>\n",
    "Simple as it is, one would nevertheless like to get it done by the computer rather than by hand. In NetworkX there are specific functions to calculate graph qualities such as node degree. To turn the array into a directed graph and get the degree of all nodes in a network described by an adjacency matrix we can use the following code. After the matrix is set up by hand, it is converted into a NetworkX DiGraph object - so NetworkX will parse the directions of the edges as a directed graph.\n",
    "</p>\n",
    "\n",
    "The in degree is calculated, which is the sum over all columns, and the out degree is calculated, which is the sum over all rows.\n",
    "\n"
   ]
  },
  {
   "cell_type": "code",
   "execution_count": null,
   "id": "1eb67a0b",
   "metadata": {},
   "outputs": [],
   "source": [
    "mygraph = nx.from_numpy_matrix(mymatrix, create_using=nx.DiGraph)"
   ]
  },
  {
   "cell_type": "markdown",
   "id": "00842788",
   "metadata": {},
   "source": [
    "```{.error}\n",
    "Error in py_call_impl(callable, dots$args, dots$keywords): AttributeError: module 'networkx' has no attribute 'from_numpy_matrix'\n",
    "```"
   ]
  },
  {
   "cell_type": "code",
   "execution_count": null,
   "id": "fe44de7c",
   "metadata": {},
   "outputs": [],
   "source": [
    "mygraph.in_degree"
   ]
  },
  {
   "cell_type": "markdown",
   "id": "b636d788",
   "metadata": {},
   "source": [
    "```{.error}\n",
    "Error in py_call_impl(callable, dots$args, dots$keywords): NameError: name 'mygraph' is not defined\n",
    "```\n"
   ]
  },
  {
   "cell_type": "code",
   "execution_count": null,
   "id": "1a3c6e15",
   "metadata": {},
   "outputs": [],
   "source": [
    "mygraph.out_degree"
   ]
  },
  {
   "cell_type": "markdown",
   "id": "5d899550",
   "metadata": {},
   "source": [
    "```{.error}\n",
    "Error in py_call_impl(callable, dots$args, dots$keywords): NameError: name 'mygraph' is not defined\n",
    "```\n",
    "\n",
    "<p style='text-align: justify;'>\n",
    "The output is viewed as a list of nodes with each node followed by the in/out degree. For example, the first node (node 0) has an in degree of 3 (edges from nodes 1, 2 and 4) and out degree 2 (edges to nodes 1 and 2). If the matrix is symmetric, the in degree and the out degree arrays will be identical. In this case we simply refer to the degree.\n",
    "</p>\n",
    "<p style='text-align: justify;'>\n",
    "This graph can also be visualised to confirm the in and out degree of each node. I've also added a few new customisation options here in the graph, which you can find and amend using the NetworkX documentation.\n",
    "</p>\n"
   ]
  },
  {
   "cell_type": "code",
   "execution_count": null,
   "id": "0d51e84b",
   "metadata": {},
   "outputs": [],
   "source": [
    "mygraphLayout = nx.spectral_layout(mygraph)"
   ]
  },
  {
   "cell_type": "markdown",
   "id": "70e3f3af",
   "metadata": {},
   "source": [
    "```{.error}\n",
    "Error in py_call_impl(callable, dots$args, dots$keywords): NameError: name 'mygraph' is not defined\n",
    "```"
   ]
  },
  {
   "cell_type": "code",
   "execution_count": null,
   "id": "12ba7db7",
   "metadata": {},
   "outputs": [],
   "source": [
    "mygraphLabels = {\n",
    "    0: 'Node 0',\n",
    "    1: 'Node 1',\n",
    "    2: 'Node 2',\n",
    "    3: 'Node 3',\n",
    "    4: 'Node 4',\n",
    "}\n",
    "\n",
    "nx.draw(mygraph, mygraphLayout,\n",
    "        labels = mygraphLabels, \n",
    "        node_color = 'lavender',\n",
    "        node_size = 2000, \n",
    "        arrowsize=25, \n",
    "        arrowstyle='->')"
   ]
  },
  {
   "cell_type": "markdown",
   "id": "20a136a3",
   "metadata": {},
   "source": [
    "```{.error}\n",
    "Error in py_call_impl(callable, dots$args, dots$keywords): NameError: name 'mygraph' is not defined\n",
    "```"
   ]
  },
  {
   "cell_type": "code",
   "execution_count": null,
   "id": "334e70e2",
   "metadata": {},
   "outputs": [],
   "source": [
    "show()"
   ]
  },
  {
   "cell_type": "markdown",
   "id": "20087f1d",
   "metadata": {},
   "source": [
    "<img src=\"fig/02-networks_2-rendered-unnamed-chunk-14-9.png\" width=\"672\" style=\"display: block; margin: auto;\" />"
   ]
  },
  {
   "cell_type": "markdown",
   "id": "37c35cfe",
   "metadata": {},
   "source": [
    "## Do it Yourself\n",
    "\n",
    "1. Using a random seed of 100, set up a $15\\times 15$ matrix randomly distributed integers 0 and 1.\n",
    "\n",
    "2. Turn this matrix into a NetworkX DiGraph object.\n",
    "\n",
    "3. Calculate the _in_ and _out degrees_ for this graph."
   ]
  },
  {
   "cell_type": "markdown",
   "id": "95edccde",
   "metadata": {},
   "source": [
    "## Q1\t"
   ]
  },
  {
   "cell_type": "code",
   "execution_count": null,
   "id": "c0b844e2",
   "metadata": {},
   "outputs": [],
   "source": [
    "nodes = 15\n",
    "\n",
    "seed(100)\n",
    "\n",
    "rm_15 = randint(0, 2, size=(nodes, nodes))\n",
    "\n",
    "print(rm_15)"
   ]
  },
  {
   "cell_type": "markdown",
   "id": "4eb6d83d",
   "metadata": {},
   "source": [
    "```{.output}\n",
    "[[0 0 1 1 1 1 0 0 0 0 0 1 0 0 0]\n",
    " [0 1 0 0 1 0 1 0 0 0 1 1 1 0 0]\n",
    " [1 0 0 1 1 1 1 1 0 0 1 1 1 1 1]\n",
    " [1 1 1 0 1 1 1 0 0 1 1 0 1 0 1]\n",
    " [1 1 0 0 1 0 0 1 1 1 0 0 0 0 0]\n",
    " [0 1 0 1 0 1 0 0 1 1 0 0 0 1 1]\n",
    " [1 1 0 0 1 1 0 0 1 0 1 0 1 0 1]\n",
    " [0 1 0 1 1 0 0 1 0 1 1 0 0 0 0]\n",
    " [0 0 1 0 1 1 0 1 0 0 0 0 0 0 1]\n",
    " [0 1 1 0 0 0 0 1 1 1 1 0 0 1 1]\n",
    " [0 0 1 0 0 0 0 1 1 0 1 0 1 0 1]\n",
    " [0 1 1 1 1 1 1 1 1 0 0 0 0 1 0]\n",
    " [1 0 1 0 0 0 1 0 0 0 1 0 1 1 0]\n",
    " [0 1 1 1 0 1 0 0 0 0 0 1 1 0 0]\n",
    " [1 0 0 0 1 0 1 0 1 1 0 0 0 1 0]]\n",
    "```\n",
    "\n"
   ]
  },
  {
   "cell_type": "markdown",
   "id": "48f47db4",
   "metadata": {},
   "source": [
    "## Q2\t"
   ]
  },
  {
   "cell_type": "code",
   "execution_count": null,
   "id": "8fe039fc",
   "metadata": {},
   "outputs": [],
   "source": [
    "rm_15_Graph = nx.from_numpy_matrix(rm_15, create_using=nx.DiGraph)"
   ]
  },
  {
   "cell_type": "markdown",
   "id": "1676b8e4",
   "metadata": {},
   "source": [
    "```{.error}\n",
    "Error in py_call_impl(callable, dots$args, dots$keywords): AttributeError: module 'networkx' has no attribute 'from_numpy_matrix'\n",
    "```\n",
    "\n"
   ]
  },
  {
   "cell_type": "markdown",
   "id": "7c6b7e01",
   "metadata": {},
   "source": [
    "## Q3\t"
   ]
  },
  {
   "cell_type": "code",
   "execution_count": null,
   "id": "0f6499c3",
   "metadata": {},
   "outputs": [],
   "source": [
    "# Printing in-degrees\n",
    "print('Index', '    In Degree')\n",
    "\n",
    "for ind, deg in rm_15_Graph.in_degree:\n",
    "    \n",
    "    print('  ', ind, '       ', deg)"
   ]
  },
  {
   "cell_type": "markdown",
   "id": "b5bb942b",
   "metadata": {},
   "source": [
    "```{.output}\n",
    "Index     In Degree\n",
    "```\n",
    "\n",
    "```{.error}\n",
    "Error in py_call_impl(callable, dots$args, dots$keywords): NameError: name 'rm_15_Graph' is not defined\n",
    "```\n"
   ]
  },
  {
   "cell_type": "code",
   "execution_count": null,
   "id": "aad102f6",
   "metadata": {},
   "outputs": [],
   "source": [
    "# Printing out-degrees\n",
    "print('Index', '   Out Degree')\n",
    "\n",
    "for ind, deg in rm_15_Graph.out_degree:\n",
    "    \n",
    "    print('  ', ind, '       ', deg)"
   ]
  },
  {
   "cell_type": "markdown",
   "id": "5381bd2b",
   "metadata": {},
   "source": [
    "```{.output}\n",
    "Index    Out Degree\n",
    "```\n",
    "\n",
    "```{.error}\n",
    "Error in py_call_impl(callable, dots$args, dots$keywords): NameError: name 'rm_15_Graph' is not defined\n",
    "```"
   ]
  },
  {
   "cell_type": "markdown",
   "id": "3ee19e65",
   "metadata": {},
   "source": [
    "## Degree distribution\n",
    "<p style='text-align: justify;'>\n",
    "It is straightforward to look at the degrees of a network with only a few nodes. However, for large networks with many nodes, the degree will be an array with as many numbers as there are nodes. This requires a more convenient way to summarise this information. An often used solution is to look at the _degree distribution_. \n",
    "</p>\n",
    "The degree distribution is normally presented as a histogram showing how many times a given degree was found in that network.\n",
    "\n",
    "As an example, for a random $10\\times 10$ matrix: \n"
   ]
  },
  {
   "cell_type": "code",
   "execution_count": null,
   "id": "4c0b0faa",
   "metadata": {},
   "outputs": [],
   "source": [
    "seed(4)\n",
    "\n",
    "rm_mat = randint(0, 2, size=(10, 10))\n",
    "\n",
    "rm_net = nx.from_numpy_matrix(rm_mat)"
   ]
  },
  {
   "cell_type": "markdown",
   "id": "2d1c8d52",
   "metadata": {},
   "source": [
    "```{.error}\n",
    "Error in py_call_impl(callable, dots$args, dots$keywords): AttributeError: module 'networkx' has no attribute 'from_numpy_matrix'\n",
    "```\n",
    "\n",
    "The degree distribution can be plotted using NetworkX and matplotlib, here plotted simply with the `hist` plot.\n"
   ]
  },
  {
   "cell_type": "code",
   "execution_count": null,
   "id": "18288154",
   "metadata": {},
   "outputs": [],
   "source": [
    "fig, ax = subplots()\n",
    "\n",
    "ax.hist(dict(rm_net.degree()).values(), bins=10);"
   ]
  },
  {
   "cell_type": "markdown",
   "id": "21b73ddd",
   "metadata": {},
   "source": [
    "```{.error}\n",
    "Error in py_call_impl(callable, dots$args, dots$keywords): NameError: name 'rm_net' is not defined\n",
    "```"
   ]
  },
  {
   "cell_type": "code",
   "execution_count": null,
   "id": "6a0c819a",
   "metadata": {},
   "outputs": [],
   "source": [
    "ax.set_title(\"Degree Distribution\", fontsize=20)\n",
    "ax.set_ylabel(\"Count\", fontsize=16)\n",
    "ax.set_xlabel(\"Degree\", fontsize=16);\n",
    "\n",
    "show()"
   ]
  },
  {
   "cell_type": "markdown",
   "id": "6abeaa67",
   "metadata": {},
   "source": [
    "<img src=\"fig/02-networks_2-rendered-unnamed-chunk-20-11.png\" width=\"672\" style=\"display: block; margin: auto;\" />\n",
    "\n",
    "<p style='text-align: justify;'>\n",
    "For a more complex example, we can generate a network with 100 nodes and display its degree distribution (code taken [from the NetworkX documentation](https://networkx.org/documentation/networkx-2.3/auto_examples/drawing/plot_degree_histogram.html)).\n",
    "</p>\n"
   ]
  },
  {
   "cell_type": "code",
   "execution_count": null,
   "id": "61323eff",
   "metadata": {
    "lines_to_next_cell": 2
   },
   "outputs": [],
   "source": [
    "nodes = 100\n",
    "probab = 0.02\n",
    "\n",
    "G = nx.gnp_random_graph(nodes, probab, seed=1)"
   ]
  },
  {
   "cell_type": "code",
   "execution_count": null,
   "id": "142146f9",
   "metadata": {},
   "outputs": [],
   "source": [
    "from matplotlib.pyplot import axes, axis, title\n",
    "\n",
    "import collections\n",
    "\n",
    "degree_sequence = sorted([d for n, d in G.degree()], reverse=True)  # degree sequence\n",
    "degreeCount = collections.Counter(degree_sequence)\n",
    "deg, cnt = zip(*degreeCount.items())\n",
    "\n",
    "fig, ax = subplots()\n",
    "\n",
    "ax.bar(deg, cnt, width=0.80, color=\"b\")\n",
    "\n",
    "title(\"Degree Distribution\", fontsize=20)\n",
    "ax.set_ylabel(\"Count\", fontsize=16)\n",
    "ax.set_xlabel(\"Degree\", fontsize=16)\n",
    "ax.set_xticks([d for d in deg])\n",
    "ax.set_xticklabels(deg);\n",
    "\n",
    "# draw graph in inset\n",
    "axes([0.4, 0.4, 0.5, 0.5])\n",
    "\n",
    "G.subgraph(sorted(nx.connected_components(G), key=len, reverse=True)[0])\n",
    "\n",
    "pos = nx.spring_layout(G, seed=2)\n",
    "\n",
    "axis(\"off\")\n",
    "\n",
    "nx.draw_networkx_nodes(G, pos, node_size=30, node_color='r')\n",
    "nx.draw_networkx_edges(G, pos);\n",
    "\n",
    "show()"
   ]
  },
  {
   "cell_type": "markdown",
   "id": "475f84d5",
   "metadata": {},
   "source": [
    "```{.output}\n",
    "<BarContainer object of 8 artists>\n",
    "<networkx.classes.graph.Graph object at 0x7f3fc4ec4ee0>\n",
    "(0.0, 1.0, 0.0, 1.0)\n",
    "```\n",
    "\n",
    "<img src=\"fig/02-networks_2-rendered-unnamed-chunk-22-13.png\" width=\"672\" style=\"display: block; margin: auto;\" />\n",
    "\n",
    "This example plots the degree distribution, showing, for example, that 11 nodes in this network have no edges. From the overlaid graph, you can verify that.\n",
    "\n",
    "Note how the degree with highest probability (2) reflects the choice of edge probability of 2%."
   ]
  },
  {
   "cell_type": "markdown",
   "id": "28457f53",
   "metadata": {},
   "source": [
    "## Do it Yourself\n",
    "\n",
    "1. Change the number of nodes to 1000 and check the maximum of the degree distribution. How does it depend on the number of nodes?\n",
    "\n",
    "2. The second argument in the generation of the graph gives the probability of edge creation. How do both the appearance of the network and the degree distribution change?\n",
    "\t"
   ]
  },
  {
   "cell_type": "markdown",
   "id": "60624aa6",
   "metadata": {},
   "source": [
    "## Q1\n",
    "``` degree_max = probab / nodes``` \n",
    "\n",
    "\n",
    "```python\n",
    "nodes = 1000\n",
    "probab = 0.02\n",
    "\n",
    "G = nx.gnp_random_graph(nodes, probab, seed=1)\n",
    "\n",
    "degree_sequence = sorted([d for n, d in G.degree()], reverse=True)  # degree sequence\n",
    "degreeCount = collections.Counter(degree_sequence)\n",
    "deg, cnt = zip(*degreeCount.items())\n",
    "\n",
    "fig, ax = subplots()\n",
    "\n",
    "ax.bar(deg, cnt, width=0.80, color=\"b\")\n",
    "\n",
    "title(\"Degree Histogram\", fontsize=20)\n",
    "ax.set_ylabel(\"Count\", fontsize=16)\n",
    "ax.set_xlabel(\"Degree\", fontsize=16)\n",
    "ax.set_xticks([d for d in deg])\n",
    "ax.set_xticklabels(deg);\n",
    "\n",
    "# draw graph in inset\n",
    "axes([0.4, 0.4, 0.5, 0.5])\n",
    "\n",
    "G.subgraph(sorted(nx.connected_components(G), key=len, reverse=True)[0])\n",
    "\n",
    "pos = nx.spring_layout(G, seed=2)\n",
    "\n",
    "axis(\"off\")\n",
    "\n",
    "nx.draw_networkx_nodes(G, pos, node_size=30, node_color='r')\n",
    "nx.draw_networkx_edges(G, pos);\n",
    "\n",
    "show()\n",
    "```\n",
    "\n",
    "```{.output}\n",
    "<BarContainer object of 28 artists>\n",
    "<networkx.classes.graph.Graph object at 0x7f3fc4c437c0>\n",
    "(0.0, 1.0, 0.0, 1.0)\n",
    "```\n",
    "\n",
    "<img src=\"fig/02-networks_2-rendered-unnamed-chunk-23-15.png\" width=\"672\" style=\"display: block; margin: auto;\" />\n"
   ]
  },
  {
   "cell_type": "markdown",
   "id": "23b5c1ba",
   "metadata": {},
   "source": [
    "## Q2\n",
    "\n",
    "> The edge probability determines how connected a graph is. The higher the probability, the more connected. With a probability of 1, a fully connected graph is created. The most frequenc degree is given by the above formula."
   ]
  },
  {
   "cell_type": "markdown",
   "id": "2eddcf7c",
   "metadata": {},
   "source": [
    "## Other Graph Properties\n",
    "### **Clustering coefficient**\n",
    "<p style='text-align: justify;'>\n",
    "As an example of a more complex quantitative measure, we will look at the clustering coefficient.  \n",
    "We will look at its formula and discuss extreme cases to understand what useful information the measure is supposed to convey. We then practice the use of creating test matrices and do calculations of clustering coefficients of the corresponding networks. \n",
    "</p>\n",
    "\n",
    "##Definition\n",
    "\n",
    "The clustering coefficient is defined by the formula:"
   ]
  },
  {
   "cell_type": "markdown",
   "id": "c1f4f1b9",
   "metadata": {},
   "source": [
    "$C_u = \\frac{ 2e }{ k(k-1) }$"
   ]
  },
  {
   "cell_type": "markdown",
   "id": "598e7c84",
   "metadata": {},
   "source": [
    "<p style='text-align: justify;'>\n",
    "The __clustering coefficient__, here denoted by $C_u$, is a number that is calculated for a single node, $u$. For the calculation one needs to know the degree of the node, $k$. The degree represents the number of direct connections of the node. Nodes connected by an edge are referred to as nearest neighbours, or simply neighbours. Therefore, the degree is also equal to the number of neighbours. Finally, $e$ is the number of edges (connections) between the neighbours of $u$.\n",
    "</p>\n",
    "<p style='text-align: justify;'>\n",
    "The formula is derived as the number of edges between the neighbours divided by the maximally possible number of connections. The maximal number of possible connections of $k$ neighbours is $\\frac{ k(k-1)}{2}$. There are $k\\times k$ elements but if we leave out self-connections it becomes \n",
    "$k\\times (k-1)$. As each edge is included twice (forward and backward) division by 2 gives the number of undirected connections.\n",
    "</p>\n",
    "<p style='text-align: justify;'>\n",
    "This yields some important properties: if there is no connection between any of the neighbours, then $e=0$ and $C_u = 0$. If all neighbours are maximally connected (each node connected to every other node), then \n",
    "$e=\\frac{ k(k-1)}{ 2 }$ and $C_u = 1$. The clustering coefficient therefore tells us the extent to which neighbours of a node are connected among themselves. This definition is valid for undirected networks with no self-connections.\n",
    "</p>\n",
    "We can use random test graphs, as we made earlier, to explore clustering coefficients in NetworkX. Here we'll make a 10 by 10 random graph, setting a seed so it's reproducible.\n"
   ]
  },
  {
   "cell_type": "code",
   "execution_count": null,
   "id": "dddabe57",
   "metadata": {},
   "outputs": [],
   "source": [
    "seed_number = 4\n",
    "nodes = 10\n",
    "\n",
    "seed(seed_number)\n",
    "\n",
    "rm_graph = randint(0, 2, size=(nodes, nodes))\n",
    "\n",
    "myRandom = nx.from_numpy_matrix(rm_graph) \n",
    "\n",
    "nx.draw(myRandom, node_color='y', with_labels=True)\n",
    "\n",
    "show()"
   ]
  },
  {
   "cell_type": "markdown",
   "id": "aa2fd2b9",
   "metadata": {},
   "source": [
    "```{.error}\n",
    "Error in py_call_impl(callable, dots$args, dots$keywords): AttributeError: module 'networkx' has no attribute 'from_numpy_matrix'\n",
    "```\n",
    "\n",
    "```{.error}\n",
    "Error in py_call_impl(callable, dots$args, dots$keywords): NameError: name 'myRandom' is not defined\n",
    "```\n",
    "\n",
    "<img src=\"fig/02-networks_2-rendered-unnamed-chunk-24-17.png\" width=\"672\" style=\"display: block; margin: auto;\" />\n",
    "\n",
    "<p style='text-align: justify;'>\n",
    "We can now use NetworkX to learn more about this graph. To print a list of the clustering coefficient for each node (calculated with the above formula), we use the function $clustering$.\n",
    "</p>\n"
   ]
  },
  {
   "cell_type": "code",
   "execution_count": null,
   "id": "8848e92e",
   "metadata": {},
   "outputs": [],
   "source": [
    "print(nx.clustering(myRandom))"
   ]
  },
  {
   "cell_type": "markdown",
   "id": "dadf9b10",
   "metadata": {},
   "source": [
    "```{.error}\n",
    "Error in py_call_impl(callable, dots$args, dots$keywords): NameError: name 'myRandom' is not defined\n",
    "```\n",
    "\n",
    "With slightly nicer formatting:\n"
   ]
  },
  {
   "cell_type": "code",
   "execution_count": null,
   "id": "296a4f48",
   "metadata": {},
   "outputs": [],
   "source": [
    "for ind, cc in dict(nx.clustering(myRandom)).items():\n",
    "    \n",
    "    print(ind, '   ', cc)"
   ]
  },
  {
   "cell_type": "markdown",
   "id": "c0333fd5",
   "metadata": {},
   "source": [
    "```{.error}\n",
    "Error in py_call_impl(callable, dots$args, dots$keywords): NameError: name 'myRandom' is not defined\n",
    "```\n",
    "\n",
    "To extract the clustering coefficients from the result as a Python list:\n"
   ]
  },
  {
   "cell_type": "code",
   "execution_count": null,
   "id": "a5bbdb18",
   "metadata": {},
   "outputs": [],
   "source": [
    "from numpy import around\n",
    "\n",
    "clustcoeffs = list(dict(nx.clustering(myRandom)).values())"
   ]
  },
  {
   "cell_type": "markdown",
   "id": "48933b13",
   "metadata": {},
   "source": [
    "```{.error}\n",
    "Error in py_call_impl(callable, dots$args, dots$keywords): NameError: name 'myRandom' is not defined\n",
    "```"
   ]
  },
  {
   "cell_type": "code",
   "execution_count": null,
   "id": "dc84dab8",
   "metadata": {},
   "outputs": [],
   "source": [
    "print(around(clustcoeffs, 2))"
   ]
  },
  {
   "cell_type": "markdown",
   "id": "db470cad",
   "metadata": {},
   "source": [
    "```{.error}\n",
    "Error in py_call_impl(callable, dots$args, dots$keywords): NameError: name 'clustcoeffs' is not defined\n",
    "```\n",
    "\n",
    "You can also obtain the average clustering coefficient across your graph directly from NetworkX:\n"
   ]
  },
  {
   "cell_type": "code",
   "execution_count": null,
   "id": "1a0123b0",
   "metadata": {},
   "outputs": [],
   "source": [
    "print(nx.average_clustering(myRandom))"
   ]
  },
  {
   "cell_type": "markdown",
   "id": "da88080e",
   "metadata": {},
   "source": [
    "```{.error}\n",
    "Error in py_call_impl(callable, dots$args, dots$keywords): NameError: name 'myRandom' is not defined\n",
    "```\n",
    "\n",
    "The number shows that in this graph there is a comparatively high propability of the neighbours of a node to be connected among themselves. \n",
    "\n",
    "### **Path length**\n",
    "<p style='text-align: justify;'>\n",
    "Simply put, the __path length__ refers to the distance between two nodes in a graph, calculated as the number of edges to get from one to another. More specific information about a graph can be found by measures that build on the path length, such as _shortest path length_, _average shortest path length_, and the _shortest path length from node to all reachable nodes_.\n",
    "</p>\n",
    "For illustration, here is how we can find out the shortest path of our graph $myRandom$ from node 0 to node 1. The output is the sequence of nodes along this shortest path. \n"
   ]
  },
  {
   "cell_type": "code",
   "execution_count": null,
   "id": "37b56b84",
   "metadata": {},
   "outputs": [],
   "source": [
    "print(nx.shortest_path(myRandom, source=0, target=1))"
   ]
  },
  {
   "cell_type": "markdown",
   "id": "8d101c7e",
   "metadata": {},
   "source": [
    "```{.error}\n",
    "Error in py_call_impl(callable, dots$args, dots$keywords): NameError: name 'myRandom' is not defined\n",
    "```\n",
    "\n",
    "<p style='text-align: justify;'>\n",
    "The shortest path from node 0 to node 1 is via node with index 2. This shows that the shortest path between these two nodes only passes through _one other node_. There may  be other paths of the same length, but none which are shorter. If we want to know _all possible_ shortest paths between a pair of nodes, we can do that too.\n",
    "</p>\n"
   ]
  },
  {
   "cell_type": "code",
   "execution_count": null,
   "id": "e7a169a3",
   "metadata": {},
   "outputs": [],
   "source": [
    "my_shortest_paths = nx.all_shortest_paths(myRandom, source=0, target=1)"
   ]
  },
  {
   "cell_type": "markdown",
   "id": "05791a1b",
   "metadata": {},
   "source": [
    "```{.error}\n",
    "Error in py_call_impl(callable, dots$args, dots$keywords): NameError: name 'myRandom' is not defined\n",
    "```"
   ]
  },
  {
   "cell_type": "code",
   "execution_count": null,
   "id": "74cc165e",
   "metadata": {},
   "outputs": [],
   "source": [
    "for path in my_shortest_paths:\n",
    "    \n",
    "    print(path)\n",
    "    "
   ]
  },
  {
   "cell_type": "markdown",
   "id": "260e42b3",
   "metadata": {},
   "source": [
    "```{.error}\n",
    "Error in py_call_impl(callable, dots$args, dots$keywords): NameError: name 'my_shortest_paths' is not defined\n",
    "```\n",
    "\n",
    "There are six possibilities to get from node 0 to node 1 via one intermediate node. \n",
    "\n",
    "As a summery of the network, we can find the _average shortest path length_:\n"
   ]
  },
  {
   "cell_type": "code",
   "execution_count": null,
   "id": "487f9c96",
   "metadata": {},
   "outputs": [],
   "source": [
    "print(round(nx.average_shortest_path_length(myRandom), 2))"
   ]
  },
  {
   "cell_type": "markdown",
   "id": "1559160d",
   "metadata": {},
   "source": [
    "```{.error}\n",
    "Error in py_call_impl(callable, dots$args, dots$keywords): NameError: name 'myRandom' is not defined\n",
    "```"
   ]
  },
  {
   "cell_type": "markdown",
   "id": "a0c62fee",
   "metadata": {},
   "source": [
    "## Do it Yourself\n",
    "\n",
    "1. Using the $15\\times 15$ matrix you created in Exercise 2.3, calculate the average shortest path length.\n",
    "\n",
    "2. Using the same matrix, print the shortest path length between nodes 2 and 8."
   ]
  },
  {
   "cell_type": "markdown",
   "id": "78184ea0",
   "metadata": {},
   "source": [
    "## Q1"
   ]
  },
  {
   "cell_type": "code",
   "execution_count": null,
   "id": "2f37e781",
   "metadata": {},
   "outputs": [],
   "source": [
    "print(round(nx.average_shortest_path_length(rm_15_Graph), 2))"
   ]
  },
  {
   "cell_type": "markdown",
   "id": "b818f1cc",
   "metadata": {},
   "source": [
    "```{.error}\n",
    "Error in py_call_impl(callable, dots$args, dots$keywords): NameError: name 'rm_15_Graph' is not defined\n",
    "```"
   ]
  },
  {
   "cell_type": "markdown",
   "id": "b7b8d7cc",
   "metadata": {},
   "source": [
    "## Q2"
   ]
  },
  {
   "cell_type": "code",
   "execution_count": null,
   "id": "5c683908",
   "metadata": {},
   "outputs": [],
   "source": [
    "my_shortest_paths = nx.all_shortest_paths(rm_15_Graph, source=2, target=8)"
   ]
  },
  {
   "cell_type": "markdown",
   "id": "b4afae54",
   "metadata": {},
   "source": [
    "```{.error}\n",
    "Error in py_call_impl(callable, dots$args, dots$keywords): NameError: name 'rm_15_Graph' is not defined\n",
    "```"
   ]
  },
  {
   "cell_type": "code",
   "execution_count": null,
   "id": "2a7d023b",
   "metadata": {},
   "outputs": [],
   "source": [
    "for path in my_shortest_paths:\n",
    "    \n",
    "    print(path)"
   ]
  },
  {
   "cell_type": "markdown",
   "id": "15aa0281",
   "metadata": {},
   "source": [
    "```{.error}\n",
    "Error in py_call_impl(callable, dots$args, dots$keywords): NameError: name 'my_shortest_paths' is not defined\n",
    "```"
   ]
  },
  {
   "cell_type": "markdown",
   "id": "0d205957",
   "metadata": {},
   "source": [
    "### **Centrality**\n",
    "<p style='text-align: justify;'>\n",
    "_Centrality_ can be used to determine the most _important_ node or nodes in a graph. In a network such as a protein-protein interaction network, this would be the protein which interacts with most other proteins in the system. The centrality of each nodes in a network is calculated as the fraction of nodes in the graph with which is connects.\n",
    "</p>\n"
   ]
  },
  {
   "cell_type": "code",
   "execution_count": null,
   "id": "19a860ce",
   "metadata": {},
   "outputs": [],
   "source": [
    "my_centralities = nx.degree_centrality(myRandom)"
   ]
  },
  {
   "cell_type": "markdown",
   "id": "4fec6b4b",
   "metadata": {},
   "source": [
    "```{.error}\n",
    "Error in py_call_impl(callable, dots$args, dots$keywords): NameError: name 'myRandom' is not defined\n",
    "```"
   ]
  },
  {
   "cell_type": "code",
   "execution_count": null,
   "id": "5248d3a9",
   "metadata": {},
   "outputs": [],
   "source": [
    "for index, centr in dict(my_centralities).items():\n",
    "    \n",
    "    print(index, '  ', round(centr, 2))"
   ]
  },
  {
   "cell_type": "markdown",
   "id": "90454ef2",
   "metadata": {},
   "source": [
    "```{.error}\n",
    "Error in py_call_impl(callable, dots$args, dots$keywords): NameError: name 'my_centralities' is not defined\n",
    "```\n",
    "\n",
    "This produces a dictionary of nodes followed by the centrality value. In this graph, node 8 is the most 'important' node (according to this definition).\n",
    "\n",
    "## Analysing a biological network\n",
    "<p style='text-align: justify;'>\n",
    "*Caenorhabditis elegans* (*C. elegans*) is a nematode, and is commonly used as model organism to study developmental biology, and specifically neuronal development. It is one of the simplest organisms with a nervous system, which makes it particularly suited to this research. The majority of _C. elegans_ are hermaphrodites. The developmental trajectory of each somatic cell (in hermaphrodites 959, in males 1031) has been been identified, and is generally consistent between worms. The complete connectome (neuronal map) has been published, originally by White, Southgate, Thomson, and Brenner in 1986, and continues to be researched. Here, nodes represent neurons and edges represent synapses.\n",
    "</p>\n",
    "\n",
    "### **Getting a network matrix from Dynamic Connectome lab**\n",
    "<p style='text-align: justify;'>\n",
    "In this final section we want to benefit from network information that is stored in freely available databases.\n",
    "There are a number of databases that include information about interactions. In the context of biochemical \n",
    "reaction networks, two prominent examples are the ([KEGG database](http://www.genome.jp/kegg/pathway.html/))\n",
    "and the ([Reactome database](http://www.reactome.org/)). In the previous lesson, we have used an example from the [STRING database](https://string-db.org) which contained data about protein-protein interactions (PPI). Other examples are the [BioGrid Database of Protein, Genetic and Chemical Interactions](https://thebiogrid.org) and the [IntAct Molecular Interaction Database](https://www.ebi.ac.uk/legacy-intact/). \n",
    "</p>\n",
    "<p style='text-align: justify;'>\n",
    "Some researchers also make their data freely available upon publication. In this section we are going to use some simplified data from the [Dynamic Connectome lab](https://www.dynamic-connectome.org/) on the neuronal networks of _C. elegans_. For simplicity, these data have been edited so only the first 50 of the 131 neurons are included. The Python Pandas library is used to import this data easily. First, we import the adjacency matrix showing how these neurons connect to each other, and a file giving the name of each neuron.\n",
    "</p>\n",
    "<p style='text-align: justify;'>\n",
    "Then, we convert the adjacency matrix to the numpy format, and the labels into a dictionary. We then save the labels (each neuron has a name!) in the NetworkX node label format, and convert the adjacency matrix into the NetworkX format. Finally, we give the graph the layout $random$, and draw it.\n",
    "</p>\n"
   ]
  },
  {
   "cell_type": "code",
   "execution_count": null,
   "id": "7f35cd82",
   "metadata": {},
   "outputs": [],
   "source": [
    "from pandas import read_csv\n",
    "\n",
    "neurons     = read_csv('data/celegans131matrix_50.csv', header = None, dtype = \"float64\")\n",
    "neuronNames = read_csv('data/celegans131labels_50.csv', header = None)\n",
    "\n",
    "neurons     = neurons.to_numpy()\n",
    "neuronNames = neuronNames.to_dict()\n",
    "\n",
    "neuronLabels = neuronNames[0]\n",
    "neuronGraph  = nx.from_numpy_matrix(neurons)   "
   ]
  },
  {
   "cell_type": "markdown",
   "id": "e0c4a3a9",
   "metadata": {},
   "source": [
    "```{.error}\n",
    "Error in py_call_impl(callable, dots$args, dots$keywords): AttributeError: module 'networkx' has no attribute 'from_numpy_matrix'\n",
    "```"
   ]
  },
  {
   "cell_type": "code",
   "execution_count": null,
   "id": "657f2d4c",
   "metadata": {},
   "outputs": [],
   "source": [
    "neuronLayout = nx.random_layout(neuronGraph)"
   ]
  },
  {
   "cell_type": "markdown",
   "id": "8b078117",
   "metadata": {},
   "source": [
    "```{.error}\n",
    "Error in py_call_impl(callable, dots$args, dots$keywords): NameError: name 'neuronGraph' is not defined\n",
    "```"
   ]
  },
  {
   "cell_type": "code",
   "execution_count": null,
   "id": "c2f99671",
   "metadata": {},
   "outputs": [],
   "source": [
    "nx.draw(neuronGraph, neuronLayout, \n",
    "        node_size=1500,\n",
    "        node_color='turquoise',\n",
    "        labels = neuronLabels\n",
    "       )"
   ]
  },
  {
   "cell_type": "markdown",
   "id": "81b08c7b",
   "metadata": {},
   "source": [
    "```{.error}\n",
    "Error in py_call_impl(callable, dots$args, dots$keywords): NameError: name 'neuronGraph' is not defined\n",
    "```\n",
    "\n",
    "We can examine this network similar to the way we did for our earlier, smaller networks.\n",
    "\n",
    "For instance, we can confirm the (reduced) number of nodes.\n"
   ]
  },
  {
   "cell_type": "code",
   "execution_count": null,
   "id": "c169f775",
   "metadata": {},
   "outputs": [],
   "source": [
    "neuronGraph.number_of_nodes()"
   ]
  },
  {
   "cell_type": "markdown",
   "id": "0b798e82",
   "metadata": {},
   "source": [
    "```{.error}\n",
    "Error in py_call_impl(callable, dots$args, dots$keywords): NameError: name 'neuronGraph' is not defined\n",
    "```\n",
    "\n",
    "<p style='text-align: justify;'>\n",
    "Using the techniques we examined above, we can interrogate various aspects of this real-world network, such as finding the node with the greatest centrality, assess the average path length, and find out the clustering coefficient.\n",
    "</p>\n",
    "\n",
    "## Exercises\n",
    "\n",
    "## End of chapter Exercises\n",
    "\n",
    "# Assignment\n",
    "\n",
    "1. Compute the number of edges in this _C. elegans_ neuron network.\n",
    "\n",
    "2. Compute the average clustering coefficient across this network.\n",
    "\n",
    "3. Calculate the centrality of each node.\n",
    "\n",
    "4. Find the average shortest path length.\n",
    "\n",
    "5. Find the shortest path length between neurons 4 and 44.\n",
    "\n",
    "6. Plot the degree distribution of the network with inserted network graph."
   ]
  },
  {
   "cell_type": "markdown",
   "id": "ec78227a",
   "metadata": {},
   "source": [
    "## Please check these solutions only after submitting the assignments.\n",
    "\n",
    "### Q1\n"
   ]
  },
  {
   "cell_type": "code",
   "execution_count": null,
   "id": "afdf0396",
   "metadata": {},
   "outputs": [],
   "source": [
    "print('Number of Edges')\n",
    "print(neuronGraph.number_of_edges())"
   ]
  },
  {
   "cell_type": "markdown",
   "id": "46b72ba5",
   "metadata": {},
   "source": [
    "```{.output}\n",
    "Number of Edges\n",
    "```\n",
    "\n",
    "```{.error}\n",
    "Error in py_call_impl(callable, dots$args, dots$keywords): NameError: name 'neuronGraph' is not defined\n",
    "```\n"
   ]
  },
  {
   "cell_type": "markdown",
   "id": "03559e2f",
   "metadata": {},
   "source": [
    "### Q2\n"
   ]
  },
  {
   "cell_type": "code",
   "execution_count": null,
   "id": "4c551542",
   "metadata": {},
   "outputs": [],
   "source": [
    "print('Clustering Coefficients')\n",
    "print(nx.average_clustering(neuronGraph))"
   ]
  },
  {
   "cell_type": "markdown",
   "id": "823ff996",
   "metadata": {},
   "source": [
    "```{.output}\n",
    "Clustering Coefficients\n",
    "```\n",
    "\n",
    "```{.error}\n",
    "Error in py_call_impl(callable, dots$args, dots$keywords): NameError: name 'neuronGraph' is not defined\n",
    "```"
   ]
  },
  {
   "cell_type": "markdown",
   "id": "2ea71789",
   "metadata": {},
   "source": [
    "### Q3\n"
   ]
  },
  {
   "cell_type": "code",
   "execution_count": null,
   "id": "f9f62f21",
   "metadata": {},
   "outputs": [],
   "source": [
    "print('Degree Centrality')\n",
    "print(nx.degree_centrality(neuronGraph))"
   ]
  },
  {
   "cell_type": "markdown",
   "id": "b832736a",
   "metadata": {},
   "source": [
    "```{.output}\n",
    "Degree Centrality\n",
    "```\n",
    "\n",
    "```{.error}\n",
    "Error in py_call_impl(callable, dots$args, dots$keywords): NameError: name 'neuronGraph' is not defined\n",
    "```"
   ]
  },
  {
   "cell_type": "markdown",
   "id": "81b91132",
   "metadata": {},
   "source": [
    "### Q4\n"
   ]
  },
  {
   "cell_type": "code",
   "execution_count": null,
   "id": "d1765ce8",
   "metadata": {},
   "outputs": [],
   "source": [
    "print('Average shortest path length')\n",
    "print(nx.average_shortest_path_length(neuronGraph))"
   ]
  },
  {
   "cell_type": "markdown",
   "id": "0a42ff86",
   "metadata": {},
   "source": [
    "```{.output}\n",
    "Average shortest path length\n",
    "```\n",
    "\n",
    "```{.error}\n",
    "Error in py_call_impl(callable, dots$args, dots$keywords): NameError: name 'neuronGraph' is not defined\n",
    "```"
   ]
  },
  {
   "cell_type": "markdown",
   "id": "74b8c230",
   "metadata": {},
   "source": [
    "### Q5\n"
   ]
  },
  {
   "cell_type": "code",
   "execution_count": null,
   "id": "ee08bc7b",
   "metadata": {},
   "outputs": [],
   "source": [
    "print('Shortest path length between N4 and N44')\n",
    "print([p for p in nx.all_shortest_paths(neuronGraph, source=4, target=44)])"
   ]
  },
  {
   "cell_type": "markdown",
   "id": "551cab08",
   "metadata": {},
   "source": [
    "```{.output}\n",
    "Shortest path length between N4 and N44\n",
    "```\n",
    "\n",
    "```{.error}\n",
    "Error in py_call_impl(callable, dots$args, dots$keywords): NameError: name 'neuronGraph' is not defined\n",
    "```"
   ]
  },
  {
   "cell_type": "markdown",
   "id": "2b43bb48",
   "metadata": {},
   "source": [
    "### Q6\n"
   ]
  },
  {
   "cell_type": "code",
   "execution_count": null,
   "id": "286cbbe2",
   "metadata": {},
   "outputs": [],
   "source": [
    "degree_sequence = sorted([d for n, d in neuronGraph.degree()], reverse=True)  # degree sequence\n",
    "degreeCount = collections.Counter(degree_sequence)\n",
    "deg, cnt = zip(*degreeCount.items())\n",
    "\n",
    "fig, ax = subplots()\n",
    "\n",
    "ax.bar(deg, cnt, width=0.80, color=\"b\")\n",
    "\n",
    "title(\"Degree Distribution\", fontsize=20)\n",
    "ax.set_ylabel(\"Count\", fontsize=16)\n",
    "ax.set_xlabel(\"Degree\", fontsize=16)\n",
    "ax.set_xticks([d for d in deg])\n",
    "ax.set_xticklabels(deg);\n",
    "\n",
    "# draw graph in inset\n",
    "axes([0.4, 0.4, 0.5, 0.5])\n",
    "\n",
    "neuronGraph.subgraph(sorted(nx.connected_components(neuronGraph), key=len, reverse=True)[0])\n",
    "\n",
    "pos = nx.spring_layout(neuronGraph, seed=2)\n",
    "\n",
    "axis(\"off\")\n",
    "\n",
    "nx.draw_networkx_nodes(neuronGraph, pos, node_size=30, node_color='r')\n",
    "nx.draw_networkx_edges(neuronGraph, pos);"
   ]
  },
  {
   "cell_type": "markdown",
   "id": "4cbafa7b",
   "metadata": {},
   "source": [
    "```{.error}\n",
    "Error in py_call_impl(callable, dots$args, dots$keywords): NameError: name 'neuronGraph' is not defined\n",
    "```\n",
    "\n",
    "```{.output}\n",
    "<BarContainer object of 28 artists>\n",
    "```\n",
    "\n",
    "```{.error}\n",
    "Error in py_call_impl(callable, dots$args, dots$keywords): NameError: name 'neuronGraph' is not defined\n",
    "```\n",
    "\n",
    "```{.error}\n",
    "Error in py_call_impl(callable, dots$args, dots$keywords): NameError: name 'neuronGraph' is not defined\n",
    "```\n",
    "\n",
    "```{.output}\n",
    "(0.0, 1.0, 0.0, 1.0)\n",
    "```\n",
    "\n",
    "```{.error}\n",
    "Error in py_call_impl(callable, dots$args, dots$keywords): NameError: name 'neuronGraph' is not defined\n",
    "```\n",
    "\n",
    "```{.error}\n",
    "Error in py_call_impl(callable, dots$args, dots$keywords): NameError: name 'neuronGraph' is not defined\n",
    "```\n",
    "\n",
    "\n",
    "\n"
   ]
  },
  {
   "cell_type": "markdown",
   "id": "add1646d",
   "metadata": {},
   "source": [
    "- The function `randint` creates matrices with randomly assigned edges.\n",
    "- NetworkX can produce interesting graphs like; `Petersen`, `lobster` and `caterpillar` graphs. \n",
    "- In a symmetric matrix, the `in degree` and the `out degree` arrays are identical. \n",
    "- Large networks are simplified using `degree distribution`.\n",
    "- Some of the key graph properties include clustering coefficient, path length and centrality. "
   ]
  },
  {
   "cell_type": "markdown",
   "id": "1f76ff24",
   "metadata": {},
   "source": [
    "[r-markdown]: https://rmarkdown.rstudio.com/"
   ]
  }
 ],
 "metadata": {
  "jupytext": {
   "cell_metadata_filter": "-all",
   "main_language": "python",
   "notebook_metadata_filter": "-all"
  }
 },
 "nbformat": 4,
 "nbformat_minor": 5
}
