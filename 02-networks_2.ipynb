{
 "cells": [
  {
   "cell_type": "raw",
   "id": "6f3fda44",
   "metadata": {},
   "source": [
    "---\n",
    "title: \"Networks - Quantification\"\n",
    "teaching: 60\n",
    "exercises: 60\n",
    "---"
   ]
  },
  {
   "cell_type": "markdown",
   "id": "5660a014",
   "metadata": {},
   "source": [
    "[**Download Chapter notebook (ipynb)**](02-networks_2.ipynb)\n",
    "\n",
    "[<span style=\"color: rgb(255, 0, 0);\">**Mandatory Lesson Feedback Survey**</span>](https://docs.google.com/forms/d/e/1FAIpQLSdr0capF7jloJhPH3Pki1B3LZoKOG16poOpuVJ7SL2LkwLHQA/viewform?pli=1)"
   ]
  },
  {
   "cell_type": "markdown",
   "id": "6bbe11c5",
   "metadata": {},
   "source": [
    "::::::::::::::::::::::::::::::::::::: questions\n",
    "\n",
    "- How to generate test matrices using NetworkX?\n",
    "- What is the purpose of the node degree and the degree distribution?\n",
    "- How can a network be quantified?\n",
    "::::::::::::::::::::::::::::::::::::::::::::::::\n",
    "\n",
    "::::::::::::::::::::::::::::::::::::: objectives\n",
    "- Creating network matrices with random edges.\n",
    "- Quantifying network properties.\n",
    "- Applying networks concepts to the C. elegans neural network.\n",
    "::::::::::::::::::::::::::::::::::::::::::::::::\n",
    "\n",
    "<br>\n",
    "<p align = \"center\">\n",
    "<iframe width=\"560\" height=\"315\" src=\"https://www.youtube.com/embed/nU8ossLYBc4\" title=\"YouTube video player\" frameborder=\"0\" allow=\"accelerometer; autoplay; clipboard-write; encrypted-media; gyroscope; picture-in-picture\" allowfullscreen></iframe>\n",
    "</p>\n",
    "<br>\n",
    "<p align = \"center\">\n",
    "<iframe width=\"560\" height=\"315\" src=\"https://www.youtube.com/embed/3MQNgrtjY-A\" title=\"YouTube video player\" frameborder=\"0\" allow=\"accelerometer; autoplay; clipboard-write; encrypted-media; gyroscope; picture-in-picture\" allowfullscreen></iframe>\n",
    "</p>\n",
    "<br>\n",
    "<p align = \"center\">\n",
    "<iframe width=\"560\" height=\"315\" src=\"https://www.youtube.com/embed/FLF-Hz_PhFs\" title=\"YouTube video player\" frameborder=\"0\" allow=\"accelerometer; autoplay; clipboard-write; encrypted-media; gyroscope; picture-in-picture\" allowfullscreen></iframe>\n",
    "</p>\n",
    "<br>\n",
    "\n",
    ":::::::::::::::::: prereq\n",
    "\n",
    "## Prerequisites\n",
    "\n",
    "- [Introduction to Networks](01-networks_1.Rmd)\n",
    "\n",
    "::::::::::::::::::"
   ]
  },
  {
   "cell_type": "code",
   "execution_count": null,
   "id": "6004a873",
   "metadata": {},
   "outputs": [],
   "source": [
    "import networkx as nx\n",
    "\n",
    "from matplotlib.pyplot import subplots, show"
   ]
  },
  {
   "cell_type": "markdown",
   "id": "e8c8d5b0",
   "metadata": {},
   "source": [
    "## Generating Test Matrices\n",
    "<p style='text-align: justify;'>\n",
    "NetworkX has a number of ways to create matrices with given specifications. We have seen in the previous lesson that e.g. `zeros((5,5))` creates a $5\\times 5$ matrix filled with zeroes. This speeds up the creation of a network matrix with only a few non-zero entries. Similarly, one can start with function `ones` from Numpy to create a network with few zero entries.\n",
    "</p>\n",
    "<p style='text-align: justify;'>\n",
    "However, to test network code we would like to be able to easily create test matrices without having to fill in the information about the edges manually. Typically, one wants to quickly create an arbitrary number of realisations to study e.g. a distribution of network properties.\n",
    "</p>\n",
    "\n",
    "Here is a way to create matrices with randomly assigned edges using function `randint`."
   ]
  },
  {
   "cell_type": "code",
   "execution_count": null,
   "id": "3b850d2f",
   "metadata": {},
   "outputs": [],
   "source": [
    "from numpy.random import randint\n",
    "\n",
    "nodes = 5\n",
    "\n",
    "rm = randint(0, 2, size=(nodes, nodes))\n",
    "\n",
    "print(rm)"
   ]
  },
  {
   "cell_type": "markdown",
   "id": "6e4afbdc",
   "metadata": {},
   "source": [
    "Function $randint$ from the numpy module $random$ is used to create an array or matrix filled with integers.\n",
    "\n",
    "<p style='text-align: justify;'>\n",
    "The first two arguments, two integer numbers, specify which integers to use. The first number is the smallest integer, the second number is the largest integer plus one. The first two numbers work as $(a, b+1)$ so this function will produce numbers (N) in range specified as: $a <= N <= b$. In our case entering $(0, 2)$ will produce zeroes and ones. With $(1, 10)$, all integers from 1 to 9 will be used, all with equal probability.\n",
    "</p>\n",
    "<p style='text-align: justify;'>\n",
    "The keyword argument `size` specifies the dimensions of the matrix. In our case we want a $nodes\\times nodes$ matrix for a specified number of nodes. The output of the code will look different at each function call because each time you execute the code, Python will assign the zeroes and ones randomly.\n",
    "</p>\n",
    "<p style='text-align: justify;'>\n",
    "There are many ways to create network matrices with different specifications. These can be used to test null hypotheses about experimental data. For example, one can generate networks with the same amount of nodes and edges as in an experimental network but with random assignment of edges to test whether the observed connections are likely to be due to chance. Some biological networks seem to have the so-called ['small world' property](https://en.wikipedia.org/wiki/Small-world_network), where in spite of relatively few connections there are quick ways to get from one node to any other node by tracing a path along combinations of edges.\n",
    "</p>\n",
    "<p style='text-align: justify;'>\n",
    "There is a way to have Python return the *same* random numbers when using functions like $randint$ by using the $seed$ function (also from the module $random$). Reproducibility is central to coding, and functions such as this facilitate reproducibility.\n",
    "</p>\n",
    "<p style='text-align: justify;'>\n",
    "The command $seed(1)$ sets the value of the 'seed' used to initialise the random number generator to $1$. The choice of seed value is arbitrary. The important thing is that specifying a value will mean the random number results are reproducible.\n",
    "</p>\n",
    "<p style='text-align: justify;'>\n",
    "When we specify a starting seed value for the number generator it still produces random numbers but will produce the same set of random numbers each time the code is executed. To test this run the following example:\n",
    "</p>"
   ]
  },
  {
   "cell_type": "code",
   "execution_count": null,
   "id": "a3f48784",
   "metadata": {},
   "outputs": [],
   "source": [
    "from numpy.random import seed\n",
    "\n",
    "seed(1)\n",
    "\n",
    "rm1 = randint(0, 2, size=(nodes, nodes))\n",
    "\n",
    "print(rm1)"
   ]
  },
  {
   "cell_type": "markdown",
   "id": "4a2bd3d6",
   "metadata": {},
   "source": [
    "And repeated:"
   ]
  },
  {
   "cell_type": "code",
   "execution_count": null,
   "id": "1bf6ec10",
   "metadata": {},
   "outputs": [],
   "source": [
    "seed(1)\n",
    "\n",
    "rm2 = randint(0, 2, size=(nodes, nodes))\n",
    "\n",
    "print(rm2)"
   ]
  },
  {
   "cell_type": "markdown",
   "id": "88ea706b",
   "metadata": {},
   "source": [
    "Since we set the same (arbitrary) seed for both of these function calls, both produce the same pattern of 1s and 0s. The results are identical:"
   ]
  },
  {
   "cell_type": "code",
   "execution_count": null,
   "id": "5b865586",
   "metadata": {},
   "outputs": [],
   "source": [
    "rm1 == rm2"
   ]
  },
  {
   "cell_type": "markdown",
   "id": "60d4eaa9",
   "metadata": {
    "lines_to_next_cell": 0
   },
   "source": [
    "::::::::::::::::::::::::::::::: challenge\n",
    "\n",
    "## Do it Yourself\n",
    "\n",
    "Create a $n\\times m$ matrix with randomly distributed integers from 1 to 6 to simulate a group of 3 players throwing a dice 20 times.\n",
    "\n",
    "::::::::::::::::: solution\n",
    "\n",
    "## DIY ANSWER"
   ]
  },
  {
   "cell_type": "code",
   "execution_count": null,
   "id": "a6f639f6",
   "metadata": {},
   "outputs": [],
   "source": [
    "players = 3\n",
    "rounds  = 20\n",
    "\n",
    "throws = randint(1, 7, size=(rounds, players))\n",
    "\n",
    "print(throws)"
   ]
  },
  {
   "cell_type": "markdown",
   "id": "8e592ecd",
   "metadata": {},
   "source": [
    ":::::::::::::::::\n",
    "\n",
    ":::::::::::::::::::::::::::::::\n",
    "\n",
    "## NetworkX graph types\n",
    "\n",
    "NetworkX has built-in function to produce classic graphs. For example, a [Petersen graph](https://en.wikipedia.org/wiki/Petersen_graph) has 10 nodes and 15 edges."
   ]
  },
  {
   "cell_type": "code",
   "execution_count": null,
   "id": "bfbf558f",
   "metadata": {},
   "outputs": [],
   "source": [
    "petersen = nx.petersen_graph()\n",
    "\n",
    "layout = nx.spectral_layout(petersen)\n",
    "\n",
    "nx.draw(petersen, with_labels=True)\n",
    "\n",
    "show()"
   ]
  },
  {
   "cell_type": "markdown",
   "id": "01aa7e18",
   "metadata": {},
   "source": [
    "Some stochastic graphs can also be generated simply within NetworkX.  A random lobster graph is a graph which becomes a caterpillar graph if all leaf nodes are removed."
   ]
  },
  {
   "cell_type": "code",
   "execution_count": null,
   "id": "0a8be97d",
   "metadata": {},
   "outputs": [],
   "source": [
    "\n",
    "nodes = 50\n",
    "\n",
    "# p1: Probability of adding an edge to the backbone\n",
    "# p2: Probability of adding an edge one level beyond backbone\n",
    "p1 = 0.9\n",
    "p2 = 0.5\n",
    "\n",
    "lobster = nx.random_lobster(nodes, 0.9, 0.5)\n",
    "\n",
    "layout = nx.spiral_layout(lobster)\n",
    "\n",
    "nx.draw(lobster, layout, with_labels=True)\n",
    "\n",
    "show()\n"
   ]
  },
  {
   "cell_type": "markdown",
   "id": "f0e596c8",
   "metadata": {},
   "source": [
    "<p style='text-align: justify;'>\n",
    "The first argument is the number of nodes in the graph backbone, the second argument is the probability of adding an edge to this main backbone, and the third number gives the probability of adding further edges. Try running it several times, and with different values, to see how it changes.\n",
    "</p>\n",
    "\n",
    "::::::::::::::::::::::::::::::: challenge\n",
    "\n",
    "## Do it Yourself"
   ]
  },
  {
   "cell_type": "markdown",
   "id": "bfd4c73b",
   "metadata": {},
   "source": [
    "Look up the NetworkX documentation, and use the tutorial to plot a [Tutte graph](https://en.wikipedia.org/wiki/Tutte_graph).\n",
    "\n",
    "::::::::::::::::: solution\n",
    "\n",
    "## DIY ANSWER"
   ]
  },
  {
   "cell_type": "code",
   "execution_count": null,
   "id": "6658004a",
   "metadata": {},
   "outputs": [],
   "source": [
    "tutte = nx.tutte_graph()\n",
    "\n",
    "layout = nx.spring_layout(tutte, seed=1)\n",
    "\n",
    "nx.draw(tutte, layout,\n",
    "        with_labels=True)\n",
    "show()"
   ]
  },
  {
   "cell_type": "markdown",
   "id": "ac88f477",
   "metadata": {},
   "source": [
    ":::::::::::::::::\n",
    "\n",
    ":::::::::::::::::::::::::::::::\n",
    "\n",
    "## Node degree\n",
    "<p style='text-align: justify;'>\n",
    "Each node within a graph has a number of edges connected to it and this number is referred to as the node (or vertex) **degree**. For example, consider the protein-protein interation graph generated in the previous Lesson, Exercise 1.5.\n",
    "</p>\n",
    "\n",
    "![](fig/mazG.png)\n",
    "\n",
    "The node representing the protein $adk$ has a degree of 4 and $era$ has a degree of 2.\n",
    "<p style='text-align: justify;'>\n",
    "Furthermore the degree in directed graphs (or digraphs) can be split into the **in degree** which counts the number of edges pointing *into* the node and **out degree** which counts the number of edges emanating *from* the node. In the graph generated for Exercise 1.5, the node with index 0 has an _out degree_ of 3, the node with index 0 has an _out degree_ of 3, the node with index 3 has an _in degree_ of 3, and the node with index 1 has a total degree of 4, with an _out degree_ of 2 and an _in degree_ of 2.\n",
    "</p>"
   ]
  },
  {
   "cell_type": "code",
   "execution_count": null,
   "id": "3f32f508",
   "metadata": {},
   "outputs": [],
   "source": [
    "from numpy import array\n",
    "\n",
    "matrixFromArray =  array([[0, 1, 0, 0],\n",
    "                          [0, 1, 0, 1],\n",
    "                          [1, 0, 1, 1],\n",
    "                          [1, 0, 1, 0]])\n",
    "\n",
    "my_graph = nx.from_numpy_matrix(matrixFromArray, create_using=nx.DiGraph)\n",
    "\n",
    "my_graphLayout = nx.spring_layout(my_graph, seed=11)\n",
    "\n",
    "nx.draw(my_graph, my_graphLayout,\n",
    "        node_size=1000,\n",
    "        arrowsize=20,\n",
    "        with_labels=True\n",
    "       )\n",
    "show()"
   ]
  },
  {
   "cell_type": "markdown",
   "id": "a4ce1fe5",
   "metadata": {},
   "source": [
    "As we discussed in the previous lesson, an edge is set up in a network matrix in the direction (from) row $\\rightarrow$ (to) column. Consider the following network matrix."
   ]
  },
  {
   "cell_type": "code",
   "execution_count": null,
   "id": "b1e23b18",
   "metadata": {},
   "outputs": [],
   "source": [
    "from numpy import array\n",
    "\n",
    "mymatrix =  array([[0, 1, 1, 0, 0],\n",
    "                   [1, 0, 0, 1, 1],\n",
    "                   [1, 0, 0, 0, 0],\n",
    "                   [0, 0, 0, 0, 1],\n",
    "                   [1, 0, 1, 0, 0]])\n",
    "\n",
    "print(mymatrix)"
   ]
  },
  {
   "cell_type": "markdown",
   "id": "83e42ceb",
   "metadata": {},
   "source": [
    "<p style='text-align: justify;'>\n",
    "The first _column_ tells us which edges reach the first node (node 0) from another node. Adding the numbers up we find an in degree of 3 for node 0. If we look at the first _row_ we can see that there are two edges originating from node 0, giving an out degree of 2.\n",
    "</p>\n",
    "<p style='text-align: justify;'>\n",
    "Simple as it is, one would nevertheless like to get it done by the computer rather than by hand. In NetworkX there are specific functions to calculate graph qualities such as node degree. To turn the array into a directed graph and get the degree of all nodes in a network described by an adjacency matrix we can use the following code. After the matrix is set up by hand, it is converted into a NetworkX DiGraph object - so NetworkX will parse the directions of the edges as a directed graph.\n",
    "</p>\n",
    "\n",
    "The in degree is calculated, which is the sum over all columns, and the out degree is calculated, which is the sum over all rows.\n"
   ]
  },
  {
   "cell_type": "code",
   "execution_count": null,
   "id": "50b6ec4c",
   "metadata": {},
   "outputs": [],
   "source": [
    "mygraph = nx.from_numpy_matrix(mymatrix, create_using=nx.DiGraph)\n",
    "\n",
    "mygraph.in_degree\n"
   ]
  },
  {
   "cell_type": "code",
   "execution_count": null,
   "id": "10cccd7a",
   "metadata": {},
   "outputs": [],
   "source": [
    "mygraph.out_degree"
   ]
  },
  {
   "cell_type": "markdown",
   "id": "65418025",
   "metadata": {},
   "source": [
    "<p style='text-align: justify;'>\n",
    "The output is viewed as a list of nodes with each node followed by the in/out degree. For example, the first node (node 0) has an in degree of 3 (edges from nodes 1, 2 and 4) and out degree 2 (edges to nodes 1 and 2). If the matrix is symmetric, the in degree and the out degree arrays will be identical. In this case we simply refer to the degree.\n",
    "</p>\n",
    "<p style='text-align: justify;'>\n",
    "This graph can also be visualised to confirm the in and out degree of each node. We have also added a few new customisation options here in the graph, which you can find and amend using the NetworkX documentation.\n",
    "</p>"
   ]
  },
  {
   "cell_type": "code",
   "execution_count": null,
   "id": "26a49955",
   "metadata": {},
   "outputs": [],
   "source": [
    "mygraphLayout = nx.spectral_layout(mygraph)\n",
    "\n",
    "mygraphLabels = {\n",
    "    0: 'Node 0',\n",
    "    1: 'Node 1',\n",
    "    2: 'Node 2',\n",
    "    3: 'Node 3',\n",
    "    4: 'Node 4',\n",
    "}\n",
    "\n",
    "nx.draw(mygraph, mygraphLayout,\n",
    "        labels = mygraphLabels,\n",
    "        node_color = 'lavender',\n",
    "        node_size = 2000,\n",
    "        arrowsize=25,\n",
    "        arrowstyle='->')\n",
    "show()"
   ]
  },
  {
   "cell_type": "markdown",
   "id": "1dea8d0f",
   "metadata": {},
   "source": [
    "::::::::::::::::::::::::::::::: challenge\n",
    "\n",
    "## Do it Yourself\n",
    "\n",
    "1. Using a random seed of 100, set up a $15\\times 15$ matrix randomly distributed integers 0 and 1.\n",
    "\n",
    "2. Turn this matrix into a NetworkX DiGraph object.\n",
    "\n",
    "3. Calculate the _in_ and _out degrees_ for this graph."
   ]
  },
  {
   "cell_type": "markdown",
   "id": "c4f1a6f0",
   "metadata": {
    "lines_to_next_cell": 0
   },
   "source": [
    "::::::::::::::::: solution\n",
    "## Q1"
   ]
  },
  {
   "cell_type": "code",
   "execution_count": null,
   "id": "eec040aa",
   "metadata": {
    "lines_to_next_cell": 2
   },
   "outputs": [],
   "source": [
    "nodes = 15\n",
    "\n",
    "seed(100)\n",
    "\n",
    "rm_15 = randint(0, 2, size=(nodes, nodes))\n",
    "\n",
    "print(rm_15)"
   ]
  },
  {
   "cell_type": "markdown",
   "id": "06d82192",
   "metadata": {},
   "source": [
    ":::::::::::::::::"
   ]
  },
  {
   "cell_type": "markdown",
   "id": "00209a1b",
   "metadata": {
    "lines_to_next_cell": 0
   },
   "source": [
    "::::::::::::::::: solution\n",
    "## Q2"
   ]
  },
  {
   "cell_type": "code",
   "execution_count": null,
   "id": "6a9d3839",
   "metadata": {
    "lines_to_next_cell": 2
   },
   "outputs": [],
   "source": [
    "rm_15_Graph = nx.from_numpy_matrix(rm_15, create_using=nx.DiGraph)"
   ]
  },
  {
   "cell_type": "markdown",
   "id": "94c22669",
   "metadata": {},
   "source": [
    ":::::::::::::::::"
   ]
  },
  {
   "cell_type": "markdown",
   "id": "1d92984a",
   "metadata": {
    "lines_to_next_cell": 0
   },
   "source": [
    "::::::::::::::::: solution\n",
    "## Q3"
   ]
  },
  {
   "cell_type": "code",
   "execution_count": null,
   "id": "5872f5e4",
   "metadata": {
    "results": "hold"
   },
   "outputs": [],
   "source": [
    "# Printing in-degrees\n",
    "print('Index', '    In Degree')\n",
    "\n",
    "for ind, deg in rm_15_Graph.in_degree:\n",
    "\n",
    "    print('  ', ind, '       ', deg)\n"
   ]
  },
  {
   "cell_type": "code",
   "execution_count": null,
   "id": "967bd393",
   "metadata": {
    "results": "hold"
   },
   "outputs": [],
   "source": [
    "# Printing out-degrees\n",
    "print('Index', '   Out Degree')\n",
    "\n",
    "for ind, deg in rm_15_Graph.out_degree:\n",
    "\n",
    "    print('  ', ind, '       ', deg)\n"
   ]
  },
  {
   "cell_type": "markdown",
   "id": "8a252780",
   "metadata": {},
   "source": [
    ":::::::::::::::::\n",
    ":::::::::::::::::::::::::::::::\n",
    "\n",
    "## Degree distribution\n",
    "<p style='text-align: justify;'>\n",
    "It is straightforward to look at the degrees of a network with only a few nodes. However, for large networks with many nodes, the degree will be an array with as many numbers as there are nodes. This requires a more convenient way to summarise this information. An often-used solution is to look at the _degree distribution_.\n",
    "</p>\n",
    "The degree distribution is normally presented as a histogram showing how many times a given degree was found in that network.\n",
    "\n",
    "As an example, for a random $10\\times 10$ matrix:"
   ]
  },
  {
   "cell_type": "code",
   "execution_count": null,
   "id": "44ea385e",
   "metadata": {},
   "outputs": [],
   "source": [
    "seed(4)\n",
    "\n",
    "rm_mat = randint(0, 2, size=(10, 10))\n",
    "\n",
    "rm_net = nx.from_numpy_matrix(rm_mat)"
   ]
  },
  {
   "cell_type": "markdown",
   "id": "d6572f7a",
   "metadata": {},
   "source": [
    "The degree distribution can be plotted using NetworkX and matplotlib, here plotted simply with the `hist` plot."
   ]
  },
  {
   "cell_type": "code",
   "execution_count": null,
   "id": "f2936837",
   "metadata": {},
   "outputs": [],
   "source": [
    "\n",
    "# xticks, xticklabels as to integers\n",
    "\n",
    "degs = dict(rm_net.degree()).values()\n",
    "\n",
    "fig, ax = subplots()\n",
    "\n",
    "ax.hist(degs, bins=10);\n",
    "\n",
    "ax.set_title(\"Degree Distribution\", fontsize=20)\n",
    "ax.set_ylabel(\"Count\", fontsize=16)\n",
    "ax.set_xlabel(\"Degree\", fontsize=16);\n",
    "\n",
    "ax.set_xticks([d for d in degs])\n",
    "ax.set_xticklabels(degs)\n",
    "\n",
    "show()\n"
   ]
  },
  {
   "cell_type": "markdown",
   "id": "296fdca7",
   "metadata": {},
   "source": [
    "<p style='text-align: justify;'>\n",
    "For a more complex example, we can generate a network with 100 nodes and display its degree distribution (code taken [from the NetworkX documentation](https://networkx.org/documentation/networkx-2.3/auto_examples/drawing/plot_degree_histogram.html)).\n",
    "</p>"
   ]
  },
  {
   "cell_type": "code",
   "execution_count": null,
   "id": "f9c918f7",
   "metadata": {},
   "outputs": [],
   "source": [
    "nodes = 100\n",
    "probab = 0.02\n",
    "\n",
    "G = nx.gnp_random_graph(nodes, probab, seed=1)"
   ]
  },
  {
   "cell_type": "code",
   "execution_count": null,
   "id": "88c203fa",
   "metadata": {
    "results": "hold"
   },
   "outputs": [],
   "source": [
    "from matplotlib.pyplot import axes, axis, title\n",
    "\n",
    "import collections\n",
    "\n",
    "degree_sequence = sorted([d for n, d in G.degree()], reverse=True)  # degree sequence\n",
    "degreeCount = collections.Counter(degree_sequence)\n",
    "deg, cnt = zip(*degreeCount.items())\n",
    "\n",
    "fig, ax = subplots()\n",
    "\n",
    "ax.bar(deg, cnt, width=0.80, color=\"b\")\n",
    "\n",
    "title(\"Degree Distribution\", fontsize=20)\n",
    "ax.set_ylabel(\"Count\", fontsize=16)\n",
    "ax.set_xlabel(\"Degree\", fontsize=16)\n",
    "ax.set_xticks([d for d in deg])\n",
    "ax.set_xticklabels(deg);\n",
    "\n",
    "# draw graph in inset\n",
    "axes([0.4, 0.4, 0.5, 0.5])\n",
    "\n",
    "G.subgraph(sorted(nx.connected_components(G), key=len, reverse=True)[0])\n",
    "\n",
    "pos = nx.spring_layout(G, seed=2)\n",
    "\n",
    "axis(\"off\")\n",
    "\n",
    "nx.draw_networkx_nodes(G, pos, node_size=30, node_color='r')\n",
    "nx.draw_networkx_edges(G, pos);\n",
    "\n",
    "show()"
   ]
  },
  {
   "cell_type": "markdown",
   "id": "d1de485b",
   "metadata": {},
   "source": [
    "This example plots the degree distribution, showing, for example, that 11 nodes in this network have no edges. You can verify that from the overlaid graph (isolated red dots).\n",
    "\n",
    "Note how the degree with highest probability (2) reflects the choice of edge probability of 2%.\n",
    "\n",
    "::::::::::::::::::::::::::::::: challenge\n",
    "\n",
    "## Do it Yourself\n",
    "\n",
    "1. Change the number of nodes to 1000 and check the maximum of the degree distribution. How does it depend on the number of nodes?\n",
    "\n",
    "2. The second argument in the generation of the graph gives the probability of edge creation. How do both the appearance of the network and the degree distribution change?"
   ]
  },
  {
   "cell_type": "markdown",
   "id": "4905b73e",
   "metadata": {},
   "source": [
    "::::::::::::::::: solution\n",
    "\n",
    "## Q1\n",
    "``` degree_max = probab / nodes```\n",
    "\n",
    "```{python, results = \"hold\"}\n",
    "nodes = 1000\n",
    "probab = 0.02\n",
    "\n",
    "G = nx.gnp_random_graph(nodes, probab, seed=1)\n",
    "\n",
    "degree_sequence = sorted([d for n, d in G.degree()], reverse=True)  # degree sequence\n",
    "degreeCount = collections.Counter(degree_sequence)\n",
    "deg, cnt = zip(*degreeCount.items())\n",
    "\n",
    "fig, ax = subplots()\n",
    "\n",
    "ax.bar(deg, cnt, width=0.80, color=\"b\")\n",
    "\n",
    "title(\"Degree Histogram\", fontsize=20)\n",
    "ax.set_ylabel(\"Count\", fontsize=16)\n",
    "ax.set_xlabel(\"Degree\", fontsize=16)\n",
    "ax.set_xticks([d for d in deg])\n",
    "ax.set_xticklabels(deg);\n",
    "\n",
    "# draw graph in inset\n",
    "axes([0.4, 0.4, 0.5, 0.5])\n",
    "\n",
    "G.subgraph(sorted(nx.connected_components(G), key=len, reverse=True)[0])\n",
    "\n",
    "pos = nx.spring_layout(G, seed=2)\n",
    "\n",
    "axis(\"off\")\n",
    "\n",
    "nx.draw_networkx_nodes(G, pos, node_size=30, node_color='r')\n",
    "nx.draw_networkx_edges(G, pos);\n",
    "\n",
    "show()\n",
    "```\n",
    "\n",
    ":::::::::::::::::\n",
    "\n",
    "::::::::::::::::: solution\n",
    "\n",
    "## Q2\n",
    "\n",
    "> The edge probability determines how connected a graph is. The higher the probability, the more connected. With a probability of 1, a fully connected graph is created. The most frequenc degree is given by the above formula.\n",
    "\n",
    ":::::::::::::::::\n",
    ":::::::::::::::::::::::::::::::\n",
    "\n",
    "## Other Graph Properties\n",
    "### **Clustering coefficient**\n",
    "<p style='text-align: justify;'>\n",
    "As an example of a more complex quantitative measure, we take the clustering coefficient.\n",
    "We will look at its formula and discuss extreme cases to understand what useful information the measure is supposed to convey. We then practice the use of creating test matrices and do calculations of clustering coefficients of the corresponding networks.\n",
    "</p>\n",
    "\n",
    ":::::::::: callout\n",
    "##Definition\n",
    "\n",
    "The clustering coefficient is defined by the formula:"
   ]
  },
  {
   "cell_type": "markdown",
   "id": "8834d809",
   "metadata": {},
   "source": [
    "$C_u = \\frac{ 2e }{ k(k-1) }$\n",
    "\n",
    "::::::::::\n",
    "\n",
    "<p style='text-align: justify;'>\n",
    "The __clustering coefficient__, here denoted by $C_u$, is a number that is calculated for a single node, $u$. For the calculation one needs to know the degree of the node, $k$. The degree represents the number of direct connections of the node. Nodes connected by an edge are referred to as nearest neighbours, or simply neighbours. Therefore, the degree is also equal to the number of neighbours. Finally, $e$ is the number of edges (connections) between the neighbours of $u$.\n",
    "</p>\n",
    "<p style='text-align: justify;'>\n",
    "The formula is derived as the number of edges between the neighbours divided by the maximally possible number of connections. The maximal number of possible connections of $k$ neighbours is $\\frac{ k(k-1)}{2}$. There are $k\\times k$ elements but if we leave out self-connections it becomes\n",
    "$k\\times (k-1)$. As each edge is included twice (forward and backward) division by 2 gives the number of undirected connections.\n",
    "</p>\n",
    "<p style='text-align: justify;'>\n",
    "This yields some important properties: if there is no connection between any of the neighbours, then $e=0$ and $C_u = 0$. If all neighbours are maximally connected (each node connected to every other node), then\n",
    "$e=\\frac{ k(k-1)}{ 2 }$ and $C_u = 1$. The clustering coefficient therefore tells us the extent to which neighbours of a node are connected among themselves. This definition is valid for undirected networks with no self-connections.\n",
    "</p>\n",
    "We can use random test graphs, as we made earlier, to explore clustering coefficients in NetworkX. Here we'll make a 10 by 10 random graph, setting a seed so it's reproducible.\n",
    "\n",
    "To avoid any self-connections, we put the diagonal of the matrix equal to zero."
   ]
  },
  {
   "cell_type": "code",
   "execution_count": null,
   "id": "9cdc998a",
   "metadata": {
    "results": "hold"
   },
   "outputs": [],
   "source": [
    "from numpy import fill_diagonal\n",
    "\n",
    "seed_number = 4\n",
    "nodes = 10\n",
    "\n",
    "seed(seed_number)\n",
    "\n",
    "rm_graph = randint(0, 2, size=(nodes, nodes))\n",
    "fill_diagonal(rm_graph, 0)\n",
    "\n",
    "myRandom = nx.from_numpy_matrix(rm_graph)\n",
    "\n",
    "nx.draw(myRandom, node_color='y', with_labels=True)\n",
    "\n",
    "show()"
   ]
  },
  {
   "cell_type": "markdown",
   "id": "279deff6",
   "metadata": {},
   "source": [
    "<p style='text-align: justify;'>\n",
    "We can now use NetworkX to learn more about this graph. To print a list of the clustering coefficient for each node (calculated with the above formula), we use the function $clustering$.\n",
    "</p>"
   ]
  },
  {
   "cell_type": "code",
   "execution_count": null,
   "id": "6fdc3037",
   "metadata": {},
   "outputs": [],
   "source": [
    "print(nx.clustering(myRandom))"
   ]
  },
  {
   "cell_type": "markdown",
   "id": "b162cce9",
   "metadata": {},
   "source": [
    "With slightly nicer formatting:"
   ]
  },
  {
   "cell_type": "code",
   "execution_count": null,
   "id": "15e514a0",
   "metadata": {},
   "outputs": [],
   "source": [
    "for ind, cc in dict(nx.clustering(myRandom)).items():\n",
    "\n",
    "    print(ind, '   ', cc)"
   ]
  },
  {
   "cell_type": "markdown",
   "id": "679c5ce7",
   "metadata": {},
   "source": [
    "To extract the clustering coefficients from the result as a Python list:"
   ]
  },
  {
   "cell_type": "code",
   "execution_count": null,
   "id": "852a14cc",
   "metadata": {},
   "outputs": [],
   "source": [
    "from numpy import around\n",
    "\n",
    "clustcoeffs = list(dict(nx.clustering(myRandom)).values())\n",
    "\n",
    "print(around(clustcoeffs, 2))"
   ]
  },
  {
   "cell_type": "markdown",
   "id": "d86e077c",
   "metadata": {},
   "source": [
    "You can also obtain the average clustering coefficient across your graph directly from NetworkX:"
   ]
  },
  {
   "cell_type": "code",
   "execution_count": null,
   "id": "b74921bb",
   "metadata": {},
   "outputs": [],
   "source": [
    "print(nx.average_clustering(myRandom))"
   ]
  },
  {
   "cell_type": "markdown",
   "id": "a4341b65",
   "metadata": {},
   "source": [
    "The number shows that in this graph there is a comparatively high (more than 50%) probability of the neighbours of a node to be connected among themselves.\n",
    "\n",
    "### **Path length**\n",
    "<p style='text-align: justify;'>\n",
    "Simply put, the __path length__ refers to the distance between two nodes in a graph, calculated as the number of edges to get from one to the other. More specific information about a graph can be found by measures that build on the path length, such as the _shortest path length_, _average shortest path length_, and the _shortest path length from node to all reachable nodes_.\n",
    "</p>\n",
    "For illustration, here is how we can find out the shortest path of our graph $myRandom$ from node 0 to node 1. The output is the sequence of nodes along this shortest path."
   ]
  },
  {
   "cell_type": "code",
   "execution_count": null,
   "id": "16a0f951",
   "metadata": {},
   "outputs": [],
   "source": [
    "print(nx.shortest_path(myRandom, source=0, target=1))"
   ]
  },
  {
   "cell_type": "markdown",
   "id": "e9c50d28",
   "metadata": {},
   "source": [
    "<p style='text-align: justify;'>\n",
    "The shortest path from node 0 to node 1 is via node with index 2. This shows that the shortest path between these two nodes only passes through _one other node_. There may  be other paths of the same length, but none which are shorter. If we want to know _all possible_ shortest paths between a pair of nodes, we can do that too.\n",
    "</p>"
   ]
  },
  {
   "cell_type": "code",
   "execution_count": null,
   "id": "56f465da",
   "metadata": {},
   "outputs": [],
   "source": [
    "my_shortest_paths = nx.all_shortest_paths(myRandom, source=0, target=1)\n",
    "\n",
    "for path in my_shortest_paths:\n",
    "\n",
    "    print(path)\n"
   ]
  },
  {
   "cell_type": "markdown",
   "id": "156df5c5",
   "metadata": {},
   "source": [
    "There are six possibilities to get from node 0 to node 1 via one intermediate node.\n",
    "\n",
    "As a single summary quantity of a network, we can find the _average shortest path length_:"
   ]
  },
  {
   "cell_type": "code",
   "execution_count": null,
   "id": "30f57f49",
   "metadata": {},
   "outputs": [],
   "source": [
    "print(round(nx.average_shortest_path_length(myRandom), 2))"
   ]
  },
  {
   "cell_type": "markdown",
   "id": "263577e9",
   "metadata": {},
   "source": [
    "::::::::::::::::::::::::::::::: challenge\n",
    "\n",
    "## Do it Yourself\n",
    "\n",
    "1. Using the $15\\times 15$ matrix you created in Exercise 2.3, calculate the average shortest path length.\n",
    "\n",
    "2. Using the same matrix, print the shortest path length between nodes 2 and 8."
   ]
  },
  {
   "cell_type": "markdown",
   "id": "4023470f",
   "metadata": {
    "lines_to_next_cell": 0
   },
   "source": [
    "::::::::::::::::: solution\n",
    "## Q1"
   ]
  },
  {
   "cell_type": "code",
   "execution_count": null,
   "id": "dd1df567",
   "metadata": {},
   "outputs": [],
   "source": [
    "print(round(nx.average_shortest_path_length(rm_15_Graph), 2))"
   ]
  },
  {
   "cell_type": "markdown",
   "id": "8a654432",
   "metadata": {
    "lines_to_next_cell": 0
   },
   "source": [
    ":::::::::::::::::\n",
    "\n",
    "::::::::::::::::: solution\n",
    "## Q2"
   ]
  },
  {
   "cell_type": "code",
   "execution_count": null,
   "id": "1951c849",
   "metadata": {},
   "outputs": [],
   "source": [
    "my_shortest_paths = nx.all_shortest_paths(rm_15_Graph, source=2, target=8)\n",
    "\n",
    "for path in my_shortest_paths:\n",
    "\n",
    "    print(path)"
   ]
  },
  {
   "cell_type": "markdown",
   "id": "797bb238",
   "metadata": {},
   "source": [
    ":::::::::::::::::\n",
    ":::::::::::::::::::::::::::::::\n",
    "\n",
    "### **Centrality**\n",
    "<p style='text-align: justify;'>\n",
    "_Centrality_ can be used to determine the most _important_ node or nodes in a graph. In a network such as a protein-protein interaction network, this would be the protein which interacts with most other proteins in the system. The centrality of each node in a network is calculated as the fraction of nodes in the graph with which is connects.\n",
    "</p>"
   ]
  },
  {
   "cell_type": "code",
   "execution_count": null,
   "id": "11a9c1d1",
   "metadata": {},
   "outputs": [],
   "source": [
    "my_centralities = nx.degree_centrality(myRandom)\n",
    "\n",
    "for index, centr in dict(my_centralities).items():\n",
    "\n",
    "    print(index, '  ', round(centr, 2))\n"
   ]
  },
  {
   "cell_type": "markdown",
   "id": "55d2d367",
   "metadata": {},
   "source": [
    "This produces a dictionary of nodes followed by the centrality value. In this graph, node 8 is the most 'important' node (according to this definition).\n",
    "\n",
    "## Analysing a biological network\n",
    "<p style='text-align: justify;'>\n",
    "*Caenorhabditis elegans* (*C. elegans*) is a nematode used as model organism to study developmental biology, and specifically neuronal development. It is one of the simplest organisms with a nervous system, which makes it particularly suited for this research. The majority of _C. elegans_ individuals are hermaphrodites. The developmental trajectory of each somatic cell (in hermaphrodites 959, in males 1031) has been identified, and is generally consistent between worms. The complete connectome (neuronal map) has been published, originally by White, Southgate, Thomson, and Brenner in 1986, and continues to be researched. Here, we take nodes to represent neurons and edges to represent synapses.\n",
    "</p>\n",
    "\n",
    "### **Getting a network matrix from Dynamic Connectome lab**\n",
    "<p style='text-align: justify;'>\n",
    "In this final section we want to benefit from network information that is stored in a freely available database.\n",
    "There are a number of databases that include information about interactions. In the context of biochemical\n",
    "reaction networks, two prominent examples are the ([KEGG database](http://www.genome.jp/kegg/pathway.html/))\n",
    "and the ([Reactome database](http://www.reactome.org/)). In the previous lesson, we have used an example from the [STRING database](https://string-db.org) which contained data about protein-protein interactions (PPI). Other examples are the [BioGrid Database of Protein, Genetic and Chemical Interactions](https://thebiogrid.org) and the [IntAct Molecular Interaction Database](https://www.ebi.ac.uk/legacy-intact/).\n",
    "</p>\n",
    "<p style='text-align: justify;'>\n",
    "Some researchers also make their data freely available upon publication. In this section we are going to use some simplified data from the [Dynamic Connectome lab](https://www.dynamic-connectome.org/) on the neuronal networks of _C. elegans_. For simplicity, these data have been edited such that only the first 50 of the 131 neurons are included. The Python Pandas library is used to import this data. First, we import the adjacency matrix showing how these neurons connect to each other, and a file containing the name of each neuron.\n",
    "</p>\n",
    "<p style='text-align: justify;'>\n",
    "Then, we convert the adjacency matrix to the Numpy format, and the labels into a dictionary. We then save the labels (each neuron has a name!) in the NetworkX node label format, and convert the adjacency matrix into the NetworkX format. Finally, we give the graph the layout $random$, and draw it.\n",
    "</p>"
   ]
  },
  {
   "cell_type": "code",
   "execution_count": null,
   "id": "ace72cb8",
   "metadata": {},
   "outputs": [],
   "source": [
    "from pandas import read_csv\n",
    "\n",
    "neurons     = read_csv('data/celegans131matrix_50.csv', header = None, dtype = \"float64\")\n",
    "neuronNames = read_csv('data/celegans131labels_50.csv', header = None)\n",
    "\n",
    "neurons     = neurons.to_numpy()\n",
    "neuronNames = neuronNames.to_dict()\n",
    "\n",
    "neuronLabels = neuronNames[0]\n",
    "neuronGraph  = nx.from_numpy_matrix(neurons)\n",
    "\n",
    "neuronLayout = nx.random_layout(neuronGraph)\n",
    "\n",
    "nx.draw(neuronGraph, neuronLayout,\n",
    "        node_size=1500,\n",
    "        node_color='turquoise',\n",
    "        labels = neuronLabels\n",
    "       )\n"
   ]
  },
  {
   "cell_type": "markdown",
   "id": "529eef3a",
   "metadata": {},
   "source": [
    "We can examine this network similar to the way we did for our earlier, smaller networks.\n",
    "\n",
    "For instance, we can confirm the (reduced) number of nodes."
   ]
  },
  {
   "cell_type": "code",
   "execution_count": null,
   "id": "09762ca3",
   "metadata": {},
   "outputs": [],
   "source": [
    "neuronGraph.number_of_nodes()"
   ]
  },
  {
   "cell_type": "markdown",
   "id": "cd8fd07a",
   "metadata": {},
   "source": [
    "<p style='text-align: justify;'>\n",
    "Using the techniques we introduced above, we can interrogate various aspects of this real-world network, such as finding the node with the greatest centrality, assess the average path length, and find out the clustering coefficients.\n",
    "</p>\n",
    "\n",
    "## Exercises\n",
    "\n",
    ":::::::::::::::::::::::::::::::::::::::: challenge\n",
    "## End of chapter Exercises\n",
    "\n",
    "# Assignment\n",
    "\n",
    "1. Compute the number of edges in the above _C. elegans_ neuron network.\n",
    "\n",
    "2. Compute the average clustering coefficient across this network.\n",
    "\n",
    "3. Calculate the centrality of each node.\n",
    "\n",
    "4. Find the average shortest path length.\n",
    "\n",
    "5. Find the shortest path length between neurons 4 and 44.\n",
    "\n",
    "6. Plot the degree distribution of the network with inserted network graph."
   ]
  },
  {
   "cell_type": "markdown",
   "id": "8884b39c",
   "metadata": {},
   "source": [
    "::::::::::::::::::::: solution\n",
    "## Please check these solutions only after submitting the assignments.\n",
    "\n",
    "### Q1"
   ]
  },
  {
   "cell_type": "code",
   "execution_count": null,
   "id": "6907291a",
   "metadata": {
    "results": "hold"
   },
   "outputs": [],
   "source": [
    "print('Number of Edges')\n",
    "print(neuronGraph.number_of_edges())"
   ]
  },
  {
   "cell_type": "markdown",
   "id": "21ec619d",
   "metadata": {},
   "source": [
    ":::::::::::::::::::::\n",
    "\n",
    "::::::::::::::::::::: solution\n",
    "\n",
    "### Q2"
   ]
  },
  {
   "cell_type": "code",
   "execution_count": null,
   "id": "c8286475",
   "metadata": {
    "lines_to_next_cell": 0,
    "results": "hold"
   },
   "outputs": [],
   "source": [
    "print('Clustering Coefficients')\n",
    "print(nx.average_clustering(neuronGraph))"
   ]
  },
  {
   "cell_type": "markdown",
   "id": "c1da1d08",
   "metadata": {},
   "source": [
    ":::::::::::::::::::::\n",
    "\n",
    "::::::::::::::::::::: solution\n",
    "\n",
    "### Q3"
   ]
  },
  {
   "cell_type": "code",
   "execution_count": null,
   "id": "a801588a",
   "metadata": {
    "lines_to_next_cell": 0,
    "results": "hold"
   },
   "outputs": [],
   "source": [
    "print('Degree Centrality')\n",
    "print(nx.degree_centrality(neuronGraph))"
   ]
  },
  {
   "cell_type": "markdown",
   "id": "b4b28a3d",
   "metadata": {},
   "source": [
    ":::::::::::::::::::::\n",
    "\n",
    "::::::::::::::::::::: solution\n",
    "\n",
    "### Q4"
   ]
  },
  {
   "cell_type": "code",
   "execution_count": null,
   "id": "675c7b3c",
   "metadata": {
    "lines_to_next_cell": 0,
    "results": "hold"
   },
   "outputs": [],
   "source": [
    "print('Average shortest path length')\n",
    "print(nx.average_shortest_path_length(neuronGraph))"
   ]
  },
  {
   "cell_type": "markdown",
   "id": "43c45d8b",
   "metadata": {},
   "source": [
    ":::::::::::::::::::::\n",
    "\n",
    "::::::::::::::::::::: solution\n",
    "\n",
    "### Q5"
   ]
  },
  {
   "cell_type": "code",
   "execution_count": null,
   "id": "f37c7fa1",
   "metadata": {
    "lines_to_next_cell": 0,
    "results": "hold"
   },
   "outputs": [],
   "source": [
    "print('Shortest path length between N4 and N44')\n",
    "print([p for p in nx.all_shortest_paths(neuronGraph, source=4, target=44)])"
   ]
  },
  {
   "cell_type": "markdown",
   "id": "0054e5cf",
   "metadata": {},
   "source": [
    ":::::::::::::::::::::\n",
    "\n",
    "::::::::::::::::::::: solution\n",
    "\n",
    "### Q6"
   ]
  },
  {
   "cell_type": "code",
   "execution_count": null,
   "id": "1d382fe6",
   "metadata": {
    "lines_to_next_cell": 0,
    "results": "hold"
   },
   "outputs": [],
   "source": [
    "degree_sequence = sorted([d for n, d in neuronGraph.degree()], reverse=True)  # degree sequence\n",
    "degreeCount = collections.Counter(degree_sequence)\n",
    "deg, cnt = zip(*degreeCount.items())\n",
    "\n",
    "fig, ax = subplots()\n",
    "\n",
    "ax.bar(deg, cnt, width=0.80, color=\"b\")\n",
    "\n",
    "title(\"Degree Distribution\", fontsize=20)\n",
    "ax.set_ylabel(\"Count\", fontsize=16)\n",
    "ax.set_xlabel(\"Degree\", fontsize=16)\n",
    "ax.set_xticks([d for d in deg])\n",
    "ax.set_xticklabels(deg);\n",
    "\n",
    "# draw graph in inset\n",
    "axes([0.4, 0.4, 0.5, 0.5])\n",
    "\n",
    "neuronGraph.subgraph(sorted(nx.connected_components(neuronGraph), key=len, reverse=True)[0]);\n",
    "\n",
    "pos = nx.spring_layout(neuronGraph, seed=2)\n",
    "\n",
    "axis(\"off\")\n",
    "\n",
    "nx.draw_networkx_nodes(neuronGraph, pos, node_size=30, node_color='r');\n",
    "nx.draw_networkx_edges(neuronGraph, pos);\n",
    "show()"
   ]
  },
  {
   "cell_type": "markdown",
   "id": "856ca451",
   "metadata": {},
   "source": [
    ":::::::::::::::::::::\n",
    "\n",
    "::::::::::::::::::::::::::::::::::::::::\n",
    "\n"
   ]
  },
  {
   "cell_type": "markdown",
   "id": "40d2fe5e",
   "metadata": {},
   "source": [
    "::::::::::::::::::::::::::::::::::::: keypoints\n",
    "\n",
    "- The function `randint` creates matrices with randomly assigned integers which are represented as edges.\n",
    "- NetworkX can produce interesting graphs like: `Petersen`, `lobster` and `caterpillar` graphs.\n",
    "- In a symmetric matrix, the `in degree` and the `out degree` arrays are identical.\n",
    "- Large networks can be quantified using e.g. ` the degree distribution`.\n",
    "- Some of the key graph properties include the clustering coefficient, path length, and centrality.\n",
    "\n",
    ":::::::::::::::::::::::::::::::\n",
    "\n",
    "[r-markdown]: https://rmarkdown.rstudio.com/"
   ]
  }
 ],
 "metadata": {
  "jupytext": {
   "cell_metadata_filter": "results,-all",
   "main_language": "python",
   "notebook_metadata_filter": "-all"
  }
 },
 "nbformat": 4,
 "nbformat_minor": 5
}
