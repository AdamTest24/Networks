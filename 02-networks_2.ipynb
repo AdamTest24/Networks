{
 "cells": [
  {
   "cell_type": "raw",
   "id": "7500394e",
   "metadata": {
    "lines_to_next_cell": 0
   },
   "source": [
    "---\n",
    "title: \"Networks - Quantification\"\n",
    "teaching: 60\n",
    "exercises: 60\n",
    "---"
   ]
  },
  {
   "cell_type": "markdown",
   "id": "dc96acc7",
   "metadata": {},
   "source": [
    "[**Download Chapter pdf**](02-networks_2.md.pdf)\n",
    "\n",
    "[**Download Chapter notebook (ipynb)**](02-networks_2.ipynb)\n",
    "\n",
    "[<span style=\"color: rgb(255, 0, 0);\">**Mandatory Lesson Feedback Survey**</span>](https://docs.google.com/forms/d/e/1FAIpQLSdr0capF7jloJhPH3Pki1B3LZoKOG16poOpuVJ7SL2LkwLHQA/viewform?pli=1)\n"
   ]
  },
  {
   "cell_type": "markdown",
   "id": "ded7808b",
   "metadata": {},
   "source": [
    "- How to generate test matrices using NetworkX?\n",
    "- What is the purpose of the node degree and the degree distribution?\n",
    "- How can a network be quantified?\n",
    "\n",
    "- Creating network matrices with random edges.\n",
    "- Quantifying network properties.\n",
    "- Applying networks concepts to the C. elegans neural network.\n",
    "\n",
    "<br>\n",
    "<p align = \"center\">\n",
    "<iframe width=\"560\" height=\"315\" src=\"https://www.youtube.com/embed/nU8ossLYBc4\" title=\"YouTube video player\" frameborder=\"0\" allow=\"accelerometer; autoplay; clipboard-write; encrypted-media; gyroscope; picture-in-picture\" allowfullscreen></iframe>\n",
    "</p>\n",
    "<br>\n",
    "<p align = \"center\">\n",
    "<iframe width=\"560\" height=\"315\" src=\"https://www.youtube.com/embed/3MQNgrtjY-A\" title=\"YouTube video player\" frameborder=\"0\" allow=\"accelerometer; autoplay; clipboard-write; encrypted-media; gyroscope; picture-in-picture\" allowfullscreen></iframe>\n",
    "</p>\n",
    "<br>\n",
    "<p align = \"center\">\n",
    "<iframe width=\"560\" height=\"315\" src=\"https://www.youtube.com/embed/FLF-Hz_PhFs\" title=\"YouTube video player\" frameborder=\"0\" allow=\"accelerometer; autoplay; clipboard-write; encrypted-media; gyroscope; picture-in-picture\" allowfullscreen></iframe>\n",
    "</p>\n",
    "<br>"
   ]
  },
  {
   "cell_type": "markdown",
   "id": "8ff24ac9",
   "metadata": {},
   "source": [
    "## Prerequisites\n",
    "\n",
    "- [Introduction to Networks](01-networks_1.Rmd)\n",
    "\n",
    "\n",
    "\n"
   ]
  },
  {
   "cell_type": "code",
   "execution_count": null,
   "id": "fb9f6e35",
   "metadata": {},
   "outputs": [],
   "source": [
    "import networkx as nx\n",
    "\n",
    "from matplotlib.pyplot import subplots, show"
   ]
  },
  {
   "cell_type": "markdown",
   "id": "062e9b6c",
   "metadata": {},
   "source": [
    "## Generating Test Matrices\n",
    "<p style='text-align: justify;'> \n",
    "NetworkX has a number of ways to create matrices with given specifications. We have seen in the previous lesson that e.g. `zeros((5,5))` creates a $5\\times 5$ matrix filled with zeroes. This speeds up the creation of a network matrix with only a few non-zero entries. Similarly, one can start with function `ones` from Numpy to create a network with few zero entries.\n",
    "</p>\n",
    "<p style='text-align: justify;'>\n",
    "However, to test network code we would like to be able to easily create test matrices without having to fill in the information about the edges manually. Typically, one wants to quickly create an arbitrary number of realisations to study e.g. a distribution of network properties.\n",
    "</p>\n",
    "\n",
    "Here is a way to create matrices with randomly assigned edges using function `randint`.\n"
   ]
  },
  {
   "cell_type": "code",
   "execution_count": null,
   "id": "b28d54a9",
   "metadata": {},
   "outputs": [],
   "source": [
    "from numpy.random import randint\n",
    "\n",
    "nodes = 5\n",
    "\n",
    "rm = randint(0, 2, size=(nodes, nodes))\n",
    "\n",
    "print(rm)"
   ]
  },
  {
   "cell_type": "markdown",
   "id": "71fa9f89",
   "metadata": {},
   "source": [
    "```{.output}\n",
    "[[0 1 1 0 0]\n",
    " [1 0 0 0 1]\n",
    " [0 0 1 1 0]\n",
    " [0 1 0 0 0]\n",
    " [0 0 1 1 0]]\n",
    "```\n",
    "\n",
    "Function $randint$ from the numpy module $random$ is used to create an array or matrix filled with integers.\n",
    "\n",
    "<p style='text-align: justify;'>\n",
    "The first two arguments, two integer numbers, specify which integers to use. The first number is the smallest integer, the second number is the largest integer plus one. The first two numbers work as $(a, b+1)$ so this function will produce numbers (N) in range specified as: $a <= N <= b$. In our case entering $(0, 2)$ will produce zeroes and ones. With $(1, 10)$, all integers from 1 to 9 will be used, all with equal probability. \n",
    "</p>\n",
    "<p style='text-align: justify;'>\n",
    "The keyword argument `size` specifies the dimensions of the matrix. In our case we want a $nodes\\times nodes$ matrix for a specified number of nodes. The output of the code will look different at each function call because each time you execute the code, Python will assign the zeroes and ones randomly.\n",
    "</p>\n",
    "<p style='text-align: justify;'>\n",
    "There are many ways to create network matrices with different specifications. These can be used to test null hypotheses about experimental data. For example, one can generate networks with the same amount of nodes and edges as in an experimental network but with random assignment of edges to test whether the observed connections are likely to be due to chance. Some biological networks seem to have the so-called ['small world' property](https://en.wikipedia.org/wiki/Small-world_network), where in spite of relatively few connections there are quick ways to get from one node to any other node by tracing a path along combinations of edges.\n",
    "</p>\n",
    "<p style='text-align: justify;'>\n",
    "There is a way to have Python return the *same* random numbers when using functions like $randint$ by using the $seed$ function (also from the module $random$). Reproducibility is central to coding, and functions such as this facilitate reproducibility.\n",
    "</p>\n",
    "<p style='text-align: justify;'>\n",
    "The command $seed(1)$ sets the value of the 'seed' used to initialise the random number generator to $1$. The choice of seed value is arbitrary. The important thing is that specifying a value will mean the random number results are reproducible.\n",
    "</p>\n",
    "<p style='text-align: justify;'>\n",
    "When we specify a starting seed value for the number generator it still produces random numbers but will produce the same set of random numbers each time the code is executed. To test this run the following example:\n",
    "</p>\n"
   ]
  },
  {
   "cell_type": "code",
   "execution_count": null,
   "id": "b667d18c",
   "metadata": {},
   "outputs": [],
   "source": [
    "from numpy.random import seed \n",
    "\n",
    "seed(1)\n",
    "\n",
    "rm1 = randint(0, 2, size=(nodes, nodes))\n",
    "\n",
    "print(rm1)"
   ]
  },
  {
   "cell_type": "markdown",
   "id": "d370320e",
   "metadata": {},
   "source": [
    "```{.output}\n",
    "[[1 1 0 0 1]\n",
    " [1 1 1 1 0]\n",
    " [0 1 0 1 1]\n",
    " [0 0 1 0 0]\n",
    " [0 1 0 0 1]]\n",
    "```\n",
    "\n",
    "And repeated:\n"
   ]
  },
  {
   "cell_type": "code",
   "execution_count": null,
   "id": "3dbcca3c",
   "metadata": {},
   "outputs": [],
   "source": [
    "seed(1)\n",
    "\n",
    "rm2 = randint(0, 2, size=(nodes, nodes))\n",
    "\n",
    "print(rm2)"
   ]
  },
  {
   "cell_type": "markdown",
   "id": "19138f4d",
   "metadata": {},
   "source": [
    "```{.output}\n",
    "[[1 1 0 0 1]\n",
    " [1 1 1 1 0]\n",
    " [0 1 0 1 1]\n",
    " [0 0 1 0 0]\n",
    " [0 1 0 0 1]]\n",
    "```\n",
    "\n",
    "Since we set the same (arbitrary) seed for both of these function calls, both produce the same pattern of 1s and 0s. The results are identical:\n"
   ]
  },
  {
   "cell_type": "code",
   "execution_count": null,
   "id": "c31d7740",
   "metadata": {},
   "outputs": [],
   "source": [
    "rm1 == rm2"
   ]
  },
  {
   "cell_type": "markdown",
   "id": "0fe8d0f7",
   "metadata": {},
   "source": [
    "```{.output}\n",
    "array([[ True,  True,  True,  True,  True],\n",
    "       [ True,  True,  True,  True,  True],\n",
    "       [ True,  True,  True,  True,  True],\n",
    "       [ True,  True,  True,  True,  True],\n",
    "       [ True,  True,  True,  True,  True]])\n",
    "```"
   ]
  },
  {
   "cell_type": "markdown",
   "id": "d8fea746",
   "metadata": {},
   "source": [
    "## Do it Yourself\n",
    "\n",
    "Create a $n\\times m$ matrix with randomly distributed integers from 1 to 6 to simulate a group of 3 players throwing a dice 20 times."
   ]
  },
  {
   "cell_type": "markdown",
   "id": "4f491468",
   "metadata": {},
   "source": [
    "## DIY ANSWER"
   ]
  },
  {
   "cell_type": "code",
   "execution_count": null,
   "id": "6f5df40e",
   "metadata": {},
   "outputs": [],
   "source": [
    "players = 3\n",
    "rounds  = 20\n",
    "\n",
    "throws = randint(1, 7, size=(rounds, players))\n",
    "\n",
    "print(throws)"
   ]
  },
  {
   "cell_type": "markdown",
   "id": "de99e84a",
   "metadata": {},
   "source": [
    "```{.output}\n",
    "[[5 3 5]\n",
    " [6 3 5]\n",
    " [2 2 1]\n",
    " [6 2 2]\n",
    " [6 2 2]\n",
    " [1 5 2]\n",
    " [1 1 6]\n",
    " [4 3 2]\n",
    " [1 4 6]\n",
    " [2 2 4]\n",
    " [5 1 2]\n",
    " [4 5 3]\n",
    " [5 1 6]\n",
    " [4 2 3]\n",
    " [1 5 2]\n",
    " [3 3 2]\n",
    " [1 2 4]\n",
    " [6 5 4]\n",
    " [6 2 4]\n",
    " [1 1 3]]\n",
    "```\n"
   ]
  },
  {
   "cell_type": "markdown",
   "id": "19ce55c6",
   "metadata": {},
   "source": [
    "## NetworkX graph types\n",
    "\n",
    "NetworkX has built-in function to produce classic graphs. For example, a [Petersen graph](https://en.wikipedia.org/wiki/Petersen_graph) has 10 nodes and 15 edges.\n"
   ]
  },
  {
   "cell_type": "code",
   "execution_count": null,
   "id": "94285f03",
   "metadata": {},
   "outputs": [],
   "source": [
    "petersen = nx.petersen_graph()\n",
    "\n",
    "layout = nx.spectral_layout(petersen)\n",
    "\n",
    "nx.draw(petersen, with_labels=True)\n",
    "\n",
    "show()"
   ]
  },
  {
   "cell_type": "markdown",
   "id": "275f6cac",
   "metadata": {},
   "source": [
    "<img src=\"fig/02-networks_2-rendered-unnamed-chunk-7-1.png\" width=\"672\" style=\"display: block; margin: auto;\" />\n",
    "\n",
    "Some stochastic graphs can also be generated simply within NetworkX.  A random lobster graph is a graph which becomes a caterpillar graph if all leaf nodes are removed.\n"
   ]
  },
  {
   "cell_type": "code",
   "execution_count": null,
   "id": "6aa9c9de",
   "metadata": {},
   "outputs": [],
   "source": [
    "\n",
    "nodes = 50\n",
    "\n",
    "# p1: Probability of adding an edge to the backbone\n",
    "# p2: Probability of adding an edge one level beyond backbone\n",
    "p1 = 0.9\n",
    "p2 = 0.5\n",
    "\n",
    "lobster = nx.random_lobster(nodes, 0.9, 0.5)\n",
    "\n",
    "layout = nx.spiral_layout(lobster)\n",
    "\n",
    "nx.draw(lobster, layout, with_labels=True)\n",
    "\n",
    "show()"
   ]
  },
  {
   "cell_type": "markdown",
   "id": "0ee9d4f7",
   "metadata": {},
   "source": [
    "<img src=\"fig/02-networks_2-rendered-unnamed-chunk-8-3.png\" width=\"672\" style=\"display: block; margin: auto;\" />\n",
    "\n",
    "<p style='text-align: justify;'>\n",
    "The first argument is the number of nodes in the graph backbone, the second argument is the probability of adding an edge to this main backbone, and the third number gives the probability of adding further edges. Try running it several times, and with different values, to see how it changes.\n",
    "</p>"
   ]
  },
  {
   "cell_type": "markdown",
   "id": "1464fd75",
   "metadata": {},
   "source": [
    "## Do it Yourself"
   ]
  },
  {
   "cell_type": "markdown",
   "id": "e05014d2",
   "metadata": {},
   "source": [
    "Look up the NetworkX documentation, and use the tutorial to plot a [Tutte graph](https://en.wikipedia.org/wiki/Tutte_graph).\t"
   ]
  },
  {
   "cell_type": "markdown",
   "id": "b9d0637e",
   "metadata": {},
   "source": [
    "## DIY ANSWER\n"
   ]
  },
  {
   "cell_type": "code",
   "execution_count": null,
   "id": "9fe369e1",
   "metadata": {},
   "outputs": [],
   "source": [
    "tutte = nx.tutte_graph()\n",
    "\n",
    "layout = nx.spring_layout(tutte, seed=1)\n",
    "\n",
    "nx.draw(tutte, layout,\n",
    "        with_labels=True)\n",
    "show()        "
   ]
  },
  {
   "cell_type": "markdown",
   "id": "79c62bd7",
   "metadata": {},
   "source": [
    "<img src=\"fig/02-networks_2-rendered-unnamed-chunk-9-5.png\" width=\"672\" style=\"display: block; margin: auto;\" />\n"
   ]
  },
  {
   "cell_type": "markdown",
   "id": "37d15d76",
   "metadata": {},
   "source": [
    "## Node degree\n",
    "<p style='text-align: justify;'>\n",
    "Each node within a graph has a number of edges connected to it and this number is referred to as the node (or vertex) **degree**. For example, consider the protein-protein interation graph generated in the previous Lesson, Exercise 1.5. \n",
    "</p>\n",
    "\n",
    "![](fig/mazG.png)\n",
    "\n",
    "The node representing the protein $adk$ has a degree of 4 and $era$ has a degree of 2. \n",
    "<p style='text-align: justify;'>\n",
    "Furthermore the degree in directed graphs (or digraphs) can be split into the **in degree** which counts the number of edges pointing *into* the node and **out degree** which counts the number of edges emanating *from* the node. In the graph generated for Exercise 1.5, the node with index 0 has an _out degree_ of 3, the node with index 0 has an _out degree_ of 3, the node with index 3 has an _in degree_ of 3, and the node with index 1 has a total degree of 4, with an _out degree_ of 2 and an _in degree_ of 2.\n",
    "</p>\n"
   ]
  },
  {
   "cell_type": "code",
   "execution_count": null,
   "id": "18105567",
   "metadata": {},
   "outputs": [],
   "source": [
    "from numpy import array\n",
    "\n",
    "matrixFromArray =  array([[0, 1, 0, 0], \n",
    "                          [0, 1, 0, 1], \n",
    "                          [1, 0, 1, 1], \n",
    "                          [1, 0, 1, 0]])\n",
    "\n",
    "my_graph = nx.from_numpy_matrix(matrixFromArray, create_using=nx.DiGraph)\n",
    "\n",
    "my_graphLayout = nx.spring_layout(my_graph, seed=11)\n",
    "\n",
    "nx.draw(my_graph, my_graphLayout, \n",
    "        node_size=1000,\n",
    "        arrowsize=20,\n",
    "        with_labels=True\n",
    "       )\n",
    "show()"
   ]
  },
  {
   "cell_type": "markdown",
   "id": "0c097b8c",
   "metadata": {},
   "source": [
    "<img src=\"fig/02-networks_2-rendered-unnamed-chunk-10-7.png\" width=\"672\" style=\"display: block; margin: auto;\" />\n",
    "\n",
    "As we discussed in the previous lesson, an edge is set up in a network matrix in the direction (from) row $\\rightarrow$ (to) column. Consider the following network matrix. \n"
   ]
  },
  {
   "cell_type": "code",
   "execution_count": null,
   "id": "edaa7acd",
   "metadata": {},
   "outputs": [],
   "source": [
    "from numpy import array\n",
    "\n",
    "mymatrix =  array([[0, 1, 1, 0, 0], \n",
    "                   [1, 0, 0, 1, 1], \n",
    "                   [1, 0, 0, 0, 0], \n",
    "                   [0, 0, 0, 0, 1], \n",
    "                   [1, 0, 1, 0, 0]])\n",
    "\n",
    "print(mymatrix)"
   ]
  },
  {
   "cell_type": "markdown",
   "id": "154bae8d",
   "metadata": {},
   "source": [
    "```{.output}\n",
    "[[0 1 1 0 0]\n",
    " [1 0 0 1 1]\n",
    " [1 0 0 0 0]\n",
    " [0 0 0 0 1]\n",
    " [1 0 1 0 0]]\n",
    "```\n",
    "\n",
    "<p style='text-align: justify;'>\n",
    "The first _column_ tells us which edges reach the first node (node 0) from another node. Adding the numbers up we find an in degree of 3 for node 0. If we look at the first _row_ we can see that there are two edges originating from node 0, giving an out degree of 2.\n",
    "</p>\n",
    "<p style='text-align: justify;'>\n",
    "Simple as it is, one would nevertheless like to get it done by the computer rather than by hand. In NetworkX there are specific functions to calculate graph qualities such as node degree. To turn the array into a directed graph and get the degree of all nodes in a network described by an adjacency matrix we can use the following code. After the matrix is set up by hand, it is converted into a NetworkX DiGraph object - so NetworkX will parse the directions of the edges as a directed graph.\n",
    "</p>\n",
    "\n",
    "The in degree is calculated, which is the sum over all columns, and the out degree is calculated, which is the sum over all rows.\n",
    "\n"
   ]
  },
  {
   "cell_type": "code",
   "execution_count": null,
   "id": "17a7c201",
   "metadata": {},
   "outputs": [],
   "source": [
    "mygraph = nx.from_numpy_matrix(mymatrix, create_using=nx.DiGraph)\n",
    "\n",
    "mygraph.in_degree"
   ]
  },
  {
   "cell_type": "markdown",
   "id": "ef4f66d1",
   "metadata": {},
   "source": [
    "```{.output}\n",
    "InDegreeView({0: 3, 1: 1, 2: 2, 3: 1, 4: 2})\n",
    "```\n"
   ]
  },
  {
   "cell_type": "code",
   "execution_count": null,
   "id": "05c99c8d",
   "metadata": {},
   "outputs": [],
   "source": [
    "mygraph.out_degree"
   ]
  },
  {
   "cell_type": "markdown",
   "id": "30bf351c",
   "metadata": {},
   "source": [
    "```{.output}\n",
    "OutDegreeView({0: 2, 1: 3, 2: 1, 3: 1, 4: 2})\n",
    "```\n",
    "\n",
    "<p style='text-align: justify;'>\n",
    "The output is viewed as a list of nodes with each node followed by the in/out degree. For example, the first node (node 0) has an in degree of 3 (edges from nodes 1, 2 and 4) and out degree 2 (edges to nodes 1 and 2). If the matrix is symmetric, the in degree and the out degree arrays will be identical. In this case we simply refer to the degree.\n",
    "</p>\n",
    "<p style='text-align: justify;'>\n",
    "This graph can also be visualised to confirm the in and out degree of each node. We have also added a few new customisation options here in the graph, which you can find and amend using the NetworkX documentation.\n",
    "</p>\n"
   ]
  },
  {
   "cell_type": "code",
   "execution_count": null,
   "id": "5664b83e",
   "metadata": {},
   "outputs": [],
   "source": [
    "mygraphLayout = nx.spectral_layout(mygraph)\n",
    "\n",
    "mygraphLabels = {\n",
    "    0: 'Node 0',\n",
    "    1: 'Node 1',\n",
    "    2: 'Node 2',\n",
    "    3: 'Node 3',\n",
    "    4: 'Node 4',\n",
    "}\n",
    "\n",
    "nx.draw(mygraph, mygraphLayout,\n",
    "        labels = mygraphLabels, \n",
    "        node_color = 'lavender',\n",
    "        node_size = 2000, \n",
    "        arrowsize=25, \n",
    "        arrowstyle='->')\n",
    "show()"
   ]
  },
  {
   "cell_type": "markdown",
   "id": "c16bcd50",
   "metadata": {},
   "source": [
    "<img src=\"fig/02-networks_2-rendered-unnamed-chunk-14-9.png\" width=\"672\" style=\"display: block; margin: auto;\" />"
   ]
  },
  {
   "cell_type": "markdown",
   "id": "3d83a035",
   "metadata": {},
   "source": [
    "## Do it Yourself\n",
    "\n",
    "1. Using a random seed of 100, set up a $15\\times 15$ matrix randomly distributed integers 0 and 1.\n",
    "\n",
    "2. Turn this matrix into a NetworkX DiGraph object.\n",
    "\n",
    "3. Calculate the _in_ and _out degrees_ for this graph."
   ]
  },
  {
   "cell_type": "markdown",
   "id": "6148c6ba",
   "metadata": {},
   "source": [
    "## Q1\t"
   ]
  },
  {
   "cell_type": "code",
   "execution_count": null,
   "id": "34a0127f",
   "metadata": {},
   "outputs": [],
   "source": [
    "nodes = 15\n",
    "\n",
    "seed(100)\n",
    "\n",
    "rm_15 = randint(0, 2, size=(nodes, nodes))\n",
    "\n",
    "print(rm_15)"
   ]
  },
  {
   "cell_type": "markdown",
   "id": "cf76b809",
   "metadata": {},
   "source": [
    "```{.output}\n",
    "[[0 0 1 1 1 1 0 0 0 0 0 1 0 0 0]\n",
    " [0 1 0 0 1 0 1 0 0 0 1 1 1 0 0]\n",
    " [1 0 0 1 1 1 1 1 0 0 1 1 1 1 1]\n",
    " [1 1 1 0 1 1 1 0 0 1 1 0 1 0 1]\n",
    " [1 1 0 0 1 0 0 1 1 1 0 0 0 0 0]\n",
    " [0 1 0 1 0 1 0 0 1 1 0 0 0 1 1]\n",
    " [1 1 0 0 1 1 0 0 1 0 1 0 1 0 1]\n",
    " [0 1 0 1 1 0 0 1 0 1 1 0 0 0 0]\n",
    " [0 0 1 0 1 1 0 1 0 0 0 0 0 0 1]\n",
    " [0 1 1 0 0 0 0 1 1 1 1 0 0 1 1]\n",
    " [0 0 1 0 0 0 0 1 1 0 1 0 1 0 1]\n",
    " [0 1 1 1 1 1 1 1 1 0 0 0 0 1 0]\n",
    " [1 0 1 0 0 0 1 0 0 0 1 0 1 1 0]\n",
    " [0 1 1 1 0 1 0 0 0 0 0 1 1 0 0]\n",
    " [1 0 0 0 1 0 1 0 1 1 0 0 0 1 0]]\n",
    "```\n",
    "\n"
   ]
  },
  {
   "cell_type": "markdown",
   "id": "fdbda689",
   "metadata": {},
   "source": [
    "## Q2\t"
   ]
  },
  {
   "cell_type": "code",
   "execution_count": null,
   "id": "e713f15d",
   "metadata": {
    "lines_to_next_cell": 0
   },
   "outputs": [],
   "source": [
    "rm_15_Graph = nx.from_numpy_matrix(rm_15, create_using=nx.DiGraph)"
   ]
  },
  {
   "cell_type": "markdown",
   "id": "e7659157",
   "metadata": {},
   "source": [
    "\n"
   ]
  },
  {
   "cell_type": "markdown",
   "id": "ecb61a69",
   "metadata": {},
   "source": [
    "## Q3\t"
   ]
  },
  {
   "cell_type": "code",
   "execution_count": null,
   "id": "e7fd5c81",
   "metadata": {},
   "outputs": [],
   "source": [
    "# Printing in-degrees\n",
    "print('Index', '    In Degree')\n",
    "\n",
    "for ind, deg in rm_15_Graph.in_degree:\n",
    "    \n",
    "    print('  ', ind, '       ', deg)"
   ]
  },
  {
   "cell_type": "markdown",
   "id": "5e13e57a",
   "metadata": {},
   "source": [
    "```{.output}\n",
    "Index     In Degree\n",
    "   0         6\n",
    "   1         9\n",
    "   2         8\n",
    "   3         6\n",
    "   4         10\n",
    "   5         8\n",
    "   6         6\n",
    "   7         7\n",
    "   8         7\n",
    "   9         6\n",
    "   10         8\n",
    "   11         4\n",
    "   12         7\n",
    "   13         6\n",
    "   14         7\n",
    "```\n"
   ]
  },
  {
   "cell_type": "code",
   "execution_count": null,
   "id": "cd5330e5",
   "metadata": {},
   "outputs": [],
   "source": [
    "# Printing out-degrees\n",
    "print('Index', '   Out Degree')\n",
    "\n",
    "for ind, deg in rm_15_Graph.out_degree:\n",
    "    \n",
    "    print('  ', ind, '       ', deg)"
   ]
  },
  {
   "cell_type": "markdown",
   "id": "cd43af26",
   "metadata": {},
   "source": [
    "```{.output}\n",
    "Index    Out Degree\n",
    "   0         5\n",
    "   1         6\n",
    "   2         11\n",
    "   3         10\n",
    "   4         6\n",
    "   5         7\n",
    "   6         8\n",
    "   7         6\n",
    "   8         5\n",
    "   9         8\n",
    "   10         6\n",
    "   11         9\n",
    "   12         6\n",
    "   13         6\n",
    "   14         6\n",
    "```"
   ]
  },
  {
   "cell_type": "markdown",
   "id": "6c59d6d6",
   "metadata": {},
   "source": [
    "## Degree distribution\n",
    "<p style='text-align: justify;'>\n",
    "It is straightforward to look at the degrees of a network with only a few nodes. However, for large networks with many nodes, the degree will be an array with as many numbers as there are nodes. This requires a more convenient way to summarise this information. An often-used solution is to look at the _degree distribution_. \n",
    "</p>\n",
    "The degree distribution is normally presented as a histogram showing how many times a given degree was found in that network.\n",
    "\n",
    "As an example, for a random $10\\times 10$ matrix: \n"
   ]
  },
  {
   "cell_type": "code",
   "execution_count": null,
   "id": "d9732b33",
   "metadata": {},
   "outputs": [],
   "source": [
    "seed(4)\n",
    "\n",
    "rm_mat = randint(0, 2, size=(10, 10))\n",
    "\n",
    "rm_net = nx.from_numpy_matrix(rm_mat)"
   ]
  },
  {
   "cell_type": "markdown",
   "id": "47c88ca9",
   "metadata": {},
   "source": [
    "The degree distribution can be plotted using NetworkX and matplotlib, here plotted simply with the `hist` plot.\n"
   ]
  },
  {
   "cell_type": "code",
   "execution_count": null,
   "id": "4cbf60cf",
   "metadata": {},
   "outputs": [],
   "source": [
    "\n",
    "# xticks, xticklabels as to integers\n",
    "\n",
    "degs = dict(rm_net.degree()).values()\n",
    "\n",
    "fig, ax = subplots()\n",
    "\n",
    "ax.hist(degs, bins=10);\n",
    "\n",
    "ax.set_title(\"Degree Distribution\", fontsize=20)\n",
    "ax.set_ylabel(\"Count\", fontsize=16)\n",
    "ax.set_xlabel(\"Degree\", fontsize=16);\n",
    "\n",
    "ax.set_xticks([d for d in degs])\n",
    "ax.set_xticklabels(degs)\n",
    "\n",
    "show()"
   ]
  },
  {
   "cell_type": "markdown",
   "id": "5d7840f0",
   "metadata": {},
   "source": [
    "<img src=\"fig/02-networks_2-rendered-unnamed-chunk-20-11.png\" width=\"672\" style=\"display: block; margin: auto;\" />\n",
    "\n",
    "<p style='text-align: justify;'>\n",
    "For a more complex example, we can generate a network with 100 nodes and display its degree distribution (code taken [from the NetworkX documentation](https://networkx.org/documentation/networkx-2.3/auto_examples/drawing/plot_degree_histogram.html)).\n",
    "</p>\n"
   ]
  },
  {
   "cell_type": "code",
   "execution_count": null,
   "id": "951a1603",
   "metadata": {
    "lines_to_next_cell": 2
   },
   "outputs": [],
   "source": [
    "nodes = 100\n",
    "probab = 0.02\n",
    "\n",
    "G = nx.gnp_random_graph(nodes, probab, seed=1)"
   ]
  },
  {
   "cell_type": "code",
   "execution_count": null,
   "id": "44343c20",
   "metadata": {},
   "outputs": [],
   "source": [
    "from matplotlib.pyplot import axes, axis, title\n",
    "\n",
    "import collections\n",
    "\n",
    "degree_sequence = sorted([d for n, d in G.degree()], reverse=True)  # degree sequence\n",
    "degreeCount = collections.Counter(degree_sequence)\n",
    "deg, cnt = zip(*degreeCount.items())\n",
    "\n",
    "fig, ax = subplots()\n",
    "\n",
    "ax.bar(deg, cnt, width=0.80, color=\"b\")\n",
    "\n",
    "title(\"Degree Distribution\", fontsize=20)\n",
    "ax.set_ylabel(\"Count\", fontsize=16)\n",
    "ax.set_xlabel(\"Degree\", fontsize=16)\n",
    "ax.set_xticks([d for d in deg])\n",
    "ax.set_xticklabels(deg);\n",
    "\n",
    "# draw graph in inset\n",
    "axes([0.4, 0.4, 0.5, 0.5])\n",
    "\n",
    "G.subgraph(sorted(nx.connected_components(G), key=len, reverse=True)[0])\n",
    "\n",
    "pos = nx.spring_layout(G, seed=2)\n",
    "\n",
    "axis(\"off\")\n",
    "\n",
    "nx.draw_networkx_nodes(G, pos, node_size=30, node_color='r')\n",
    "nx.draw_networkx_edges(G, pos);\n",
    "\n",
    "show()"
   ]
  },
  {
   "cell_type": "markdown",
   "id": "1f81c0f9",
   "metadata": {},
   "source": [
    "```{.output}\n",
    "<BarContainer object of 8 artists>\n",
    "<networkx.classes.graph.Graph object at 0x7f60248d46d0>\n",
    "(0.0, 1.0, 0.0, 1.0)\n",
    "```\n",
    "\n",
    "<img src=\"fig/02-networks_2-rendered-unnamed-chunk-22-13.png\" width=\"672\" style=\"display: block; margin: auto;\" />\n",
    "\n",
    "This example plots the degree distribution, showing, for example, that 11 nodes in this network have no edges. You can verify that from the overlaid graph (isolated red dots).\n",
    "\n",
    "Note how the degree with highest probability (2) reflects the choice of edge probability of 2%."
   ]
  },
  {
   "cell_type": "markdown",
   "id": "b85cf778",
   "metadata": {},
   "source": [
    "## Do it Yourself\n",
    "\n",
    "1. Change the number of nodes to 1000 and check the maximum of the degree distribution. How does it depend on the number of nodes?\n",
    "\n",
    "2. The second argument in the generation of the graph gives the probability of edge creation. How do both the appearance of the network and the degree distribution change?\n",
    "\t"
   ]
  },
  {
   "cell_type": "markdown",
   "id": "cbbaf309",
   "metadata": {},
   "source": [
    "## Q1\n",
    "``` degree_max = probab / nodes``` \n",
    "\n",
    "\n",
    "```python\n",
    "nodes = 1000\n",
    "probab = 0.02\n",
    "\n",
    "G = nx.gnp_random_graph(nodes, probab, seed=1)\n",
    "\n",
    "degree_sequence = sorted([d for n, d in G.degree()], reverse=True)  # degree sequence\n",
    "degreeCount = collections.Counter(degree_sequence)\n",
    "deg, cnt = zip(*degreeCount.items())\n",
    "\n",
    "fig, ax = subplots()\n",
    "\n",
    "ax.bar(deg, cnt, width=0.80, color=\"b\")\n",
    "\n",
    "title(\"Degree Histogram\", fontsize=20)\n",
    "ax.set_ylabel(\"Count\", fontsize=16)\n",
    "ax.set_xlabel(\"Degree\", fontsize=16)\n",
    "ax.set_xticks([d for d in deg])\n",
    "ax.set_xticklabels(deg);\n",
    "\n",
    "# draw graph in inset\n",
    "axes([0.4, 0.4, 0.5, 0.5])\n",
    "\n",
    "G.subgraph(sorted(nx.connected_components(G), key=len, reverse=True)[0])\n",
    "\n",
    "pos = nx.spring_layout(G, seed=2)\n",
    "\n",
    "axis(\"off\")\n",
    "\n",
    "nx.draw_networkx_nodes(G, pos, node_size=30, node_color='r')\n",
    "nx.draw_networkx_edges(G, pos);\n",
    "\n",
    "show()\n",
    "```\n",
    "\n",
    "```{.output}\n",
    "<BarContainer object of 28 artists>\n",
    "<networkx.classes.graph.Graph object at 0x7f6024576ef0>\n",
    "(0.0, 1.0, 0.0, 1.0)\n",
    "```\n",
    "\n",
    "<img src=\"fig/02-networks_2-rendered-unnamed-chunk-23-15.png\" width=\"672\" style=\"display: block; margin: auto;\" />\n"
   ]
  },
  {
   "cell_type": "markdown",
   "id": "4810dadf",
   "metadata": {},
   "source": [
    "## Q2\n",
    "\n",
    "> The edge probability determines how connected a graph is. The higher the probability, the more connected. With a probability of 1, a fully connected graph is created. The most frequenc degree is given by the above formula."
   ]
  },
  {
   "cell_type": "markdown",
   "id": "79a468b5",
   "metadata": {},
   "source": [
    "## Other Graph Properties\n",
    "### **Clustering coefficient**\n",
    "<p style='text-align: justify;'>\n",
    "As an example of a more complex quantitative measure, we take the clustering coefficient.  \n",
    "We will look at its formula and discuss extreme cases to understand what useful information the measure is supposed to convey. We then practice the use of creating test matrices and do calculations of clustering coefficients of the corresponding networks. \n",
    "</p>\n",
    "\n",
    "##Definition\n",
    "\n",
    "The clustering coefficient is defined by the formula:"
   ]
  },
  {
   "cell_type": "markdown",
   "id": "7f8e802b",
   "metadata": {},
   "source": [
    "$C_u = \\frac{ 2e }{ k(k-1) }$"
   ]
  },
  {
   "cell_type": "markdown",
   "id": "0384176b",
   "metadata": {},
   "source": [
    "<p style='text-align: justify;'>\n",
    "The __clustering coefficient__, here denoted by $C_u$, is a number that is calculated for a single node, $u$. For the calculation one needs to know the degree of the node, $k$. The degree represents the number of direct connections of the node. Nodes connected by an edge are referred to as nearest neighbours, or simply neighbours. Therefore, the degree is also equal to the number of neighbours. Finally, $e$ is the number of edges (connections) between the neighbours of $u$.\n",
    "</p>\n",
    "<p style='text-align: justify;'>\n",
    "The formula is derived as the number of edges between the neighbours divided by the maximally possible number of connections. The maximal number of possible connections of $k$ neighbours is $\\frac{ k(k-1)}{2}$. There are $k\\times k$ elements but if we leave out self-connections it becomes \n",
    "$k\\times (k-1)$. As each edge is included twice (forward and backward) division by 2 gives the number of undirected connections.\n",
    "</p>\n",
    "<p style='text-align: justify;'>\n",
    "This yields some important properties: if there is no connection between any of the neighbours, then $e=0$ and $C_u = 0$. If all neighbours are maximally connected (each node connected to every other node), then \n",
    "$e=\\frac{ k(k-1)}{ 2 }$ and $C_u = 1$. The clustering coefficient therefore tells us the extent to which neighbours of a node are connected among themselves. This definition is valid for undirected networks with no self-connections.\n",
    "</p>\n",
    "We can use random test graphs, as we made earlier, to explore clustering coefficients in NetworkX. Here we'll make a 10 by 10 random graph, setting a seed so it's reproducible.\n",
    "\n",
    "To avoid any self-connections, we put the diagonal of the matrix equal to zero.\n"
   ]
  },
  {
   "cell_type": "code",
   "execution_count": null,
   "id": "079f2509",
   "metadata": {},
   "outputs": [],
   "source": [
    "from numpy import fill_diagonal\n",
    "\n",
    "seed_number = 4\n",
    "nodes = 10\n",
    "\n",
    "seed(seed_number)\n",
    "\n",
    "rm_graph = randint(0, 2, size=(nodes, nodes))\n",
    "fill_diagonal(rm_graph, 0)\n",
    "\n",
    "myRandom = nx.from_numpy_matrix(rm_graph) \n",
    "\n",
    "nx.draw(myRandom, node_color='y', with_labels=True)\n",
    "\n",
    "show()"
   ]
  },
  {
   "cell_type": "markdown",
   "id": "03c05262",
   "metadata": {},
   "source": [
    "<img src=\"fig/02-networks_2-rendered-unnamed-chunk-24-17.png\" width=\"672\" style=\"display: block; margin: auto;\" />\n",
    "\n",
    "<p style='text-align: justify;'>\n",
    "We can now use NetworkX to learn more about this graph. To print a list of the clustering coefficient for each node (calculated with the above formula), we use the function $clustering$.\n",
    "</p>\n"
   ]
  },
  {
   "cell_type": "code",
   "execution_count": null,
   "id": "7918be90",
   "metadata": {},
   "outputs": [],
   "source": [
    "print(nx.clustering(myRandom))"
   ]
  },
  {
   "cell_type": "markdown",
   "id": "ccf7ab34",
   "metadata": {},
   "source": [
    "```{.output}\n",
    "{0: 0.5714285714285714, 1: 0.5238095238095238, 2: 0.8, 3: 0.6666666666666666, 4: 0.8, 5: 0.6, 6: 0.8095238095238095, 7: 0.7142857142857143, 8: 0.6071428571428571, 9: 0.8095238095238095}\n",
    "```\n",
    "\n",
    "With slightly nicer formatting:\n"
   ]
  },
  {
   "cell_type": "code",
   "execution_count": null,
   "id": "1acdfe39",
   "metadata": {},
   "outputs": [],
   "source": [
    "for ind, cc in dict(nx.clustering(myRandom)).items():\n",
    "    \n",
    "    print(ind, '   ', cc)"
   ]
  },
  {
   "cell_type": "markdown",
   "id": "1d26cce5",
   "metadata": {},
   "source": [
    "```{.output}\n",
    "0     0.5714285714285714\n",
    "1     0.5238095238095238\n",
    "2     0.8\n",
    "3     0.6666666666666666\n",
    "4     0.8\n",
    "5     0.6\n",
    "6     0.8095238095238095\n",
    "7     0.7142857142857143\n",
    "8     0.6071428571428571\n",
    "9     0.8095238095238095\n",
    "```\n",
    "\n",
    "To extract the clustering coefficients from the result as a Python list:\n"
   ]
  },
  {
   "cell_type": "code",
   "execution_count": null,
   "id": "e25c6d22",
   "metadata": {},
   "outputs": [],
   "source": [
    "from numpy import around\n",
    "\n",
    "clustcoeffs = list(dict(nx.clustering(myRandom)).values())\n",
    "\n",
    "print(around(clustcoeffs, 2))"
   ]
  },
  {
   "cell_type": "markdown",
   "id": "b78fa525",
   "metadata": {},
   "source": [
    "```{.output}\n",
    "[0.57 0.52 0.8  0.67 0.8  0.6  0.81 0.71 0.61 0.81]\n",
    "```\n",
    "\n",
    "You can also obtain the average clustering coefficient across your graph directly from NetworkX:\n"
   ]
  },
  {
   "cell_type": "code",
   "execution_count": null,
   "id": "e8d89ee5",
   "metadata": {},
   "outputs": [],
   "source": [
    "print(nx.average_clustering(myRandom))"
   ]
  },
  {
   "cell_type": "markdown",
   "id": "28b455f7",
   "metadata": {},
   "source": [
    "```{.output}\n",
    "0.6902380952380953\n",
    "```\n",
    "\n",
    "The number shows that in this graph there is a comparatively high (more than 50%) probability of the neighbours of a node to be connected among themselves. \n",
    "\n",
    "### **Path length**\n",
    "<p style='text-align: justify;'>\n",
    "Simply put, the __path length__ refers to the distance between two nodes in a graph, calculated as the number of edges to get from one to the other. More specific information about a graph can be found by measures that build on the path length, such as the _shortest path length_, _average shortest path length_, and the _shortest path length from node to all reachable nodes_.\n",
    "</p>\n",
    "For illustration, here is how we can find out the shortest path of our graph $myRandom$ from node 0 to node 1. The output is the sequence of nodes along this shortest path. \n"
   ]
  },
  {
   "cell_type": "code",
   "execution_count": null,
   "id": "31f76075",
   "metadata": {},
   "outputs": [],
   "source": [
    "print(nx.shortest_path(myRandom, source=0, target=1))"
   ]
  },
  {
   "cell_type": "markdown",
   "id": "898465a4",
   "metadata": {},
   "source": [
    "```{.output}\n",
    "[0, 2, 1]\n",
    "```\n",
    "\n",
    "<p style='text-align: justify;'>\n",
    "The shortest path from node 0 to node 1 is via node with index 2. This shows that the shortest path between these two nodes only passes through _one other node_. There may  be other paths of the same length, but none which are shorter. If we want to know _all possible_ shortest paths between a pair of nodes, we can do that too.\n",
    "</p>\n"
   ]
  },
  {
   "cell_type": "code",
   "execution_count": null,
   "id": "5cfd5994",
   "metadata": {},
   "outputs": [],
   "source": [
    "my_shortest_paths = nx.all_shortest_paths(myRandom, source=0, target=1)\n",
    "\n",
    "for path in my_shortest_paths:\n",
    "    \n",
    "    print(path)\n",
    "    "
   ]
  },
  {
   "cell_type": "markdown",
   "id": "2ff3112f",
   "metadata": {},
   "source": [
    "```{.output}\n",
    "[0, 2, 1]\n",
    "[0, 3, 1]\n",
    "[0, 4, 1]\n",
    "[0, 6, 1]\n",
    "[0, 9, 1]\n",
    "[0, 5, 1]\n",
    "```\n",
    "\n",
    "There are six possibilities to get from node 0 to node 1 via one intermediate node. \n",
    "\n",
    "As a single summary quantity of a network, we can find the _average shortest path length_:\n"
   ]
  },
  {
   "cell_type": "code",
   "execution_count": null,
   "id": "53e827d6",
   "metadata": {},
   "outputs": [],
   "source": [
    "print(round(nx.average_shortest_path_length(myRandom), 2))"
   ]
  },
  {
   "cell_type": "markdown",
   "id": "c025ae00",
   "metadata": {},
   "source": [
    "```{.output}\n",
    "1.29\n",
    "```"
   ]
  },
  {
   "cell_type": "markdown",
   "id": "c6ed24d5",
   "metadata": {},
   "source": [
    "## Do it Yourself\n",
    "\n",
    "1. Using the $15\\times 15$ matrix you created in Exercise 2.3, calculate the average shortest path length.\n",
    "\n",
    "2. Using the same matrix, print the shortest path length between nodes 2 and 8."
   ]
  },
  {
   "cell_type": "markdown",
   "id": "d9dedc56",
   "metadata": {},
   "source": [
    "## Q1"
   ]
  },
  {
   "cell_type": "code",
   "execution_count": null,
   "id": "73a5b98a",
   "metadata": {},
   "outputs": [],
   "source": [
    "print(round(nx.average_shortest_path_length(rm_15_Graph), 2))"
   ]
  },
  {
   "cell_type": "markdown",
   "id": "25d5cb97",
   "metadata": {},
   "source": [
    "```{.output}\n",
    "1.54\n",
    "```"
   ]
  },
  {
   "cell_type": "markdown",
   "id": "e4ec242a",
   "metadata": {},
   "source": [
    "## Q2"
   ]
  },
  {
   "cell_type": "code",
   "execution_count": null,
   "id": "011c2f22",
   "metadata": {},
   "outputs": [],
   "source": [
    "my_shortest_paths = nx.all_shortest_paths(rm_15_Graph, source=2, target=8)\n",
    "\n",
    "for path in my_shortest_paths:\n",
    "    \n",
    "    print(path)"
   ]
  },
  {
   "cell_type": "markdown",
   "id": "542205b1",
   "metadata": {},
   "source": [
    "```{.output}\n",
    "[2, 4, 8]\n",
    "[2, 5, 8]\n",
    "[2, 6, 8]\n",
    "[2, 10, 8]\n",
    "[2, 11, 8]\n",
    "[2, 14, 8]\n",
    "```"
   ]
  },
  {
   "cell_type": "markdown",
   "id": "82159973",
   "metadata": {},
   "source": [
    "### **Centrality**\n",
    "<p style='text-align: justify;'>\n",
    "_Centrality_ can be used to determine the most _important_ node or nodes in a graph. In a network such as a protein-protein interaction network, this would be the protein which interacts with most other proteins in the system. The centrality of each node in a network is calculated as the fraction of nodes in the graph with which is connects.\n",
    "</p>\n"
   ]
  },
  {
   "cell_type": "code",
   "execution_count": null,
   "id": "6ada5e5a",
   "metadata": {},
   "outputs": [],
   "source": [
    "my_centralities = nx.degree_centrality(myRandom)\n",
    "\n",
    "for index, centr in dict(my_centralities).items():\n",
    "    \n",
    "    print(index, '  ', round(centr, 2))"
   ]
  },
  {
   "cell_type": "markdown",
   "id": "16a2b1a7",
   "metadata": {},
   "source": [
    "```{.output}\n",
    "0    0.78\n",
    "1    0.78\n",
    "2    0.67\n",
    "3    0.44\n",
    "4    0.67\n",
    "5    0.56\n",
    "6    0.78\n",
    "7    0.78\n",
    "8    0.89\n",
    "9    0.78\n",
    "```\n",
    "\n",
    "This produces a dictionary of nodes followed by the centrality value. In this graph, node 8 is the most 'important' node (according to this definition).\n",
    "\n",
    "## Analysing a biological network\n",
    "<p style='text-align: justify;'>\n",
    "*Caenorhabditis elegans* (*C. elegans*) is a nematode used as model organism to study developmental biology, and specifically neuronal development. It is one of the simplest organisms with a nervous system, which makes it particularly suited for this research. The majority of _C. elegans_ individuals are hermaphrodites. The developmental trajectory of each somatic cell (in hermaphrodites 959, in males 1031) has been identified, and is generally consistent between worms. The complete connectome (neuronal map) has been published, originally by White, Southgate, Thomson, and Brenner in 1986, and continues to be researched. Here, we take nodes to represent neurons and edges to represent synapses.\n",
    "</p>\n",
    "\n",
    "### **Getting a network matrix from Dynamic Connectome lab**\n",
    "<p style='text-align: justify;'>\n",
    "In this final section we want to benefit from network information that is stored in a freely available database.\n",
    "There are a number of databases that include information about interactions. In the context of biochemical \n",
    "reaction networks, two prominent examples are the ([KEGG database](http://www.genome.jp/kegg/pathway.html/))\n",
    "and the ([Reactome database](http://www.reactome.org/)). In the previous lesson, we have used an example from the [STRING database](https://string-db.org) which contained data about protein-protein interactions (PPI). Other examples are the [BioGrid Database of Protein, Genetic and Chemical Interactions](https://thebiogrid.org) and the [IntAct Molecular Interaction Database](https://www.ebi.ac.uk/legacy-intact/). \n",
    "</p>\n",
    "<p style='text-align: justify;'>\n",
    "Some researchers also make their data freely available upon publication. In this section we are going to use some simplified data from the [Dynamic Connectome lab](https://www.dynamic-connectome.org/) on the neuronal networks of _C. elegans_. For simplicity, these data have been edited such that only the first 50 of the 131 neurons are included. The Python Pandas library is used to import this data. First, we import the adjacency matrix showing how these neurons connect to each other, and a file containing the name of each neuron.\n",
    "</p>\n",
    "<p style='text-align: justify;'>\n",
    "Then, we convert the adjacency matrix to the Numpy format, and the labels into a dictionary. We then save the labels (each neuron has a name!) in the NetworkX node label format, and convert the adjacency matrix into the NetworkX format. Finally, we give the graph the layout $random$, and draw it.\n",
    "</p>\n"
   ]
  },
  {
   "cell_type": "code",
   "execution_count": null,
   "id": "519566ed",
   "metadata": {},
   "outputs": [],
   "source": [
    "from pandas import read_csv\n",
    "\n",
    "neurons     = read_csv('data/celegans131matrix_50.csv', header = None, dtype = \"float64\")\n",
    "neuronNames = read_csv('data/celegans131labels_50.csv', header = None)\n",
    "\n",
    "neurons     = neurons.to_numpy()\n",
    "neuronNames = neuronNames.to_dict()\n",
    "\n",
    "neuronLabels = neuronNames[0]\n",
    "neuronGraph  = nx.from_numpy_matrix(neurons)   \n",
    "\n",
    "neuronLayout = nx.random_layout(neuronGraph)\n",
    "\n",
    "nx.draw(neuronGraph, neuronLayout, \n",
    "        node_size=1500,\n",
    "        node_color='turquoise',\n",
    "        labels = neuronLabels\n",
    "       )"
   ]
  },
  {
   "cell_type": "markdown",
   "id": "163cc000",
   "metadata": {},
   "source": [
    "We can examine this network similar to the way we did for our earlier, smaller networks.\n",
    "\n",
    "For instance, we can confirm the (reduced) number of nodes.\n"
   ]
  },
  {
   "cell_type": "code",
   "execution_count": null,
   "id": "446dcf58",
   "metadata": {},
   "outputs": [],
   "source": [
    "neuronGraph.number_of_nodes()"
   ]
  },
  {
   "cell_type": "markdown",
   "id": "c9f87782",
   "metadata": {},
   "source": [
    "```{.output}\n",
    "50\n",
    "```\n",
    "\n",
    "<p style='text-align: justify;'>\n",
    "Using the techniques we introduced above, we can interrogate various aspects of this real-world network, such as finding the node with the greatest centrality, assess the average path length, and find out the clustering coefficients.\n",
    "</p>\n",
    "\n",
    "## Exercises\n",
    "\n",
    "## End of chapter Exercises\n",
    "\n",
    "# Assignment\n",
    "\n",
    "1. Compute the number of edges in the above _C. elegans_ neuron network.\n",
    "\n",
    "2. Compute the average clustering coefficient across this network.\n",
    "\n",
    "3. Calculate the centrality of each node.\n",
    "\n",
    "4. Find the average shortest path length.\n",
    "\n",
    "5. Find the shortest path length between neurons 4 and 44.\n",
    "\n",
    "6. Plot the degree distribution of the network with inserted network graph."
   ]
  },
  {
   "cell_type": "markdown",
   "id": "ca05e35e",
   "metadata": {},
   "source": [
    "## Please check these solutions only after submitting the assignments.\n",
    "\n",
    "### Q1\n"
   ]
  },
  {
   "cell_type": "code",
   "execution_count": null,
   "id": "51e4f0ba",
   "metadata": {},
   "outputs": [],
   "source": [
    "print('Number of Edges')\n",
    "print(neuronGraph.number_of_edges())"
   ]
  },
  {
   "cell_type": "markdown",
   "id": "b0225809",
   "metadata": {},
   "source": [
    "```{.output}\n",
    "Number of Edges\n",
    "186\n",
    "```\n"
   ]
  },
  {
   "cell_type": "markdown",
   "id": "29b78b58",
   "metadata": {},
   "source": [
    "### Q2\n"
   ]
  },
  {
   "cell_type": "code",
   "execution_count": null,
   "id": "f79f0c64",
   "metadata": {},
   "outputs": [],
   "source": [
    "print('Clustering Coefficients')\n",
    "print(nx.average_clustering(neuronGraph))"
   ]
  },
  {
   "cell_type": "markdown",
   "id": "caa2a74d",
   "metadata": {},
   "source": [
    "```{.output}\n",
    "Clustering Coefficients\n",
    "0.3174194694194694\n",
    "```"
   ]
  },
  {
   "cell_type": "markdown",
   "id": "043b4a5a",
   "metadata": {},
   "source": [
    "### Q3\n"
   ]
  },
  {
   "cell_type": "code",
   "execution_count": null,
   "id": "82db59e2",
   "metadata": {},
   "outputs": [],
   "source": [
    "print('Degree Centrality')\n",
    "print(nx.degree_centrality(neuronGraph))"
   ]
  },
  {
   "cell_type": "markdown",
   "id": "f3594c39",
   "metadata": {},
   "source": [
    "```{.output}\n",
    "Degree Centrality\n",
    "{0: 0.08163265306122448, 1: 0.14285714285714285, 2: 0.26530612244897955, 3: 0.24489795918367346, 4: 0.061224489795918366, 5: 0.061224489795918366, 6: 0.2040816326530612, 7: 0.22448979591836732, 8: 0.32653061224489793, 9: 0.1020408163265306, 10: 0.1020408163265306, 11: 0.16326530612244897, 12: 0.14285714285714285, 13: 0.061224489795918366, 14: 0.22448979591836732, 15: 0.24489795918367346, 16: 0.08163265306122448, 17: 0.08163265306122448, 18: 0.16326530612244897, 19: 0.2040816326530612, 20: 0.12244897959183673, 21: 0.1020408163265306, 22: 0.02040816326530612, 23: 0.02040816326530612, 24: 0.1020408163265306, 25: 0.08163265306122448, 26: 0.1020408163265306, 27: 0.08163265306122448, 28: 0.22448979591836732, 29: 0.24489795918367346, 30: 0.2857142857142857, 31: 0.2857142857142857, 32: 0.22448979591836732, 33: 0.24489795918367346, 34: 0.2040816326530612, 35: 0.24489795918367346, 36: 0.14285714285714285, 37: 0.12244897959183673, 38: 0.18367346938775508, 39: 0.2040816326530612, 40: 0.061224489795918366, 41: 0.1020408163265306, 42: 0.16326530612244897, 43: 0.12244897959183673, 44: 0.12244897959183673, 45: 0.18367346938775508, 46: 0.18367346938775508, 47: 0.1020408163265306, 48: 0.1020408163265306, 49: 0.02040816326530612}\n",
    "```"
   ]
  },
  {
   "cell_type": "markdown",
   "id": "91a747ce",
   "metadata": {},
   "source": [
    "### Q4\n"
   ]
  },
  {
   "cell_type": "code",
   "execution_count": null,
   "id": "ad041d5a",
   "metadata": {},
   "outputs": [],
   "source": [
    "print('Average shortest path length')\n",
    "print(nx.average_shortest_path_length(neuronGraph))"
   ]
  },
  {
   "cell_type": "markdown",
   "id": "77cfd0b5",
   "metadata": {},
   "source": [
    "```{.output}\n",
    "Average shortest path length\n",
    "2.3518367346938778\n",
    "```"
   ]
  },
  {
   "cell_type": "markdown",
   "id": "e5ddb8e6",
   "metadata": {},
   "source": [
    "### Q5\n"
   ]
  },
  {
   "cell_type": "code",
   "execution_count": null,
   "id": "40490ad5",
   "metadata": {},
   "outputs": [],
   "source": [
    "print('Shortest path length between N4 and N44')\n",
    "print([p for p in nx.all_shortest_paths(neuronGraph, source=4, target=44)])"
   ]
  },
  {
   "cell_type": "markdown",
   "id": "d41f3204",
   "metadata": {},
   "source": [
    "```{.output}\n",
    "Shortest path length between N4 and N44\n",
    "[[4, 15, 42, 44]]\n",
    "```"
   ]
  },
  {
   "cell_type": "markdown",
   "id": "56d6ae5a",
   "metadata": {},
   "source": [
    "### Q6\n"
   ]
  },
  {
   "cell_type": "code",
   "execution_count": null,
   "id": "77779b81",
   "metadata": {},
   "outputs": [],
   "source": [
    "degree_sequence = sorted([d for n, d in neuronGraph.degree()], reverse=True)  # degree sequence\n",
    "degreeCount = collections.Counter(degree_sequence)\n",
    "deg, cnt = zip(*degreeCount.items())\n",
    "\n",
    "fig, ax = subplots()\n",
    "\n",
    "ax.bar(deg, cnt, width=0.80, color=\"b\")\n",
    "\n",
    "title(\"Degree Distribution\", fontsize=20)\n",
    "ax.set_ylabel(\"Count\", fontsize=16)\n",
    "ax.set_xlabel(\"Degree\", fontsize=16)\n",
    "ax.set_xticks([d for d in deg])\n",
    "ax.set_xticklabels(deg);\n",
    "\n",
    "# draw graph in inset\n",
    "axes([0.4, 0.4, 0.5, 0.5])\n",
    "\n",
    "neuronGraph.subgraph(sorted(nx.connected_components(neuronGraph), key=len, reverse=True)[0]);\n",
    "\n",
    "pos = nx.spring_layout(neuronGraph, seed=2)\n",
    "\n",
    "axis(\"off\")\n",
    "\n",
    "nx.draw_networkx_nodes(neuronGraph, pos, node_size=30, node_color='r');\n",
    "nx.draw_networkx_edges(neuronGraph, pos);\n",
    "show()"
   ]
  },
  {
   "cell_type": "markdown",
   "id": "b13f50ec",
   "metadata": {},
   "source": [
    "```{.output}\n",
    "<BarContainer object of 14 artists>\n",
    "(0.0, 1.0, 0.0, 1.0)\n",
    "```\n",
    "\n",
    "<img src=\"fig/02-networks_2-rendered-unnamed-chunk-42-19.png\" width=\"672\" style=\"display: block; margin: auto;\" />\n",
    "\n",
    "\n",
    "\n"
   ]
  },
  {
   "cell_type": "markdown",
   "id": "e4b9ae10",
   "metadata": {},
   "source": [
    "- The function `randint` creates matrices with randomly assigned integers which are represented as edges.\n",
    "- NetworkX can produce interesting graphs like: `Petersen`, `lobster` and `caterpillar` graphs. \n",
    "- In a symmetric matrix, the `in degree` and the `out degree` arrays are identical. \n",
    "- Large networks can be quantified using e.g. ` the degree distribution`.\n",
    "- Some of the key graph properties include the clustering coefficient, path length, and centrality. "
   ]
  },
  {
   "cell_type": "markdown",
   "id": "7551c4a8",
   "metadata": {},
   "source": [
    "[r-markdown]: https://rmarkdown.rstudio.com/"
   ]
  }
 ],
 "metadata": {
  "jupytext": {
   "cell_metadata_filter": "-all",
   "main_language": "python",
   "notebook_metadata_filter": "-all"
  }
 },
 "nbformat": 4,
 "nbformat_minor": 5
}
