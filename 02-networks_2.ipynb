{
 "cells": [
  {
   "cell_type": "raw",
   "id": "87ceaba0",
   "metadata": {
    "lines_to_next_cell": 0
   },
   "source": [
    "---\n",
    "title: \"Networks - Part 2\"\n",
    "teaching: 60\n",
    "exercises: 60\n",
    "---"
   ]
  },
  {
   "cell_type": "markdown",
   "id": "25efef40",
   "metadata": {},
   "source": [
    "[**Download Chapter pdf**]()\n",
    "\n",
    "[**Download Chapter notebook (ipynb)**]()\n",
    "\n",
    "[<span style=\"color: rgb(255, 0, 0);\">**Mandatory Lesson Feedback Survey**</span>](https://docs.google.com/forms/d/e/1FAIpQLSdr0capF7jloJhPH3Pki1B3LZoKOG16poOpuVJ7SL2LkwLHQA/viewform?pli=1)\n"
   ]
  },
  {
   "cell_type": "markdown",
   "id": "482611fc",
   "metadata": {},
   "source": [
    "- \n",
    "-\n",
    "-\n"
   ]
  },
  {
   "cell_type": "markdown",
   "id": "6d9fc184",
   "metadata": {},
   "source": [
    "-\n",
    "-\n",
    "-\n"
   ]
  },
  {
   "cell_type": "markdown",
   "id": "94c6714f",
   "metadata": {},
   "source": [
    "## Prerequisites\n",
    "\n",
    "- [Basic Python]()\n",
    "- [Basic Matplotlib]()\n"
   ]
  },
  {
   "cell_type": "markdown",
   "id": "f58f0ebb",
   "metadata": {},
   "source": [
    "## Example: Protein-protein interactions\n",
    "\n",
    "Protein-protein interactions (PPIs) ([PLoS: Protein–Protein Interactions](https://www.ncbi.nlm.nih.gov/pmc/articles/PMC2891586/)) refer to specific and function physical contact between proteins in vivo. Interactions may be dependant on biological context, organism, definition of interaction, and many other factors. An example of some PPIs can be seen below.\n",
    "\n",
    "![](fig/mazG.png)\n",
    "\n",
    "PPIs may be visualised as a network, in order to give greater context to the protein interactions, and see how changes to one protein may affect another protein several steps removed. A PPI network can be modelled via a graph in which the nodes represent the proteins and the edges represent interactions; an edge from node A to node B indicates protein B interacts with protein A. The diagram above shows the PPI network centred around the protein $mazG$ in *Escherichia coli K12 MG1655*. This is part of a toxin-antitoxin system. These systems generally encode pairs of *toxin* and inhibitory *antitoxin* proteins, are transmitted by plasmids, and likely serve several biological functions including stress tolerance and genome stabilisation. $mazG$ regulates the type II toxin-antitoxin system shown in this network, where $mazF$ is the toxin and $mazE$ is the antitoxin. More details on the proteins in this network can be seen on STRING-DB ([STRING-DB: mazG in E. coli](https://version-11-0b.string-db.org/cgi/network?networkId=b6lw5pU2DeQm))\n",
    "\n",
    "At the end of the example we are going to use Python to draw this PPI network, before this however, we shall begin with some small examples to familiarise you with the elements and properties of small graphs. "
   ]
  },
  {
   "cell_type": "markdown",
   "id": "aa4fada3",
   "metadata": {},
   "source": [
    "## An Introduction to Networks\n",
    "\n",
    "### What is a graph?\n",
    "\n",
    "A graph is an object in mathematics for describing relationships between objects. An simple example of a visual representation of a graph is given below.\n",
    "\n",
    "![](fig/simple_graph2.png)"
   ]
  },
  {
   "cell_type": "markdown",
   "id": "fa3968e2",
   "metadata": {},
   "source": [
    "This graph contains three objects or **nodes** or **vertices** and three links called **edges** or **arcs** between the nodes. Graphs can be used to represent networks.\n",
    "\n",
    "For a formal definition of a graph see, e.g. the [Wikipedia entry](https://en.wikipedia.org/wiki/Graph_theory).\n",
    "\n",
    "If the above graph represented a protein-protein interaction network then the nodes would represent three proteins and the edges represent interactions between them.\n",
    "\n",
    "To add further proteins, you add new nodes to the network. To include further dependencies, you add edges.\n",
    "\n",
    "We shall see below how we can build and modify such a network, and how to represent networks in Python."
   ]
  },
  {
   "cell_type": "markdown",
   "id": "822b1dad",
   "metadata": {},
   "source": [
    "-\n",
    "-\n",
    "-\n",
    "\n"
   ]
  },
  {
   "cell_type": "markdown",
   "id": "2f481379",
   "metadata": {},
   "source": [
    "[r-markdown]: https://rmarkdown.rstudio.com/"
   ]
  }
 ],
 "metadata": {
  "jupytext": {
   "cell_metadata_filter": "-all",
   "main_language": "python",
   "notebook_metadata_filter": "-all"
  }
 },
 "nbformat": 4,
 "nbformat_minor": 5
}
